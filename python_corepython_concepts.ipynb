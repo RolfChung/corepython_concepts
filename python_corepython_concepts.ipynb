{
 "cells": [
  {
   "cell_type": "markdown",
   "id": "d67cefd0-f4df-4023-bbe7-5caa50561908",
   "metadata": {},
   "source": [
    "# Summary\n",
    "\n",
    "<p>\n",
    "This project was started with a preparation for coding interviews in mind.<br>\n",
    "It escalated further into an investigation of core Python concepts.</p>\n",
    "Several topics are investigated, for example:\n",
    "</p>\n",
    "\n",
    "<ul>\n",
    "  <li>performance measurement</li>\n",
    "  <li>memory usage</li>\n",
    "  <li>arrays</li>\n",
    "  <li>dicts</li>\n",
    "  <li>tuple</li>\n",
    "  <li>comprehensions</li>\n",
    "  <li>lambdas</li>\n",
    "  <li>Numpy</li>\n",
    "  <li>data frames</li>\n",
    "  <li>loops</li>\n",
    "  <li>recursion</li>\n",
    "  <li>functional programming and recursion</li>\n",
    "</ul> \n",
    "\n",
    "<p>Also problems like the \"Missing numbers problem\" are considered.<br>\n",
    "However the project is not complete and will be revisted.</p>"
   ]
  },
  {
   "cell_type": "markdown",
   "id": "86848767-81db-4b5b-aac7-6d993644421d",
   "metadata": {},
   "source": [
    "# Import packages"
   ]
  },
  {
   "cell_type": "code",
   "execution_count": 1165,
   "id": "98c09e4c-ecc5-4d71-a6da-505d012bb413",
   "metadata": {},
   "outputs": [],
   "source": [
    "import pandas as pd\n",
    "import numpy as np\n",
    "import random\n",
    "import os as os\n",
    "import time\n",
    "from time import time\n",
    "from time import sleep\n",
    "import itertools\n",
    "import re\n",
    "import pprint\n",
    "import sys\n",
    "import re\n",
    "import json\n",
    "import math\n",
    "import matplotlib.pyplot as plt\n",
    "import seaborn as sns\n",
    "from scipy import stats\n",
    "import psutil\n",
    "import operator\n",
    "import itertools\n",
    "from timeit import timeit\n",
    "\n"
   ]
  },
  {
   "cell_type": "code",
   "execution_count": 1166,
   "id": "a1513d28-cc85-4d6b-9899-53103f96847f",
   "metadata": {},
   "outputs": [
    {
     "name": "stdout",
     "output_type": "stream",
     "text": [
      "['.ipynb_checkpoints', 'csv', 'python_corepython_concepts.ipynb']\n"
     ]
    }
   ],
   "source": [
    "cwd=os.getcwd()\n",
    "# print(cwd)\n",
    "\n",
    "directories = os.listdir()\n",
    "print(directories)"
   ]
  },
  {
   "cell_type": "code",
   "execution_count": 1167,
   "id": "9a39cbc4-7e81-4b21-8a5f-3006d97e980a",
   "metadata": {},
   "outputs": [
    {
     "name": "stdout",
     "output_type": "stream",
     "text": [
      "1557418.6666666667\n",
      "3.6502\n"
     ]
    }
   ],
   "source": [
    "#Psutil working?\n",
    "print(psutil.Process().memory_info().rss / (2 * 24))\n",
    "print(psutil.Process().memory_info().rss / (20000 * 1024))"
   ]
  },
  {
   "cell_type": "markdown",
   "id": "482a062a-eeab-4b4f-8ee6-0c768cf743c9",
   "metadata": {},
   "source": [
    "# Performance measurement of computing processes\n",
    "<p>allows to compare quality of algorithms in terms of runtime and memory.<br>\n",
    "<p>This is points into the top of runtime complexity.<br>\n",
    "In my view measuring actual runtime processes instead of making assumptions about\n",
    "theoretical complexity is preferable.<br>\n",
    "The helper functions below measure runtime and memory allocation.</p>"
   ]
  },
  {
   "cell_type": "code",
   "execution_count": 1168,
   "id": "8d293539-26a5-483b-bd2e-6750a33dd681",
   "metadata": {},
   "outputs": [],
   "source": [
    "def timemeasure(func):\n",
    "    \n",
    "    \"\"\"Measures the execution time of a function = func.\n",
    "    \n",
    "       Args: an input func.\n",
    "       \n",
    "       Returns: the execution time of func.\"\"\"\n",
    "    \n",
    "    # import time\n",
    "    \n",
    "    # main function execution_time \n",
    "    # the nested inner function measures wraps the main function func \n",
    "    # through the outer func execution_time\n",
    "    def wrapper(*args):\n",
    "        start_time_555 = time()\n",
    "        # print(\"starttime:\", start_time)\n",
    "        # Calling the main_function main()\n",
    "        output =  func(*args)\n",
    "        sleep(0.000000001)\n",
    "        endtime_555  = time()\n",
    "        # print(\"endtime:\", endtime)\n",
    "        runtime_555  = endtime_555  - start_time_555 \n",
    "        # print(execution_time)\n",
    "        print(f'Runtime: {runtime_555 : .20f} seconds.')\n",
    "        return output\n",
    "    return wrapper"
   ]
  },
  {
   "cell_type": "code",
   "execution_count": 1169,
   "id": "be4a2101-80cd-4fea-91d3-bbb6179c7c65",
   "metadata": {},
   "outputs": [
    {
     "name": "stdout",
     "output_type": "stream",
     "text": [
      "timemeasure\n",
      "_____________\n",
      "Measures the execution time of a function = func.\n",
      "    \n",
      "       Args: an input func.\n",
      "       \n",
      "       Returns: the execution time of func.\n"
     ]
    }
   ],
   "source": [
    "print(timemeasure.__name__)\n",
    "print(\"_____________\")\n",
    "print(timemeasure.__doc__)"
   ]
  },
  {
   "cell_type": "markdown",
   "id": "33222844-93e8-472b-b19a-d434438b3f97",
   "metadata": {},
   "source": [
    "### Monitoring memory usage of a running Python program\n",
    "<p>This is copied from Geeks.Thanks.<br>\n",
    "<a href=\"https://www.geeksforgeeks.org/monitoring-memory-usage-of-a-running-python-program/\" target=\"_blank\">Geeks</a> \n",
    "</p>"
   ]
  },
  {
   "cell_type": "code",
   "execution_count": 1170,
   "id": "455b225e-ec0f-452a-8d68-4c150c8c0867",
   "metadata": {},
   "outputs": [],
   "source": [
    "# importing libraries\n",
    "# import os\n",
    "# import psutil\n",
    "  \n",
    "# inner psutil function\n",
    "def process_memory():\n",
    "    process = psutil.Process(os.getpid())\n",
    "    mem_info = process.memory_info()\n",
    "    return mem_info.rss\n",
    "  \n",
    "# decorator function\n",
    "def profile(func):\n",
    "    def wrapper(*args, **kwargs):\n",
    "  \n",
    "        mem_before = process_memory()\n",
    "        result = func(*args, **kwargs)\n",
    "        mem_after = process_memory()\n",
    "        print(\"{}: Consumed memory: {:,}\".format(\n",
    "            func.__name__,\n",
    "            mem_before, mem_after, mem_after - mem_before))\n",
    "  \n",
    "        return result\n",
    "    return wrapper"
   ]
  },
  {
   "cell_type": "markdown",
   "id": "2c1cd9dd-b6bd-41b5-b2cd-3007a02de282",
   "metadata": {},
   "source": [
    "# Data structures"
   ]
  },
  {
   "cell_type": "markdown",
   "id": "55400009-48d5-49ce-9d32-bb344a59ff3d",
   "metadata": {},
   "source": [
    "## Arrays & lists\n",
    "### Creating arrays"
   ]
  },
  {
   "cell_type": "code",
   "execution_count": 1171,
   "id": "89475501-68d3-4c17-a02a-6040457a65fc",
   "metadata": {},
   "outputs": [
    {
     "name": "stdout",
     "output_type": "stream",
     "text": [
      "[20, 21, 22, 23, 24, 25, 26, 27, 28, 29, 9]\n",
      "<class 'type'>\n",
      "11\n"
     ]
    }
   ],
   "source": [
    "list_1 = np.arange(20,30,1).tolist()\n",
    "list_1.append(9)\n",
    "\n",
    "print(list_1)\n",
    "print(type)\n",
    "print(len(list_1))"
   ]
  },
  {
   "cell_type": "code",
   "execution_count": 1172,
   "id": "a1dd4dbd-2258-46cc-8062-115c67ddf403",
   "metadata": {},
   "outputs": [
    {
     "name": "stdout",
     "output_type": "stream",
     "text": [
      "[20 21 22 23 24 25 26 27 28 29  9]\n",
      "11\n"
     ]
    }
   ],
   "source": [
    "array_1 = np.array(list_1)\n",
    "print(array_1)\n",
    "print(len(array_1))"
   ]
  },
  {
   "cell_type": "markdown",
   "id": "cb31b79f-9631-46b5-a225-b7e6f1960191",
   "metadata": {},
   "source": [
    "#### Determine the dtype of array elements"
   ]
  },
  {
   "cell_type": "code",
   "execution_count": 1173,
   "id": "d1d23145-58eb-4566-815e-412f070c9e04",
   "metadata": {},
   "outputs": [
    {
     "name": "stdout",
     "output_type": "stream",
     "text": [
      "['1' '2' '3' '4' '5' '6' '7' '8' '9']\n",
      "<class 'numpy.ndarray'>\n",
      "<class 'numpy.str_'>\n"
     ]
    }
   ],
   "source": [
    "list_223 = list(np.arange(1,10,1))\n",
    "array_2 = np.array(list_223, dtype=np.dtype('str'))\n",
    "print(array_2)\n",
    "print(type(array_2))\n",
    "print(type(array_2[0]))"
   ]
  },
  {
   "cell_type": "markdown",
   "id": "3ab9e16d-ee34-4f10-97aa-96485e3ef940",
   "metadata": {},
   "source": [
    "#### Creating an array"
   ]
  },
  {
   "cell_type": "code",
   "execution_count": 1174,
   "id": "7501c0c9-cb81-47c3-b246-9503050c9325",
   "metadata": {},
   "outputs": [
    {
     "name": "stdout",
     "output_type": "stream",
     "text": [
      "[[   3    4    9    9    3    1    4    9    9    9]\n",
      " [5252 9908 1186 2428 3384 6015 2222 6777 4447 6122]\n",
      " [ 455  456  448  444  444  458  455  454  444  447]]\n",
      "<class 'numpy.ndarray'>\n",
      "(3, 10)\n"
     ]
    }
   ],
   "source": [
    "array_33=np.random.randint(1,10, size=10)\n",
    "array_333=np.random.randint(100,10000, size=10)\n",
    "array_444=np.random.randint(444,460, size=10)\n",
    "\n",
    "array_4=np.array([array_33, array_333, array_444])\n",
    "print(array_4)\n",
    "print(type(array_4))\n",
    "print(np.shape(array_4))"
   ]
  },
  {
   "cell_type": "markdown",
   "id": "c253d585-13c5-4e3d-9ce2-05a91e292585",
   "metadata": {},
   "source": [
    "#### Reshaping an array"
   ]
  },
  {
   "cell_type": "code",
   "execution_count": 1175,
   "id": "81742db0-b25c-46dd-8910-67d5a80c352f",
   "metadata": {},
   "outputs": [
    {
     "name": "stdout",
     "output_type": "stream",
     "text": [
      "[[   3    4    9]\n",
      " [   9    3    1]\n",
      " [   4    9    9]\n",
      " [   9 5252 9908]\n",
      " [1186 2428 3384]\n",
      " [6015 2222 6777]\n",
      " [4447 6122  455]\n",
      " [ 456  448  444]\n",
      " [ 444  458  455]\n",
      " [ 454  444  447]]\n",
      "(10, 3)\n"
     ]
    }
   ],
   "source": [
    "array_5=array_4.reshape(10,3)\n",
    "print(array_5)\n",
    "print(np.shape(array_5))"
   ]
  },
  {
   "cell_type": "markdown",
   "id": "b3de3739-7442-4406-819d-e3fd76a51a5e",
   "metadata": {},
   "source": [
    "#### Subsetting"
   ]
  },
  {
   "cell_type": "code",
   "execution_count": 545,
   "id": "fc35b167-8e68-46cf-b88c-17e8dd33ee69",
   "metadata": {},
   "outputs": [
    {
     "data": {
      "text/plain": [
       "array([[   8,    3],\n",
       "       [   5,    9],\n",
       "       [   1,    8],\n",
       "       [3378, 6670]])"
      ]
     },
     "execution_count": 545,
     "metadata": {},
     "output_type": "execute_result"
    }
   ],
   "source": [
    "array_5[0:4, 1:3] # 0:4 - rows, 1-3 - columns"
   ]
  },
  {
   "cell_type": "markdown",
   "id": "fd77ee23-4e60-435c-af30-52b41c7649aa",
   "metadata": {},
   "source": [
    "#### Elementwise processing of math operations"
   ]
  },
  {
   "cell_type": "code",
   "execution_count": 1176,
   "id": "ad5d8dea-ea62-459f-91e2-0e5415018cfe",
   "metadata": {},
   "outputs": [
    {
     "name": "stdout",
     "output_type": "stream",
     "text": [
      "[458 460 457 453 447 459 459 463 453 456]\n",
      "(10,)\n"
     ]
    }
   ],
   "source": [
    "array_33444 = array_33 + array_444\n",
    "print(array_33444)\n",
    "print(np.shape(array_33444))"
   ]
  },
  {
   "cell_type": "code",
   "execution_count": 1177,
   "id": "387674d7-1680-4542-b616-7034f6139047",
   "metadata": {},
   "outputs": [
    {
     "name": "stdout",
     "output_type": "stream",
     "text": [
      "[1365 1824 4032 3996 1332  458 1820 4086 3996 4023]\n",
      "(10,)\n"
     ]
    }
   ],
   "source": [
    "array_33444_multi = array_33 * array_444\n",
    "print(array_33444_multi)\n",
    "print(np.shape(array_33444_multi))"
   ]
  },
  {
   "cell_type": "markdown",
   "id": "f77fb784-23d4-4c29-96e5-3cc3c32baa89",
   "metadata": {},
   "source": [
    "#### Boolean arrays"
   ]
  },
  {
   "cell_type": "code",
   "execution_count": 1179,
   "id": "a324b7f8-9b37-42a3-8677-4f569025046a",
   "metadata": {},
   "outputs": [
    {
     "data": {
      "text/plain": [
       "array([False, False,  True,  True, False, False, False,  True,  True,\n",
       "        True])"
      ]
     },
     "execution_count": 1179,
     "metadata": {},
     "output_type": "execute_result"
    }
   ],
   "source": [
    "array_33444_multi > 3000"
   ]
  },
  {
   "cell_type": "markdown",
   "id": "4a1a03f0-2cdd-4306-abf5-935c61667454",
   "metadata": {},
   "source": [
    "#### Filtering based on conditions"
   ]
  },
  {
   "cell_type": "code",
   "execution_count": 1180,
   "id": "275a8396-9de4-4e1e-897a-a124fae6ab09",
   "metadata": {},
   "outputs": [
    {
     "data": {
      "text/plain": [
       "array([4032, 3996, 4086, 3996, 4023])"
      ]
     },
     "execution_count": 1180,
     "metadata": {},
     "output_type": "execute_result"
    }
   ],
   "source": [
    "array_33444_multi[array_33444_multi > 3000]"
   ]
  },
  {
   "cell_type": "code",
   "execution_count": 1181,
   "id": "eeb1c48e-a500-4fe5-9419-5c70f2d0737c",
   "metadata": {},
   "outputs": [
    {
     "name": "stdout",
     "output_type": "stream",
     "text": [
      "[23, 9, 25, 21, 20, 24, 26, 22, 28, 29, 27]\n",
      "11\n"
     ]
    }
   ],
   "source": [
    "np.random.shuffle(list_1) # shuffles in place\n",
    "print(list_1)\n",
    "print(len(list_1))"
   ]
  },
  {
   "cell_type": "markdown",
   "id": "0b079d49-ead9-4059-b2aa-cf5d8dd27761",
   "metadata": {},
   "source": [
    "#### Broadcasting\n",
    "<p>math operations on arrays of different dimensions.<br>\n",
    "Very important for matrix operations.<br>\n",
    "Essential for example for deep learning.\n",
    "</p>"
   ]
  },
  {
   "cell_type": "code",
   "execution_count": 1183,
   "id": "894b3de8-356b-4caa-a1ea-5319036ad59c",
   "metadata": {},
   "outputs": [
    {
     "name": "stdout",
     "output_type": "stream",
     "text": [
      "[ 9 12 27 27  9  3 12 27 27 27]\n",
      "(10,)\n",
      "(10,)\n"
     ]
    }
   ],
   "source": [
    "array_33_3 = array_33 * 3\n",
    "\n",
    "print(array_33_3)\n",
    "print(np.shape(array_33))\n",
    "print(np.shape(array_33_3))"
   ]
  },
  {
   "cell_type": "markdown",
   "id": "6eaff09e-7732-46af-b530-ae13a9a37537",
   "metadata": {},
   "source": [
    "#### Broadcast error\n",
    "<p>due to different shapes.<br>\n",
    "ValueError: operands could not be broadcast together with shapes (3,10) (10,3)</p>"
   ]
  },
  {
   "cell_type": "code",
   "execution_count": 1184,
   "id": "f81b1618-ac84-43b7-a119-f436706d7dbe",
   "metadata": {},
   "outputs": [
    {
     "name": "stdout",
     "output_type": "stream",
     "text": [
      "(3, 10)\n",
      "(10, 3)\n"
     ]
    }
   ],
   "source": [
    "print(np.shape(array_4))\n",
    "print(np.shape(array_5))\n",
    "# array_4 * array_5"
   ]
  },
  {
   "cell_type": "code",
   "execution_count": 1185,
   "id": "7b6dc8fe-36cc-4a02-9135-25b53dc5cc29",
   "metadata": {},
   "outputs": [
    {
     "name": "stdout",
     "output_type": "stream",
     "text": [
      "(3, 10)\n",
      "[[       9       16       81       81        9        1       16       81\n",
      "        81       81]\n",
      " [27583504 98168464  1406596  5895184 11451456 36180225  4937284 45927729\n",
      "  19775809 37478884]\n",
      " [  207025   207936   200704   197136   197136   209764   207025   206116\n",
      "    197136   199809]]\n"
     ]
    }
   ],
   "source": [
    "# reshaping\n",
    "array_6 = array_5.reshape(3,10)\n",
    "array_45_2 = array_4 * array_6.reshape(3,10)\n",
    "print(np.shape(array_45_2))\n",
    "print(array_45_2)"
   ]
  },
  {
   "cell_type": "markdown",
   "id": "db58d461-12ab-470c-b669-8fbbdf2886d8",
   "metadata": {},
   "source": [
    "#### Matrix multiplication\n",
    "<p>works on ground of matrix operation rules, <br>\n",
    "whereby rows of the first array are multiplicated with cols of the second array.\n",
    "</p>"
   ]
  },
  {
   "cell_type": "code",
   "execution_count": 1187,
   "id": "45ea66bf-fada-42ea-9e06-29ac81960421",
   "metadata": {},
   "outputs": [
    {
     "name": "stdout",
     "output_type": "stream",
     "text": [
      "(3, 3)\n",
      "[[   39709    93517   120147]\n",
      " [58050575 55789018 85119502]\n",
      " [ 5923194  7825538  9824527]]\n"
     ]
    }
   ],
   "source": [
    "dot_1 = np.dot(array_4, array_5)\n",
    "\n",
    "print(np.shape(dot_1))\n",
    "print(dot_1)"
   ]
  },
  {
   "cell_type": "code",
   "execution_count": 1188,
   "id": "74d4a2e9-2986-4939-874f-72472d677353",
   "metadata": {},
   "outputs": [
    {
     "name": "stdout",
     "output_type": "stream",
     "text": [
      "(10, 10)\n",
      "[25112 43748  8803 13735 17541 28185 12995 31221 21811 28538]\n"
     ]
    }
   ],
   "source": [
    "dot_2 = np.dot(array_5, array_4)\n",
    "\n",
    "print(np.shape(dot_2))\n",
    "print(dot_2[0])"
   ]
  },
  {
   "cell_type": "markdown",
   "id": "1fae58b8-3597-4b45-b1fb-3c21f8b0366f",
   "metadata": {},
   "source": [
    "#### Numpy arrays versus list \n",
    "<p>when doing element-wise operations.</p>"
   ]
  },
  {
   "cell_type": "code",
   "execution_count": 1190,
   "id": "6809a65f-9bc5-4779-a5ab-bad408ca7212",
   "metadata": {},
   "outputs": [
    {
     "name": "stdout",
     "output_type": "stream",
     "text": [
      "[[1, 2, 3, 4, 5], [6, 7, 8, 9, 10]]\n"
     ]
    }
   ],
   "source": [
    "list_a56 = [list(np.arange(1,6,1)), list(np.arange(6,11,1))]\n",
    "print(list_a56)"
   ]
  },
  {
   "cell_type": "markdown",
   "id": "230dadc8-dca0-405d-8f5a-9887388ad24e",
   "metadata": {},
   "source": [
    "#### Multiply every element of this nested list with 17"
   ]
  },
  {
   "cell_type": "code",
   "execution_count": 1191,
   "id": "f874d1f9-323c-499c-9a94-40816b174a3e",
   "metadata": {},
   "outputs": [
    {
     "name": "stdout",
     "output_type": "stream",
     "text": [
      "34\n"
     ]
    },
    {
     "data": {
      "text/plain": [
       "[[1, 2, 3, 4, 5], [6, 7, 8, 9, 10], [1, 2, 3, 4, 5], [6, 7, 8, 9, 10]]"
      ]
     },
     "execution_count": 1191,
     "metadata": {},
     "output_type": "execute_result"
    }
   ],
   "source": [
    "# This naive approach does not work\n",
    "print(len((list_a56*17)))\n",
    "(list_a56*17)[:4]"
   ]
  },
  {
   "cell_type": "markdown",
   "id": "a975770e-5eaf-4bea-a628-95f3887e25ae",
   "metadata": {},
   "source": [
    "<p>More code is necessary, while map makes it even comparable easy.</p>"
   ]
  },
  {
   "cell_type": "code",
   "execution_count": 1192,
   "id": "cf57ba25-8d43-45f5-86cb-32506ec2d56e",
   "metadata": {},
   "outputs": [
    {
     "name": "stdout",
     "output_type": "stream",
     "text": [
      "[[17, 34, 51, 68, 85], [102, 119, 136, 153, 170]]\n"
     ]
    }
   ],
   "source": [
    "list_elementwise_55 = list(map(lambda z: [n*17 for n in z],  list_a56))\n",
    "print(list_elementwise_55)"
   ]
  },
  {
   "cell_type": "markdown",
   "id": "9518d2bd-cfdc-417c-9fcc-2de1f02b1491",
   "metadata": {},
   "source": [
    "<p>Elementwise operations on Numpy arrays afford little code,<br>\n",
    "as arrays are optimized for this other than lists.</p>"
   ]
  },
  {
   "cell_type": "code",
   "execution_count": 1193,
   "id": "238874fe-862c-46ff-b550-4aa0c2b5d865",
   "metadata": {},
   "outputs": [
    {
     "data": {
      "text/plain": [
       "array([[ 17,  34,  51,  68,  85],\n",
       "       [102, 119, 136, 153, 170]])"
      ]
     },
     "execution_count": 1193,
     "metadata": {},
     "output_type": "execute_result"
    }
   ],
   "source": [
    "np.array(list_a56) * 17"
   ]
  },
  {
   "cell_type": "code",
   "execution_count": 1194,
   "id": "8f06fce7-dc8f-4782-9b23-d17cd8bb8354",
   "metadata": {},
   "outputs": [
    {
     "name": "stdout",
     "output_type": "stream",
     "text": [
      "<class 'numpy.ndarray'>\n",
      "<class 'list'>\n",
      "[1, 2, 3, 4, 5, 6, 7, 8, 9, 10, 11, 12, 13, 14, 15, 16, 17, 18, 19, 20]\n"
     ]
    }
   ],
   "source": [
    "array_1001 = np.arange(1,21,1)\n",
    "list_1001 = array_1001.tolist()\n",
    "\n",
    "print(type(array_1001))\n",
    "print(type(list_1001))\n",
    "print(list_1001)"
   ]
  },
  {
   "cell_type": "code",
   "execution_count": 1195,
   "id": "08ed46b5-d71b-4dfa-9721-86a9f1e418a1",
   "metadata": {},
   "outputs": [
    {
     "name": "stdout",
     "output_type": "stream",
     "text": [
      "2\n",
      "4\n",
      "6\n",
      "8\n",
      "10\n",
      "12\n",
      "14\n",
      "16\n",
      "18\n",
      "20\n"
     ]
    }
   ],
   "source": [
    "even_numbers_1001 = filter(lambda u: u % 2 == 0, list_1001)\n",
    "for i in even_numbers_1001:\n",
    "    print(i)"
   ]
  },
  {
   "cell_type": "code",
   "execution_count": 1196,
   "id": "c4d33c0c-9658-4ebe-9b2c-54b7d4b28da9",
   "metadata": {},
   "outputs": [
    {
     "data": {
      "text/plain": [
       "array([ 2,  4,  6,  8, 10, 12, 14, 16, 18, 20])"
      ]
     },
     "execution_count": 1196,
     "metadata": {},
     "output_type": "execute_result"
    }
   ],
   "source": [
    "array_1001[array_1001 % 2 == 0]"
   ]
  },
  {
   "cell_type": "code",
   "execution_count": 1197,
   "id": "44f892ff-54c3-4938-b511-36fe80b04363",
   "metadata": {},
   "outputs": [
    {
     "name": "stdout",
     "output_type": "stream",
     "text": [
      "3\n"
     ]
    }
   ],
   "source": [
    "list_of_lists_3 =\\\n",
    "[np.arange(1,11,1).tolist(), np.arange(11,21,1).tolist(), np.arange(21,31,1).tolist()]\n",
    "\n",
    "print(len(list_of_lists_3))"
   ]
  },
  {
   "cell_type": "code",
   "execution_count": 1198,
   "id": "9471d305-2131-4395-a97d-e9608c57877f",
   "metadata": {},
   "outputs": [
    {
     "data": {
      "text/plain": [
       "[[1, 2], [11, 12], [21, 22]]"
      ]
     },
     "execution_count": 1198,
     "metadata": {},
     "output_type": "execute_result"
    }
   ],
   "source": [
    "[p[:2] for p in list_of_lists_3]"
   ]
  },
  {
   "cell_type": "code",
   "execution_count": 1199,
   "id": "5234bdeb-c559-4af2-915f-c79416b964c1",
   "metadata": {},
   "outputs": [
    {
     "name": "stdout",
     "output_type": "stream",
     "text": [
      "30\n"
     ]
    }
   ],
   "source": [
    "list_of_lists_100 = [[i*i+100 for i in p] for p in list_of_lists_3 ]\n",
    "len_list_of_lists_100 = sum([len(i)  for i in list_of_lists_100])\n",
    "print(len_list_of_lists_100)"
   ]
  },
  {
   "cell_type": "code",
   "execution_count": 1200,
   "id": "4365b996-44a2-4d32-8fa2-a7ead5f91f72",
   "metadata": {},
   "outputs": [
    {
     "name": "stdout",
     "output_type": "stream",
     "text": [
      "[[ 101  104  109  116  125  136  149  164  181  200]\n",
      " [ 221  244  269  296  325  356  389  424  461  500]\n",
      " [ 541  584  629  676  725  776  829  884  941 1000]]\n"
     ]
    }
   ],
   "source": [
    "list_of_lists_array = \\\n",
    "np.array(list_of_lists_3) * np.array(list_of_lists_3) + 100\n",
    "\n",
    "print(list_of_lists_array)"
   ]
  },
  {
   "cell_type": "code",
   "execution_count": 1201,
   "id": "a3a8e5c0-1731-4cf7-a54d-1d4cecadb31e",
   "metadata": {},
   "outputs": [
    {
     "name": "stdout",
     "output_type": "stream",
     "text": [
      "[[101, 104, 109, 116, 125, 136, 149, 164, 181, 200], [221, 244, 269, 296, 325, 356, 389, 424, 461, 500], [541, 584, 629, 676, 725, 776, 829, 884, 941, 1000]]\n"
     ]
    }
   ],
   "source": [
    "print(list_of_lists_100)"
   ]
  },
  {
   "cell_type": "code",
   "execution_count": 1202,
   "id": "623d1991-c9b0-4954-a14a-ddab5582626c",
   "metadata": {},
   "outputs": [
    {
     "name": "stdout",
     "output_type": "stream",
     "text": [
      "(3, 10)\n",
      "30\n"
     ]
    }
   ],
   "source": [
    "print(np.shape(list_of_lists_array))\n",
    "print(np.shape(list_of_lists_array)[0] * np.shape(list_of_lists_array)[1])"
   ]
  },
  {
   "cell_type": "markdown",
   "id": "0ae19ad6-c964-4560-b6d3-a42c1226579c",
   "metadata": {},
   "source": [
    "### Sorting list with sort\n",
    "<p> in place. </p>"
   ]
  },
  {
   "cell_type": "code",
   "execution_count": 1204,
   "id": "5d5f1d25-d4ec-4677-8049-528855cc1ba3",
   "metadata": {},
   "outputs": [
    {
     "name": "stdout",
     "output_type": "stream",
     "text": [
      "[9, 20, 21, 22, 23, 24, 25, 26, 27, 28, 29]\n"
     ]
    }
   ],
   "source": [
    "list_1.sort()\n",
    "print(list_1)"
   ]
  },
  {
   "cell_type": "code",
   "execution_count": 1205,
   "id": "fd59c366-f815-4571-9977-106d9c89928e",
   "metadata": {},
   "outputs": [
    {
     "name": "stdout",
     "output_type": "stream",
     "text": [
      "[0.98, 1000, 1100, 1200, 1300, 1400, 1500, 1600, 1700, 1800, 1900]\n",
      "<class 'list'>\n",
      "11\n"
     ]
    }
   ],
   "source": [
    "list_2 = np.arange(1000,2000,100).tolist()\n",
    "list_2.insert(0, 0.98)\n",
    "\n",
    "print(list_2)\n",
    "print(type(list_2))\n",
    "print(len(list_2))"
   ]
  },
  {
   "cell_type": "markdown",
   "id": "ee5d186b-41b1-4676-a3e5-366ac4af854c",
   "metadata": {},
   "source": [
    "### Sorting list with sorted\n",
    "<p> with assignement. </p>"
   ]
  },
  {
   "cell_type": "code",
   "execution_count": 1207,
   "id": "70fa8b35-e05c-42fe-90ae-a8dd213cb719",
   "metadata": {},
   "outputs": [
    {
     "name": "stdout",
     "output_type": "stream",
     "text": [
      "[0.98, 1000, 1100, 1200, 1300, 1400, 1500, 1600, 1700, 1800, 1900]\n",
      "<class 'list'>\n",
      "11\n"
     ]
    }
   ],
   "source": [
    "list_21 = sorted(list_2)\n",
    "\n",
    "print(list_21)\n",
    "print(type(list_21))\n",
    "print(len(list_21))"
   ]
  },
  {
   "cell_type": "code",
   "execution_count": 1208,
   "id": "15c93f00-3384-4f18-9310-7ed85ba0f87b",
   "metadata": {},
   "outputs": [
    {
     "name": "stdout",
     "output_type": "stream",
     "text": [
      "[0.98, 0, 1, 2, 3, 4, 5, 6, 7, 8, 9]\n",
      "11\n"
     ]
    }
   ],
   "source": [
    "list_3 = np.arange(0,10,1).tolist()\n",
    "list_3.insert(0, 0.98)\n",
    "\n",
    "print(list_3)\n",
    "print(len(list_3))"
   ]
  },
  {
   "cell_type": "markdown",
   "id": "eebc8d9f-71c8-4f61-b12d-5dee26bfab92",
   "metadata": {},
   "source": [
    "#### Remove-method"
   ]
  },
  {
   "cell_type": "code",
   "execution_count": 1210,
   "id": "6a83311e-d563-424c-b423-23f4d6d1ba4f",
   "metadata": {},
   "outputs": [
    {
     "name": "stdout",
     "output_type": "stream",
     "text": [
      "[0, 'moon', 'star', 49, True]\n",
      "['sun', 2, 'venus', 'mars', 122, 67, False]\n"
     ]
    }
   ],
   "source": [
    "list_34 = [\"sun\", 0, \"moon\", \"star\", 49, 67, True]\n",
    "list_45 = [\"sun\", 2, \"venus\", \"mars\", 122, 67, False]\n",
    "\n",
    "for element in list_34:\n",
    "    if element in list_45:\n",
    "        list_34.remove(element)\n",
    "        \n",
    "print(list_34)\n",
    "print(list_45)"
   ]
  },
  {
   "cell_type": "markdown",
   "id": "f82c9c37-b48d-4f2f-9c09-7e32f510b66c",
   "metadata": {},
   "source": [
    "#### List comprehensions"
   ]
  },
  {
   "cell_type": "code",
   "execution_count": 1211,
   "id": "09c6ff86-0700-4cc0-a630-1447d8c5f012",
   "metadata": {},
   "outputs": [
    {
     "name": "stdout",
     "output_type": "stream",
     "text": [
      "[1, 2, 3, 4, 5, 6, 7, 8, 9, 10]\n"
     ]
    }
   ],
   "source": [
    "n_list=[n for n in range(1,11)]\n",
    "print(n_list)"
   ]
  },
  {
   "cell_type": "code",
   "execution_count": 1212,
   "id": "28ceede6-264a-44a7-aca8-b1061e5a6a70",
   "metadata": {},
   "outputs": [
    {
     "name": "stdout",
     "output_type": "stream",
     "text": [
      "[2, 4, 6, 8, 10]\n"
     ]
    }
   ],
   "source": [
    "n_even=[n for n in range(1,11) if n % 2 == 0]\n",
    "print(n_even)"
   ]
  },
  {
   "cell_type": "code",
   "execution_count": 1213,
   "id": "2977e4bd-a59d-4e5d-b696-171b103dfc52",
   "metadata": {},
   "outputs": [
    {
     "data": {
      "text/plain": [
       "'Caesar, when he Observes this, draws off his Forces to the next Hill, and sent the cavalry to sustain the Attack of the Enemy.'"
      ]
     },
     "execution_count": 1213,
     "metadata": {},
     "output_type": "execute_result"
    }
   ],
   "source": [
    "gallico_111 = \\\n",
    "\"Caesar, when he Observes this, draws off his Forces to the next Hill, and sent \\\n",
    "the cavalry to sustain the Attack of the Enemy.\"\n",
    "\n",
    "gallico_111"
   ]
  },
  {
   "cell_type": "code",
   "execution_count": 1214,
   "id": "0021b983-c418-4ecf-97a7-4ba17f5b3690",
   "metadata": {},
   "outputs": [
    {
     "name": "stdout",
     "output_type": "stream",
     "text": [
      "[4, 2, 5, 5, 3, 3, 2, 3, 4, 3, 4, 3, 7, 2, 7, 3, 2, 3]\n"
     ]
    }
   ],
   "source": [
    "length_lowercase_words = \\\n",
    "[len(word) for word in re.split(\" \", gallico_111) if word.islower()]\n",
    "\n",
    "print(length_lowercase_words)"
   ]
  },
  {
   "cell_type": "markdown",
   "id": "f83c3a97-d20e-441b-ace2-942a474ca5b8",
   "metadata": {},
   "source": [
    "#### Building pairs"
   ]
  },
  {
   "cell_type": "code",
   "execution_count": 1216,
   "id": "17dc1263-9304-417b-b13b-afdf8ade6b1c",
   "metadata": {},
   "outputs": [
    {
     "name": "stdout",
     "output_type": "stream",
     "text": [
      "[(233, 'X'), (233, 'Y'), (233, 'Z'), (233, 'Q'), (333, 'X'), (333, 'Y'), (333, 'Z'), (333, 'Q'), (433, 'X'), (433, 'Y'), (433, 'Z'), (433, 'Q'), (533, 'X'), (533, 'Y'), (533, 'Z'), (533, 'Q')]\n",
      "16\n"
     ]
    }
   ],
   "source": [
    "n = [233, 333, 433, 533]\n",
    "c = [\"X\", \"Y\", \"Z\", \"Q\"]\n",
    "\n",
    "pairs = [(i, j) for i in n for j in c]\n",
    "print(pairs)\n",
    "print(len(pairs))"
   ]
  },
  {
   "cell_type": "code",
   "execution_count": 1217,
   "id": "40f1d496-1b92-4cae-a164-d41e3608853d",
   "metadata": {},
   "outputs": [
    {
     "name": "stdout",
     "output_type": "stream",
     "text": [
      "[[(233, 'X'), (333, 'X'), (433, 'X'), (533, 'X')], [(233, 'Y'), (333, 'Y'), (433, 'Y'), (533, 'Y')], [(233, 'Z'), (333, 'Z'), (433, 'Z'), (533, 'Z')], [(233, 'Q'), (333, 'Q'), (433, 'Q'), (533, 'Q')]]\n",
      "4\n"
     ]
    }
   ],
   "source": [
    "pairs_2 = [[(i, j) for i in n] for j in c]\n",
    "print(pairs_2)\n",
    "print(len(pairs_2))"
   ]
  },
  {
   "cell_type": "code",
   "execution_count": 1218,
   "id": "db90d679-d9fa-4a94-a581-0cd71f4fe3cc",
   "metadata": {},
   "outputs": [
    {
     "name": "stdout",
     "output_type": "stream",
     "text": [
      "[('X', 233), ('Y', 233), ('Z', 233), ('Q', 233), ('X', 333), ('Y', 333), ('Z', 333), ('Q', 333), ('X', 433), ('Y', 433), ('Z', 433), ('Q', 433), ('X', 533), ('Y', 533), ('Z', 533), ('Q', 533)]\n",
      "16\n"
     ]
    }
   ],
   "source": [
    "pairs_2 = [(j, i) for i in n for j in c]\n",
    "print(pairs_2)\n",
    "print(len(pairs_2))"
   ]
  },
  {
   "cell_type": "markdown",
   "id": "c5e765a4-488f-46ad-859a-da1092235bd6",
   "metadata": {},
   "source": [
    "#### Bag of words\n",
    "<p>\n",
    "Counting occurrences of words in a text.\n",
    "</p>"
   ]
  },
  {
   "cell_type": "code",
   "execution_count": 1220,
   "id": "e3d280fd-4422-4b18-a78f-27cbe79781bf",
   "metadata": {},
   "outputs": [
    {
     "name": "stdout",
     "output_type": "stream",
     "text": [
      "['Caesar,', 'when', 'he', 'observes']\n"
     ]
    }
   ],
   "source": [
    "gallico_4444 =\\\n",
    "\"Caesar, when he observes this, draws off his forces to the next hill, and sent the \\\n",
    "cavalry to sustain the attack of the enemy. He himself, meanwhile, drew up on the \\\n",
    "middle of the hill a triple line of his four veteran legions in such a manner, \\\n",
    "that he placed above him on the very summit the two legions, which he had lately \\\n",
    "levied in Hither Gaul, and all the auxiliaries; and he ordered that the whole \\\n",
    "mountain should be covered with men, and that meanwhile the baggage should be \\\n",
    "brought together into one place, and the position be protected by those who were \\\n",
    "posted in the upper line.\"\n",
    "\n",
    "gallico_4444_list = re.split(\" \", gallico_4444)\n",
    "print(gallico_4444_list[:4])"
   ]
  },
  {
   "cell_type": "code",
   "execution_count": 1221,
   "id": "fdc397ef-23bb-4712-82db-0a6c923c2535",
   "metadata": {},
   "outputs": [
    {
     "name": "stdout",
     "output_type": "stream",
     "text": [
      "['caesar,', 'when', 'he']\n"
     ]
    }
   ],
   "source": [
    "gallico_words = [w.lower() for w in gallico_4444_list]\n",
    "print(gallico_words[:3])"
   ]
  },
  {
   "cell_type": "markdown",
   "id": "f1abd0e6-20a4-4e0e-92b5-b4c87735f791",
   "metadata": {},
   "source": [
    "<p>Unique words in the text.</p>"
   ]
  },
  {
   "cell_type": "code",
   "execution_count": 1223,
   "id": "16cbd9b4-2b1d-41bb-8df3-f0dbf90cc35e",
   "metadata": {},
   "outputs": [
    {
     "name": "stdout",
     "output_type": "stream",
     "text": [
      "76\n",
      "['this,', 'triple', 'who', 'with', 'should']\n"
     ]
    }
   ],
   "source": [
    "gallico_set = set(gallico_words)\n",
    "print(len(gallico_set))\n",
    "\n",
    "gallico_set_list = list(gallico_set)\n",
    "print(gallico_set_list[:5])"
   ]
  },
  {
   "cell_type": "markdown",
   "id": "5a500894-1261-4331-8b3a-8129101358b5",
   "metadata": {},
   "source": [
    "<p>Counting the number of occurrences of unique words.</p>"
   ]
  },
  {
   "cell_type": "code",
   "execution_count": 1224,
   "id": "c88c6e56-ec1d-4658-a66e-b47618977577",
   "metadata": {},
   "outputs": [
    {
     "name": "stdout",
     "output_type": "stream",
     "text": [
      "109\n",
      "[('caesar,', 1), ('when', 1), ('he', 5), ('observes', 1), ('this,', 1)]\n"
     ]
    }
   ],
   "source": [
    "gallico_tuples = [(w, gallico_words.count(w)) for w in gallico_words]\n",
    "\n",
    "print(len(gallico_tuples))\n",
    "print(gallico_tuples[:5])"
   ]
  },
  {
   "cell_type": "code",
   "execution_count": 1225,
   "id": "8579ce39-8385-423a-9c85-16daff7e2e78",
   "metadata": {},
   "outputs": [
    {
     "data": {
      "text/plain": [
       "{'caesar,': 1, 'when': 1, 'he': 5, 'observes': 1, 'this,': 1, 'draws': 1}"
      ]
     },
     "execution_count": 1225,
     "metadata": {},
     "output_type": "execute_result"
    }
   ],
   "source": [
    "gallico_dict = dict(gallico_tuples)\n",
    "dict(itertools.islice(gallico_dict.items(), 6))\n",
    "# gallico_dict.items()"
   ]
  },
  {
   "cell_type": "code",
   "execution_count": 1226,
   "id": "291bf53a-1d7a-4a41-97a9-e6d199cd8c93",
   "metadata": {},
   "outputs": [
    {
     "name": "stdout",
     "output_type": "stream",
     "text": [
      "12\n",
      "{'he': 5, 'his': 2, 'to': 2, 'the': 13, 'and': 5, 'of': 3, 'on': 2, 'a': 2, 'in': 3, 'that': 3, 'should': 2, 'be': 3}\n"
     ]
    }
   ],
   "source": [
    "gallico_bag_words = dict()\n",
    "\n",
    "for k,v in gallico_dict.items():\n",
    "    if v >1:\n",
    "        gallico_bag_words[k] = v\n",
    "        \n",
    "        \n",
    "print(len(gallico_bag_words))   \n",
    "print(gallico_bag_words)"
   ]
  },
  {
   "cell_type": "code",
   "execution_count": 1227,
   "id": "b0a0f689-9b8b-4434-9665-d7ffa37395d3",
   "metadata": {},
   "outputs": [
    {
     "data": {
      "text/html": [
       "<div>\n",
       "<style scoped>\n",
       "    .dataframe tbody tr th:only-of-type {\n",
       "        vertical-align: middle;\n",
       "    }\n",
       "\n",
       "    .dataframe tbody tr th {\n",
       "        vertical-align: top;\n",
       "    }\n",
       "\n",
       "    .dataframe thead th {\n",
       "        text-align: right;\n",
       "    }\n",
       "</style>\n",
       "<table border=\"1\" class=\"dataframe\">\n",
       "  <thead>\n",
       "    <tr style=\"text-align: right;\">\n",
       "      <th></th>\n",
       "      <th>Occurrences</th>\n",
       "    </tr>\n",
       "  </thead>\n",
       "  <tbody>\n",
       "    <tr>\n",
       "      <th>the</th>\n",
       "      <td>13</td>\n",
       "    </tr>\n",
       "    <tr>\n",
       "      <th>he</th>\n",
       "      <td>5</td>\n",
       "    </tr>\n",
       "    <tr>\n",
       "      <th>and</th>\n",
       "      <td>5</td>\n",
       "    </tr>\n",
       "    <tr>\n",
       "      <th>of</th>\n",
       "      <td>3</td>\n",
       "    </tr>\n",
       "    <tr>\n",
       "      <th>in</th>\n",
       "      <td>3</td>\n",
       "    </tr>\n",
       "  </tbody>\n",
       "</table>\n",
       "</div>"
      ],
      "text/plain": [
       "     Occurrences\n",
       "the           13\n",
       "he             5\n",
       "and            5\n",
       "of             3\n",
       "in             3"
      ]
     },
     "execution_count": 1227,
     "metadata": {},
     "output_type": "execute_result"
    }
   ],
   "source": [
    "gallico_bag_words_df=\\\n",
    "pd.DataFrame.from_dict(gallico_bag_words, orient='index', columns=['Occurrences']).\\\n",
    "sort_values(by='Occurrences', ascending=False)\n",
    "\n",
    "gallico_bag_words_df.head()"
   ]
  },
  {
   "cell_type": "code",
   "execution_count": 1228,
   "id": "4798db52-ba12-48ab-8833-9fad3a5be8ce",
   "metadata": {},
   "outputs": [
    {
     "name": "stdout",
     "output_type": "stream",
     "text": [
      "[ 1  2  3  4  5  6  7  8  9 10 11 12 13 14 15 16 17 18 19]\n"
     ]
    }
   ],
   "source": [
    "n_12 = np.arange(1,20,1)\n",
    "print(n_12)"
   ]
  },
  {
   "cell_type": "code",
   "execution_count": 1229,
   "id": "5507adae-e914-476b-a8ce-63e96873f0ef",
   "metadata": {},
   "outputs": [
    {
     "data": {
      "text/html": [
       "<div>\n",
       "<style scoped>\n",
       "    .dataframe tbody tr th:only-of-type {\n",
       "        vertical-align: middle;\n",
       "    }\n",
       "\n",
       "    .dataframe tbody tr th {\n",
       "        vertical-align: top;\n",
       "    }\n",
       "\n",
       "    .dataframe thead th {\n",
       "        text-align: right;\n",
       "    }\n",
       "</style>\n",
       "<table border=\"1\" class=\"dataframe\">\n",
       "  <thead>\n",
       "    <tr style=\"text-align: right;\">\n",
       "      <th></th>\n",
       "      <th>sqrt</th>\n",
       "      <th>n</th>\n",
       "    </tr>\n",
       "  </thead>\n",
       "  <tbody>\n",
       "    <tr>\n",
       "      <th>1</th>\n",
       "      <td>1.000000</td>\n",
       "      <td>1.0</td>\n",
       "    </tr>\n",
       "    <tr>\n",
       "      <th>2</th>\n",
       "      <td>1.414214</td>\n",
       "      <td>2.0</td>\n",
       "    </tr>\n",
       "    <tr>\n",
       "      <th>3</th>\n",
       "      <td>1.732051</td>\n",
       "      <td>3.0</td>\n",
       "    </tr>\n",
       "    <tr>\n",
       "      <th>4</th>\n",
       "      <td>2.000000</td>\n",
       "      <td>4.0</td>\n",
       "    </tr>\n",
       "    <tr>\n",
       "      <th>5</th>\n",
       "      <td>2.236068</td>\n",
       "      <td>5.0</td>\n",
       "    </tr>\n",
       "  </tbody>\n",
       "</table>\n",
       "</div>"
      ],
      "text/plain": [
       "       sqrt    n\n",
       "1  1.000000  1.0\n",
       "2  1.414214  2.0\n",
       "3  1.732051  3.0\n",
       "4  2.000000  4.0\n",
       "5  2.236068  5.0"
      ]
     },
     "execution_count": 1229,
     "metadata": {},
     "output_type": "execute_result"
    }
   ],
   "source": [
    "n_sqrt = {}\n",
    "for e, c in enumerate(n_12, 1):\n",
    "     n_sqrt[e]=math.sqrt(c)\n",
    "\n",
    "n_sqrt_df = \\\n",
    "pd.DataFrame.from_dict(n_sqrt, orient=\"index\", columns=['sqrt'])\n",
    "\n",
    "n_sqrt_df['n'] = n_sqrt_df.sqrt**2\n",
    "\n",
    "n_sqrt_df.head(5)"
   ]
  },
  {
   "cell_type": "markdown",
   "id": "45b48fac-c41f-469c-ad44-bb9673931d80",
   "metadata": {},
   "source": [
    "#### Determine prime numbers"
   ]
  },
  {
   "cell_type": "code",
   "execution_count": 1231,
   "id": "7d1680c9-b488-4f52-bfdb-220f8d5d5d6d",
   "metadata": {},
   "outputs": [],
   "source": [
    "def prime_n(n):\n",
    "    if n < 2:\n",
    "        return False\n",
    "    elif n == 2:\n",
    "            return True\n",
    "    for i in range(2, n+1):\n",
    "        if n % i == 0:\n",
    "            return False\n",
    "        return True"
   ]
  },
  {
   "cell_type": "code",
   "execution_count": 1232,
   "id": "8c147f3b-d4ce-493a-bdfd-b069ba23cf5a",
   "metadata": {},
   "outputs": [
    {
     "name": "stdout",
     "output_type": "stream",
     "text": [
      "False\n",
      "True\n"
     ]
    }
   ],
   "source": [
    "print(prime_n(122))\n",
    "print(prime_n(177))"
   ]
  },
  {
   "cell_type": "code",
   "execution_count": 1233,
   "id": "b1be1f89-3231-4d6d-b949-18558eb3393c",
   "metadata": {},
   "outputs": [
    {
     "data": {
      "text/plain": [
       "[(1, False),\n",
       " (2, True),\n",
       " (3, True),\n",
       " (4, False),\n",
       " (5, True),\n",
       " (6, False),\n",
       " (7, True),\n",
       " (8, False),\n",
       " (9, True),\n",
       " (10, False),\n",
       " (11, True),\n",
       " (12, False),\n",
       " (13, True),\n",
       " (14, False),\n",
       " (15, True),\n",
       " (16, False),\n",
       " (17, True),\n",
       " (18, False),\n",
       " (19, True)]"
      ]
     },
     "execution_count": 1233,
     "metadata": {},
     "output_type": "execute_result"
    }
   ],
   "source": [
    "prime_n= [(n, prime_n(n)) for n in n_12]\n",
    "prime_n"
   ]
  },
  {
   "cell_type": "markdown",
   "id": "4ad2f199-01e9-4367-8731-bbd9a83afcc2",
   "metadata": {},
   "source": [
    "#### Greatest common divisor"
   ]
  },
  {
   "cell_type": "code",
   "execution_count": null,
   "id": "7377a99a-7b03-4462-80a7-81a4ef04fe5c",
   "metadata": {},
   "outputs": [],
   "source": [
    "print(24%12)\n",
    "print(24/12)\n",
    "print(12%24)"
   ]
  },
  {
   "cell_type": "code",
   "execution_count": null,
   "id": "580e63e9-8ff0-4ca3-bce7-29de89617624",
   "metadata": {},
   "outputs": [],
   "source": [
    "print(57%3)\n",
    "print(57/3)\n",
    "print(3%257)"
   ]
  },
  {
   "cell_type": "code",
   "execution_count": null,
   "id": "81ecdd36-0178-4777-b844-3c9465853889",
   "metadata": {},
   "outputs": [],
   "source": [
    "print(7%3)\n",
    "print(7/3)\n",
    "print(3%7)"
   ]
  },
  {
   "cell_type": "code",
   "execution_count": null,
   "id": "e01ac0fa-2f81-4d26-8fca-1c7edb7e9e5f",
   "metadata": {},
   "outputs": [],
   "source": [
    "def gcDivisor(a, b):\n",
    "    while b != 0:\n",
    "        temp_a = a\n",
    "        # print(temp_a)\n",
    "        a = b\n",
    "        b = temp_a % b    \n",
    "        # print(b)\n",
    "    return a"
   ]
  },
  {
   "cell_type": "code",
   "execution_count": null,
   "id": "5e09ff2e-e0bb-4049-80b9-bb77e58921c8",
   "metadata": {},
   "outputs": [],
   "source": [
    "print(gcDivisor(9, 7))\n",
    "print(gcDivisor(7, 9))"
   ]
  },
  {
   "cell_type": "code",
   "execution_count": null,
   "id": "de7f06d9-5b34-45cd-846a-9f1ee916ec5d",
   "metadata": {},
   "outputs": [],
   "source": [
    "print(gcDivisor(9, 7))\n",
    "print(gcDivisor(7, 9))"
   ]
  },
  {
   "cell_type": "markdown",
   "id": "6d861c81-cd8d-4433-8573-39b5913fe205",
   "metadata": {},
   "source": [
    "#### Coprime numbers"
   ]
  },
  {
   "cell_type": "code",
   "execution_count": null,
   "id": "fb92f495-3311-4f66-952a-f33bb5d979e0",
   "metadata": {},
   "outputs": [],
   "source": [
    "list1 = [5, 10, 15, 20, 25, 30, 35, 40, 45, 50, 55, 60, 65, 70]\n",
    "list2 = [7, 14, 21, 28, 35, 42, 49, 56, 63, 70, 77, 84, 91, 98]\n",
    "\n",
    "co_prime_numbers=[(i,j) for i in list1 for j in list2 if gcDivisor(i,j) == 1]\n",
    "print(co_prime_numbers[:5])"
   ]
  },
  {
   "cell_type": "markdown",
   "id": "2eee3325-f44b-41fc-9479-fa1332493d29",
   "metadata": {},
   "source": [
    "#### Creating a letter index"
   ]
  },
  {
   "cell_type": "code",
   "execution_count": null,
   "id": "a5988501-b0d3-4bb6-9699-013bfc97804c",
   "metadata": {},
   "outputs": [],
   "source": [
    "def create_letter_index(string):\n",
    "    letter_index = {}\n",
    "    for idx, letter in enumerate(string):\n",
    "        if letter in letter_index:\n",
    "            letter_index[letter].append(idx)\n",
    "        else:\n",
    "            letter_index[letter]=[idx]\n",
    "    \n",
    "    return letter_index"
   ]
  },
  {
   "cell_type": "code",
   "execution_count": null,
   "id": "9960fa4f-6663-42db-b2c1-e211c9f0d864",
   "metadata": {},
   "outputs": [],
   "source": [
    "gallico_1 =\\\n",
    "\"Roman people\""
   ]
  },
  {
   "cell_type": "code",
   "execution_count": null,
   "id": "644b5500-19d7-4ff8-9e12-2097732d61a6",
   "metadata": {},
   "outputs": [],
   "source": [
    "gallico_index_1 = create_letter_index(gallico_1)\n",
    "gallico_index_1"
   ]
  },
  {
   "cell_type": "markdown",
   "id": "0c888c8e-6238-403b-b889-a33f84416334",
   "metadata": {},
   "source": [
    "#### Move elements"
   ]
  },
  {
   "cell_type": "code",
   "execution_count": null,
   "id": "365ad053-9930-484f-8ab0-bab74eef2dd9",
   "metadata": {},
   "outputs": [],
   "source": [
    "while len(list_34) < len(list_45):\n",
    "    move_element = list_45.pop()\n",
    "    list_34.append(move_element)\n",
    "    \n",
    "print(list_34)\n",
    "print(list_45)"
   ]
  },
  {
   "cell_type": "markdown",
   "id": "de47c3e1-ba43-4bb9-9bcb-e0935aacd31b",
   "metadata": {},
   "source": [
    "## Dictionaries"
   ]
  },
  {
   "cell_type": "code",
   "execution_count": null,
   "id": "f4e15270-1fcb-463e-bf7a-60ac451dd382",
   "metadata": {},
   "outputs": [],
   "source": [
    "cars_12 = {'Ford':12, 'Toyota':34, 'VW':56, 'Mercedes':23, 'Mazda':15}\n",
    "print(cars_12)"
   ]
  },
  {
   "cell_type": "code",
   "execution_count": null,
   "id": "431cb44f-13bb-4dbc-89dc-673c2e65f336",
   "metadata": {},
   "outputs": [],
   "source": [
    "print(cars_12.keys())\n",
    "print(cars_12.values())\n",
    "print(cars_12.items())"
   ]
  },
  {
   "cell_type": "code",
   "execution_count": null,
   "id": "4b67d819-5484-41e3-958d-2b3637b7cc4f",
   "metadata": {},
   "outputs": [],
   "source": [
    "print(cars_12.get('Toyota'))\n",
    "print(cars_12['Toyota'])"
   ]
  },
  {
   "cell_type": "code",
   "execution_count": null,
   "id": "ac2d2405-55dc-4a1b-ba9b-bf5721b76e26",
   "metadata": {},
   "outputs": [],
   "source": [
    "cars_12['Tesla']=14\n",
    "print(cars_12)"
   ]
  },
  {
   "cell_type": "code",
   "execution_count": null,
   "id": "51bb6ff7-fcbb-433d-99ea-21e19a066867",
   "metadata": {},
   "outputs": [],
   "source": [
    "cars_12.popitem()\n",
    "print(cars_12)"
   ]
  },
  {
   "cell_type": "code",
   "execution_count": null,
   "id": "beb91995-db84-4f39-9482-fd355dab7f42",
   "metadata": {},
   "outputs": [],
   "source": [
    "cars_12.pop('Ford')\n",
    "print(cars_12)"
   ]
  },
  {
   "cell_type": "code",
   "execution_count": null,
   "id": "9351bbfb-8a54-4838-9b08-6c487833e0af",
   "metadata": {},
   "outputs": [],
   "source": [
    "cars_12222 = cars_12.copy()\n",
    "cars_12222.clear()\n",
    "print(cars_12222)\n",
    "print(cars_12)"
   ]
  },
  {
   "cell_type": "markdown",
   "id": "a826402a-9087-4716-8516-27e17b31e1b9",
   "metadata": {},
   "source": [
    "#### Storing the z-values of  circular paraboloid"
   ]
  },
  {
   "cell_type": "code",
   "execution_count": null,
   "id": "967c3a87-d6f9-4f7f-9d5a-16c2731bbd26",
   "metadata": {},
   "outputs": [],
   "source": [
    "range_x = [0.0, 0.2, 0.4, 0.6, 0.8, 1.0, 1.2, 1.4, 1.6, 1.8, 2.0]\n",
    "range_y = [0.0, 0.2, 0.4, 0.6, 0.8, 1.0, 1.2, 1.4, 1.6, 1.8, 2.0]"
   ]
  },
  {
   "cell_type": "code",
   "execution_count": null,
   "id": "744710bb-d098-43e9-9f57-91e5038b7386",
   "metadata": {},
   "outputs": [],
   "source": [
    "circ_parab = dict()\n",
    "\n",
    "for x in range_x:\n",
    "    for y in range_y:        \n",
    "        # Calculate the value for z\n",
    "        z = x**2 + y**2\n",
    "        # Create a new key for the dictionary\n",
    "        key = (x,y)\n",
    "        # Create a new key-value pair      \n",
    "        circ_parab[key] = z"
   ]
  },
  {
   "cell_type": "markdown",
   "id": "6eb456d2-9a71-46a4-ac66-e50e65919367",
   "metadata": {},
   "source": [
    "#### Slicing the dict"
   ]
  },
  {
   "cell_type": "code",
   "execution_count": null,
   "id": "3901bd03-1d17-43c5-958b-ccdb996a2458",
   "metadata": {},
   "outputs": [],
   "source": [
    "# import itertools\n",
    "dict(itertools.islice(circ_parab.items(), 4))"
   ]
  },
  {
   "cell_type": "markdown",
   "id": "89d62374-1507-4aa0-9d08-846534d20461",
   "metadata": {},
   "source": [
    "#### Get values"
   ]
  },
  {
   "cell_type": "code",
   "execution_count": null,
   "id": "3b4ae9e1-0fed-43ea-94ec-ae92f12e83a1",
   "metadata": {},
   "outputs": [],
   "source": [
    "print(circ_parab[(0.0, 0.6)])"
   ]
  },
  {
   "cell_type": "code",
   "execution_count": null,
   "id": "bcb30dc3-ef5d-4314-8b8a-f59c4a919441",
   "metadata": {},
   "outputs": [],
   "source": [
    "print(circ_parab[(0.0, 0.2)])"
   ]
  },
  {
   "cell_type": "code",
   "execution_count": null,
   "id": "706d5c9e-17a2-414f-85b0-c0506d1e97f0",
   "metadata": {},
   "outputs": [],
   "source": [
    "print(circ_parab[(1.8, 1.4)])"
   ]
  },
  {
   "cell_type": "markdown",
   "id": "0625b081-c584-41dc-9dc0-92ba8d4f9b13",
   "metadata": {},
   "source": [
    "## Sets"
   ]
  },
  {
   "cell_type": "code",
   "execution_count": null,
   "id": "9420dc33-8378-4100-998b-39be926d76a7",
   "metadata": {},
   "outputs": [],
   "source": [
    "set_1=set(list_2)\n",
    "print(type(set_1))\n",
    "\n",
    "set_2=set(list_3)\n",
    "print(type(set_2))"
   ]
  },
  {
   "cell_type": "code",
   "execution_count": null,
   "id": "019e4902-5d09-41c7-9521-85da1c61d4b4",
   "metadata": {},
   "outputs": [],
   "source": [
    "print(set_1)\n",
    "print(len(set_1))\n",
    "\n",
    "print(set_2)\n",
    "print(len(set_2))"
   ]
  },
  {
   "cell_type": "markdown",
   "id": "4dfa5f1b-b364-487d-b28c-70b521662007",
   "metadata": {},
   "source": [
    "### Union"
   ]
  },
  {
   "cell_type": "code",
   "execution_count": null,
   "id": "cec52fee-f094-460a-b7d9-e4383d373398",
   "metadata": {},
   "outputs": [],
   "source": [
    "union_1=set_1.union(set_2)\n",
    "print(union_1)"
   ]
  },
  {
   "cell_type": "code",
   "execution_count": null,
   "id": "e2fe833b-278a-4218-b533-5188f2019b2f",
   "metadata": {},
   "outputs": [],
   "source": [
    "union_12 = sorted(union_1)\n",
    "print(union_12)"
   ]
  },
  {
   "cell_type": "code",
   "execution_count": null,
   "id": "e9d32c2e-79c8-4188-a158-58cc74e456a7",
   "metadata": {},
   "outputs": [],
   "source": [
    "union_2= set_1 | set_2\n",
    "print(union_2)"
   ]
  },
  {
   "cell_type": "code",
   "execution_count": null,
   "id": "9bd2678e-6449-42ae-845a-5b182c710010",
   "metadata": {},
   "outputs": [],
   "source": [
    "union_21 = sorted(union_2)\n",
    "print(union_21)"
   ]
  },
  {
   "cell_type": "markdown",
   "id": "7d91c0a7-7803-4815-9e46-79054514f9ea",
   "metadata": {},
   "source": [
    "### Intersection"
   ]
  },
  {
   "cell_type": "code",
   "execution_count": null,
   "id": "c3f05c0f-1fe0-454d-95fb-ad5734d566ba",
   "metadata": {},
   "outputs": [],
   "source": [
    "intersection_1 = set_1.intersection(set_2)\n",
    "print(intersection_1 )"
   ]
  },
  {
   "cell_type": "code",
   "execution_count": null,
   "id": "5c924eec-d012-4603-82e9-970906dbdca2",
   "metadata": {},
   "outputs": [],
   "source": [
    "intersection_2 = set_1 & set_2\n",
    "print(intersection_2)"
   ]
  },
  {
   "cell_type": "code",
   "execution_count": null,
   "id": "f81890c9-47d5-473e-83cd-eb2734e70185",
   "metadata": {},
   "outputs": [],
   "source": [
    "set_1.isdisjoint(set_2)"
   ]
  },
  {
   "cell_type": "markdown",
   "id": "7fb44c41-15f5-43e6-8a77-0a950533324d",
   "metadata": {},
   "source": [
    "<p>False means the set are not disjointed and have an intersection.</p>\n"
   ]
  },
  {
   "cell_type": "markdown",
   "id": "3f53df06-6aae-49df-b6ee-cb1723932252",
   "metadata": {},
   "source": [
    "### Difference\n",
    "#### symmetric_difference\n",
    "<p>returns all elements in set1 and set2, but not in both.</p>"
   ]
  },
  {
   "cell_type": "code",
   "execution_count": null,
   "id": "92a2a5de-45b3-4da8-8a21-b99635fa253e",
   "metadata": {},
   "outputs": [],
   "source": [
    "sym_1 = set_1.symmetric_difference(set_2)\n",
    "\n",
    "print(sym_1)\n",
    "print(len(sym_1))"
   ]
  },
  {
   "cell_type": "code",
   "execution_count": null,
   "id": "f2c4fddb-72a3-453e-8035-e0f342740e26",
   "metadata": {},
   "outputs": [],
   "source": [
    "set_13 = set_1.copy()\n",
    "print(type(set_13))\n",
    "print(set_13)"
   ]
  },
  {
   "cell_type": "code",
   "execution_count": null,
   "id": "2d4b853d-76f0-4475-be2c-bf29ed2668f5",
   "metadata": {},
   "outputs": [],
   "source": [
    "set_13.symmetric_difference_update(set_2)\n",
    "\n",
    "print(set_1)\n",
    "print(set_2)\n",
    "print(sorted(set_13))"
   ]
  },
  {
   "cell_type": "markdown",
   "id": "4ee2c531-2439-4419-bdf2-db7462b5da18",
   "metadata": {},
   "source": [
    "#### difference\n",
    "<p>returns all elements in set2 different to set1."
   ]
  },
  {
   "cell_type": "code",
   "execution_count": null,
   "id": "10552c7a-e6d6-4deb-9bf6-1ac204434677",
   "metadata": {},
   "outputs": [],
   "source": [
    "diff_1 = set_1.difference(set_2)\n",
    "\n",
    "print(diff_1)\n",
    "print(len(diff_1))"
   ]
  },
  {
   "cell_type": "code",
   "execution_count": null,
   "id": "f665abcd-f795-448f-8be5-462038cd7367",
   "metadata": {},
   "outputs": [],
   "source": [
    "list_4 = np.random.randint(0,100,20).tolist()\n",
    "list_5 = np.random.randint(0,100,20).tolist()"
   ]
  },
  {
   "cell_type": "code",
   "execution_count": null,
   "id": "a9870b4f-c735-42ca-ac20-5001a7383581",
   "metadata": {},
   "outputs": [],
   "source": [
    "print(list_4)\n",
    "print(list_5)"
   ]
  },
  {
   "cell_type": "markdown",
   "id": "bd27a05a-6128-4ffd-8bd5-95085c1e8f82",
   "metadata": {},
   "source": [
    "### Set theory\n",
    "<p>\n",
    "Problem:<br>\n",
    "A_union (B_intersection_C) difference D_intersection_E\n",
    "</p>"
   ]
  },
  {
   "cell_type": "code",
   "execution_count": null,
   "id": "93294963-41b7-4269-8ad5-477cc911b510",
   "metadata": {},
   "outputs": [],
   "source": [
    "list_4 = list(np.arange(1,10,1))\n",
    "list_5 = list(np.arange(2000,3000,100))\n",
    "\n",
    "list4_sorted = sorted(list_4)\n",
    "list5_sorted = sorted(list_5)"
   ]
  },
  {
   "cell_type": "code",
   "execution_count": null,
   "id": "a143955e-48a5-4ce9-a1c5-e628e67cb82f",
   "metadata": {},
   "outputs": [],
   "source": [
    "set_4 = set(list4_sorted)\n",
    "set_5 = set(list5_sorted)\n",
    "\n",
    "print(type(set_4))\n",
    "print(type(set_5))"
   ]
  },
  {
   "cell_type": "code",
   "execution_count": null,
   "id": "ea55e31e-3ba4-4861-9bdc-4554b0c2ab53",
   "metadata": {},
   "outputs": [],
   "source": [
    "A = {1, 2, 3, 4, 5, 6, 7}\n",
    "B = {5, 7, 9, 11, 13, 15}\n",
    "C = {1, 2, 8, 10, 11, 12, 13, 14, 15, 16, 17}\n",
    "D = {1, 3, 5, 7, 9, 11, 12, 13, 14, 15, 16, 17, 18, 19, 20}\n",
    "E = {9, 10, 11, 12, 13, 14, 15}\n",
    "\n",
    "print(A)"
   ]
  },
  {
   "cell_type": "code",
   "execution_count": null,
   "id": "dcf29ee7-bed3-4be2-a8a6-52d42ca765c9",
   "metadata": {},
   "outputs": [],
   "source": [
    "intersection_5 = set_4.intersection(set_5)\n",
    "print(intersection_5)"
   ]
  },
  {
   "cell_type": "code",
   "execution_count": null,
   "id": "c55c0a1e-452f-424f-ae38-564eebe5c489",
   "metadata": {},
   "outputs": [],
   "source": [
    "B_intersection_C = B.intersection(C)\n",
    "print(B_intersection_C)"
   ]
  },
  {
   "cell_type": "code",
   "execution_count": null,
   "id": "5e55ae0a-ff94-4980-818d-ae9be4bd4bfd",
   "metadata": {},
   "outputs": [],
   "source": [
    "A_union_B_intersection_C = A.union(B_intersection_C)\n",
    "print(A_union_B_intersection_C)"
   ]
  },
  {
   "cell_type": "code",
   "execution_count": null,
   "id": "fbba1765-590d-4fd0-b331-d3bcf5b0c540",
   "metadata": {},
   "outputs": [],
   "source": [
    "D_intersection_E = D.intersection(E)\n",
    "print(D_intersection_E)"
   ]
  },
  {
   "cell_type": "code",
   "execution_count": null,
   "id": "46caf697-3efc-4799-98fd-f7d37f7abacd",
   "metadata": {},
   "outputs": [],
   "source": [
    "A_union_B_intersection_C_D_intersection_E=\\\n",
    "A_union_B_intersection_C.difference(D_intersection_E)\n",
    "A_union_B_intersection_C_D_intersection_E"
   ]
  },
  {
   "cell_type": "markdown",
   "id": "ccbdb669-194c-47f7-87e9-1c95223e5631",
   "metadata": {},
   "source": [
    "### Iterables"
   ]
  },
  {
   "cell_type": "code",
   "execution_count": null,
   "id": "1622711d-9990-470c-951b-1d6c38b8c50a",
   "metadata": {},
   "outputs": [],
   "source": [
    "range_1 = range(0,5)\n",
    "for i in range_1:\n",
    "    print(i)"
   ]
  },
  {
   "cell_type": "code",
   "execution_count": null,
   "id": "830ed44e-442e-491b-a769-52367a507acf",
   "metadata": {},
   "outputs": [],
   "source": [
    "countries=['Germany', 'USA', 'Mongolia', 'Zimbabwe', 'Kenia', 'Chile', 'Paraguay']\n",
    "countries_enumerated = enumerate(countries)\n",
    "\n",
    "for idx, country in countries_enumerated:\n",
    "      print(str(idx)+ \" - \" + country)"
   ]
  },
  {
   "cell_type": "markdown",
   "id": "d251947b-338e-4086-817c-1a51da81cd64",
   "metadata": {},
   "source": [
    "#### Is iterable object?"
   ]
  },
  {
   "cell_type": "code",
   "execution_count": null,
   "id": "1899e45a-0b80-4be5-9f32-ce324a2e6a8d",
   "metadata": {},
   "outputs": [],
   "source": [
    "iter(countries)"
   ]
  },
  {
   "cell_type": "code",
   "execution_count": null,
   "id": "c961181f-cbea-4eb7-b27c-479c6edd895f",
   "metadata": {},
   "outputs": [],
   "source": [
    "iter(\"carwash\")"
   ]
  },
  {
   "cell_type": "code",
   "execution_count": null,
   "id": "92a1d74d-6a7f-4a97-b8c3-753cb063bdd1",
   "metadata": {},
   "outputs": [],
   "source": [
    "countries_2_iter=iter(countries)\n",
    "\n",
    "print(next(countries_2_iter))\n",
    "print(next(countries_2_iter))\n",
    "print(next(countries_2_iter))\n",
    "print(next(countries_2_iter))"
   ]
  },
  {
   "cell_type": "markdown",
   "id": "cfbbb3bb-ea09-4b41-b714-5fe02b225dfe",
   "metadata": {},
   "source": [
    "#### Creating a letter index"
   ]
  },
  {
   "cell_type": "code",
   "execution_count": null,
   "id": "8783cf83-8d21-49a5-8dd2-fa92f9825eb2",
   "metadata": {},
   "outputs": [],
   "source": [
    "def create_letter_index(string):\n",
    "    letter_index = {}\n",
    "    for idx, letter in enumerate(string):\n",
    "        if letter in letter_index:\n",
    "            letter_index[letter].append(idx)\n",
    "        else:\n",
    "            letter_index[letter]=[idx]\n",
    "    \n",
    "    return letter_index"
   ]
  },
  {
   "cell_type": "code",
   "execution_count": null,
   "id": "8b5b93c4-eb6a-462c-b31f-c69c7bd59544",
   "metadata": {},
   "outputs": [],
   "source": [
    "gallico_1 =\\\n",
    "\"Roman people\""
   ]
  },
  {
   "cell_type": "code",
   "execution_count": null,
   "id": "4a559e5b-8719-4266-b1e5-150f3e3df60d",
   "metadata": {},
   "outputs": [],
   "source": [
    "gallico_index_1 = create_letter_index(gallico_1)\n",
    "gallico_index_1"
   ]
  },
  {
   "cell_type": "markdown",
   "id": "00ef2929-64e5-4cfa-94fe-519395b8926a",
   "metadata": {
    "tags": []
   },
   "source": [
    "#### Iterrows over data frames"
   ]
  },
  {
   "cell_type": "code",
   "execution_count": null,
   "id": "92f7dc37-3a1e-4df3-9d19-b31f8a2bfcde",
   "metadata": {},
   "outputs": [],
   "source": [
    "dict_countries=\\\n",
    "{'Germany':[80000000, 'Europe', 1.05], 'China':[1411778724, 'Asia', 17.9],\n",
    "'Brazil':[213843297, 'Americas', 2.71]}\n",
    "\n",
    "df_countries = pd.DataFrame(dict_countries, index=['Population', 'Region', '% of world'])\n",
    "\n",
    "df_countries "
   ]
  },
  {
   "cell_type": "code",
   "execution_count": null,
   "id": "6a613c0d-eeac-448c-8f03-0416b63c01c4",
   "metadata": {},
   "outputs": [],
   "source": [
    "countries_iter = df_countries.iterrows()\n",
    "\n",
    "for idx, c in countries_iter:\n",
    "    print(idx)\n",
    "    print(c)\n",
    "    print(type(c))"
   ]
  },
  {
   "cell_type": "code",
   "execution_count": null,
   "id": "87d1fd12-eef1-481b-915a-26814e40524f",
   "metadata": {},
   "outputs": [],
   "source": [
    "terror=pd.read_csv(\"csv/france_terrorism_fatalities_by_year.csv\")\n",
    "terror.head()"
   ]
  },
  {
   "cell_type": "code",
   "execution_count": null,
   "id": "c97b4e97-1cde-4380-b7bd-4b50f87c1a85",
   "metadata": {},
   "outputs": [],
   "source": [
    "terror_iter = terror.iterrows()\n",
    "terror_dict = dict()\n",
    "for idx, incident in terror_iter:\n",
    "    terror_dict[idx] = [incident]\n",
    "    \n",
    "# slicing a dict\n",
    "dict(itertools.islice(terror_dict.items(), 3))"
   ]
  },
  {
   "cell_type": "markdown",
   "id": "740ca330-4900-4882-ac7a-9894d1f4855f",
   "metadata": {},
   "source": [
    "#### Iteritems over data frame\n",
    "<p>\n",
    "gives the columns.\n",
    "</p>\n",
    "\n",
    "#### Terror dataset"
   ]
  },
  {
   "cell_type": "code",
   "execution_count": null,
   "id": "8963a64b-e46b-43a0-9e16-1380e5a90d18",
   "metadata": {},
   "outputs": [],
   "source": [
    "terror_items = terror.head().iteritems()\n",
    "\n",
    "terror_name=[]\n",
    "terror_iteritems=[]\n",
    "for name, item in terror_items:\n",
    "    terror_iteritems.append(item)\n",
    "    terror_name.append(name)\n",
    "    \n",
    "print(terror_iteritems[0])\n",
    "print(f\"Type: {type(terror_iteritems[0])}\")\n",
    "\n",
    "print(terror_name)\n",
    "print(f\"Type: {type(terror_name)}\")"
   ]
  },
  {
   "cell_type": "markdown",
   "id": "9ad540f4-8826-4fdc-b073-fe200ea0cce8",
   "metadata": {},
   "source": [
    "#### Heroes dataset"
   ]
  },
  {
   "cell_type": "code",
   "execution_count": null,
   "id": "e27cc70a-3887-454f-94f4-a6fc7ee5f706",
   "metadata": {},
   "outputs": [],
   "source": [
    "heroes=pd.read_csv('csv/heroes_information.csv')\n",
    "heroes=heroes.select_dtypes(include=\"object\")\n",
    "heroes.info()"
   ]
  },
  {
   "cell_type": "code",
   "execution_count": null,
   "id": "876f5f84-62f0-44a8-a681-7a552f2954d0",
   "metadata": {},
   "outputs": [],
   "source": [
    "heroes.head(2)"
   ]
  },
  {
   "cell_type": "markdown",
   "id": "06b625fb-5970-4d8a-8929-baa2736af19e",
   "metadata": {},
   "source": [
    "#### Creating a value counts for every categorical variable\n",
    "<p>\n",
    "The categorical variables are described by the column name.<br>\n",
    "For example the number of occurrences for the eye color blue are counted.\n",
    "</p>"
   ]
  },
  {
   "cell_type": "code",
   "execution_count": null,
   "id": "cbf9b0b7-4e23-41a6-8507-2ae72c1ddfbb",
   "metadata": {},
   "outputs": [],
   "source": [
    "column_counts = dict()\n",
    "\n",
    "for column_name, series in heroes.iteritems():\n",
    "    # Retrieve the values stored in series in a list for\n",
    "    values = list(series)\n",
    "    category_counts = dict()  \n",
    "    # Traverse through unique categories in values\n",
    "    for category in set(values):\n",
    "        # Count the appearance of category in values\n",
    "        category_counts[category] = values.count(category)\n",
    "    \n",
    "    column_counts[column_name] = category_counts"
   ]
  },
  {
   "cell_type": "code",
   "execution_count": null,
   "id": "da2a4d68-4812-42fa-8ca4-4c4be5183049",
   "metadata": {},
   "outputs": [],
   "source": [
    "heroes_names = pd.DataFrame.from_dict(column_counts['Eye color'], orient='index', \n",
    "                                      columns=['Eye color'])\n",
    "heroes_names = heroes_names.sort_values(by='Eye color', ascending=False)\n",
    "\n",
    "heroes_names.info()"
   ]
  },
  {
   "cell_type": "code",
   "execution_count": null,
   "id": "255b6572-e7a9-40cc-a071-dcd172ffd38f",
   "metadata": {},
   "outputs": [],
   "source": [
    "heroes_names.describe()"
   ]
  },
  {
   "cell_type": "code",
   "execution_count": null,
   "id": "f42b4296-369d-4347-b812-40f05a0cf957",
   "metadata": {},
   "outputs": [],
   "source": [
    "heroes_names.head()"
   ]
  },
  {
   "cell_type": "markdown",
   "id": "5e01d664-17bf-4dbd-a54a-672ae48c678a",
   "metadata": {},
   "source": [
    "#### Zipping iterable objects"
   ]
  },
  {
   "cell_type": "code",
   "execution_count": null,
   "id": "6b1e6cc3-d275-4b64-8d0a-69938758757e",
   "metadata": {},
   "outputs": [],
   "source": [
    "iter_n5=np.arange(1,6,1)\n",
    "iter_heroes5 = ['Mr.Fantastic', 'Spiderman', 'Ironman', 'Captain', 'Antman']\n",
    "iter_string5 = 'XTeam'"
   ]
  },
  {
   "cell_type": "code",
   "execution_count": null,
   "id": "eec7fb91-7b30-4f7d-ba3b-6cb5d833a34b",
   "metadata": {},
   "outputs": [],
   "source": [
    "zipp_1 = zip(iter_n5, iter_heroes5, iter_string5)\n",
    "print(zipp_1)"
   ]
  },
  {
   "cell_type": "code",
   "execution_count": null,
   "id": "d9624bee-38ae-44d2-a528-f589155e04b8",
   "metadata": {},
   "outputs": [],
   "source": [
    "for i in zipp_1:\n",
    "    print(i)"
   ]
  },
  {
   "cell_type": "code",
   "execution_count": null,
   "id": "a822c608-5003-4d0a-a0e7-aceac3c04735",
   "metadata": {},
   "outputs": [],
   "source": [
    "zipp_2 = zip(iter_n5, iter_heroes5, iter_string5)\n",
    "\n",
    "print(next(zipp_2))\n",
    "print(next(zipp_2))\n",
    "print(next(zipp_2))"
   ]
  },
  {
   "cell_type": "markdown",
   "id": "78ea1920-301c-4f59-81d4-038c665b57f6",
   "metadata": {},
   "source": [
    "#### Reversing iterables"
   ]
  },
  {
   "cell_type": "code",
   "execution_count": null,
   "id": "175a7d27-a2cd-4f82-9282-9c591709ad9a",
   "metadata": {},
   "outputs": [],
   "source": [
    "seq100 = np.arange(10,100,10)\n",
    "reversed_seq = reversed(seq100)\n",
    "\n",
    "reversed_seq_dict = {}\n",
    "\n",
    "for x,y in zip(reversed_seq, seq100):\n",
    "    reversed_seq_dict[y] = x\n",
    "        \n",
    "reversed_seq_dict"
   ]
  },
  {
   "cell_type": "markdown",
   "id": "6b95683a-75d2-4917-af98-322c1da1b7c6",
   "metadata": {},
   "source": [
    "#### Reverse pairing (unpair)"
   ]
  },
  {
   "cell_type": "code",
   "execution_count": null,
   "id": "e8b1796c-8c99-4dd7-9381-39e318a37023",
   "metadata": {},
   "outputs": [],
   "source": [
    "forms = [('triangle', 1) , ('circle', 2)]\n",
    "print(forms)\n",
    "\n",
    "forms_zip = zip(*forms)\n",
    "forms_unpair=[i for i in forms_zip]\n",
    "print(forms_unpair)"
   ]
  },
  {
   "cell_type": "code",
   "execution_count": null,
   "id": "4230ec8f-4988-423e-b900-b86ec24ede06",
   "metadata": {},
   "outputs": [],
   "source": [
    "out = list(itertools.chain(*forms_unpair))\n",
    "print(out)"
   ]
  },
  {
   "cell_type": "markdown",
   "id": "c78fe819-b6da-4970-81d6-0eea2e114ba0",
   "metadata": {},
   "source": [
    "#### Dict from tuples"
   ]
  },
  {
   "cell_type": "code",
   "execution_count": null,
   "id": "9e0e8345-5121-4d9d-b4c0-6fabdf1a5368",
   "metadata": {},
   "outputs": [],
   "source": [
    "dict(forms)"
   ]
  },
  {
   "cell_type": "markdown",
   "id": "c1b8c089-fcd5-49c2-9722-e6ef4dd4fed9",
   "metadata": {},
   "source": [
    "#### Dict from zip"
   ]
  },
  {
   "cell_type": "code",
   "execution_count": null,
   "id": "db815158-1331-4e69-a522-fa3834f99dbd",
   "metadata": {},
   "outputs": [],
   "source": [
    "keys=['number', 'colors', 'animal']\n",
    "values=[[100,200,300], ['red', 'blue', 'green'], ['bear', 'cow', 'cat']]\n",
    "\n",
    "d_123 = dict(zip(keys, values))\n",
    "d_123"
   ]
  },
  {
   "cell_type": "code",
   "execution_count": null,
   "id": "ba75e7f4-d89f-4412-aa13-d42681662f8f",
   "metadata": {},
   "outputs": [],
   "source": [
    "pd.DataFrame(d_123)"
   ]
  },
  {
   "cell_type": "code",
   "execution_count": null,
   "id": "ae8d383a-2b82-4bb6-9958-569a177b3b17",
   "metadata": {},
   "outputs": [],
   "source": [
    "def max_len_word(io):\n",
    "    max_len_word=\" \"\n",
    "    for word in io:\n",
    "        if len(max_len_word) < len(word):\n",
    "            max_len_word = word\n",
    "    return max_len_word"
   ]
  },
  {
   "cell_type": "code",
   "execution_count": null,
   "id": "7541b042-29bf-416b-b23c-51d0072922d9",
   "metadata": {},
   "outputs": [],
   "source": [
    "g_334=\\\n",
    "\"The Helvetii having followed with all their wagons, collected \\ \\\n",
    "their baggage into one place.\".split()\n",
    "print(g_334)\n",
    "\n",
    "g_455=\\\n",
    "\"Being on the same day informed by his scouts, that the enemy had encamped at the foot \\\n",
    "of a mountain eight miles from his own camp.\".split()\n",
    "\n",
    "g_477=\\\n",
    "\"Publius Considius, who was reputed to be very experienced in military affairs \\\n",
    "is sent forward with the scouts.\".split()"
   ]
  },
  {
   "cell_type": "code",
   "execution_count": null,
   "id": "d3b138f4-e158-4ceb-8338-bbb9d7160654",
   "metadata": {},
   "outputs": [],
   "source": [
    "print(max_len_word(g_334))\n",
    "print(max_len_word(g_455))\n",
    "print(max_len_word(g_477))"
   ]
  },
  {
   "cell_type": "code",
   "execution_count": null,
   "id": "30989df7-7771-45aa-a312-3e48f9fdff74",
   "metadata": {},
   "outputs": [],
   "source": [
    "g_list = [g_334, g_455, g_477]\n",
    "print(len(g_list))"
   ]
  },
  {
   "cell_type": "code",
   "execution_count": null,
   "id": "0a31d56c-2f4a-4ecc-80ee-643f4e5ae82a",
   "metadata": {},
   "outputs": [],
   "source": [
    "g_lengths=[len(l) for l in g_list]\n",
    "g_lengths"
   ]
  },
  {
   "cell_type": "code",
   "execution_count": null,
   "id": "352b1608-15f2-4c5d-b195-59d93dad3ecf",
   "metadata": {},
   "outputs": [],
   "source": [
    "g_max_words = [max_len_word(l) for l in g_list]\n",
    "g_max_words "
   ]
  },
  {
   "cell_type": "code",
   "execution_count": null,
   "id": "c550c747-a825-4fb3-82b5-662628cc32ac",
   "metadata": {},
   "outputs": [],
   "source": [
    "for i in zip(g_list, g_lengths, g_max_words):\n",
    "    print(i)"
   ]
  },
  {
   "cell_type": "markdown",
   "id": "0f6597ec-2414-47f5-b395-6d8eec85bc3d",
   "metadata": {},
   "source": [
    "#### Creating a df from a zip object\n",
    "\n",
    "<p>follows the workflow list/array to zip to dict df.</p>"
   ]
  },
  {
   "cell_type": "code",
   "execution_count": null,
   "id": "946507b3-362b-481e-bfa1-082ffdae44a1",
   "metadata": {},
   "outputs": [],
   "source": [
    "array_33 = np.arange(333, 933, 100)\n",
    "array_77 = np.arange(1077, 1677, 100)\n",
    "\n",
    "print(len(array_33))\n",
    "print(len(array_77))"
   ]
  },
  {
   "cell_type": "code",
   "execution_count": null,
   "id": "d38c83df-cd94-4517-90ef-f7049fa2d8c1",
   "metadata": {},
   "outputs": [],
   "source": [
    "array_tuple_1 = [(i,t) for i in array_33 for t in array_77]\n",
    "\n",
    "print(array_tuple_1[:10])\n",
    "print(type(array_tuple_1))"
   ]
  },
  {
   "cell_type": "code",
   "execution_count": null,
   "id": "dec7b216-c5cf-4de2-9650-1890c2e2a3db",
   "metadata": {},
   "outputs": [],
   "source": [
    "array_1, array_2 = zip(*array_tuple_1)\n",
    "\n",
    "print(array_1[:10])\n",
    "print(type(array_1))\n",
    "print(len(array_1))\n",
    "\n",
    "print(\"____________________________________________________________\")\n",
    "print(\" \")\n",
    "\n",
    "print(array_2[:10])\n",
    "print(len(array_2))\n",
    "print(type(array_2))"
   ]
  },
  {
   "cell_type": "code",
   "execution_count": null,
   "id": "a73eb9e7-a0b9-45f8-841b-95ff0a257dfa",
   "metadata": {},
   "outputs": [],
   "source": [
    "column_names = ['array_1', 'array_2']\n",
    "zip_obj = zip(['array_1', 'array_2'], [array_1, array_2])\n",
    "print(zip_obj)"
   ]
  },
  {
   "cell_type": "code",
   "execution_count": null,
   "id": "ad0be89b-f029-437c-84ad-6ba3fde7ae5f",
   "metadata": {},
   "outputs": [],
   "source": [
    "dict_12 = dict(zip_obj)\n",
    "df_12 = pd.DataFrame(dict_12)"
   ]
  },
  {
   "cell_type": "code",
   "execution_count": null,
   "id": "77c4e814-1880-41e5-a213-bcb2b3e3886d",
   "metadata": {},
   "outputs": [],
   "source": [
    "df_12.head()"
   ]
  },
  {
   "cell_type": "markdown",
   "id": "a3723a86-7d06-4403-9c97-4647b4f87b29",
   "metadata": {},
   "source": [
    "#### Generator objects\n",
    "<p>\n",
    "or special customized iterable objects created by a func.<br>\n",
    "Using the next function to ouputt without occupying more memory.<br>\n",
    "Producing infinite amount of output elements with gen obj.<br>\n",
    "The yield instead of the return statement indicates a generator object.<br>\n",
    "\n",
    "</p>"
   ]
  },
  {
   "cell_type": "code",
   "execution_count": null,
   "id": "4a3a0e6a-9ee7-4083-ad83-ed5fc7c51397",
   "metadata": {},
   "outputs": [],
   "source": [
    "def multiple_yields():\n",
    "    yield 1\n",
    "    yield 2\n",
    "    yield 3"
   ]
  },
  {
   "cell_type": "code",
   "execution_count": null,
   "id": "f5771867-f868-4989-b351-1c2ffeed8a10",
   "metadata": {},
   "outputs": [],
   "source": [
    "# Print obj adress in memory\n",
    "print(multiple_yields())\n",
    "\n",
    "# Read with next\n",
    "iter_multiple_yields = multiple_yields()\n",
    "print(next(iter_multiple_yields))\n",
    "print(next(iter_multiple_yields))\n",
    "print(next(iter_multiple_yields))\n",
    "\n",
    "# With list constructor\n",
    "print(list(multiple_yields()))\n",
    "print(list(multiple_yields()))"
   ]
  },
  {
   "cell_type": "code",
   "execution_count": null,
   "id": "3662db42-418f-4666-b977-f976ad990c6e",
   "metadata": {},
   "outputs": [],
   "source": [
    "def yield_test(n):\n",
    "    for i in range(20,26):\n",
    "        yield i**3"
   ]
  },
  {
   "cell_type": "code",
   "execution_count": null,
   "id": "f522f5f1-037c-41e0-bf05-4f91dd0286b9",
   "metadata": {},
   "outputs": [],
   "source": [
    "yield_1 = yield_test(7)\n",
    "yield_1_list = list(yield_1)\n",
    "\n",
    "print(yield_1)\n",
    "print(yield_1_list)\n"
   ]
  },
  {
   "cell_type": "markdown",
   "id": "b92063ac-1a1e-4093-b19c-e15c4c1e1e33",
   "metadata": {},
   "source": [
    "#### Generator comprehension\n",
    "<p>using round brackets.</p>"
   ]
  },
  {
   "cell_type": "code",
   "execution_count": null,
   "id": "21cfb8e6-5306-4e4b-bf88-f1ac8a7e9ad3",
   "metadata": {},
   "outputs": [],
   "source": [
    "output_gen = (i**3 for i in range(222,229))\n",
    "\n",
    "for e in output_gen:\n",
    "    print(e)\n",
    "\n",
    "print(output_gen)\n",
    "print(list(output_gen))"
   ]
  },
  {
   "cell_type": "markdown",
   "id": "607883bc-3d24-4374-a550-4eb7d34d7576",
   "metadata": {},
   "source": [
    "<p>\n",
    "All generator obj are expendable.<br>\n",
    "A second traversal does not yield any result.<br>\n",
    "The output remains empty.</p>\n",
    "</p>"
   ]
  },
  {
   "cell_type": "code",
   "execution_count": null,
   "id": "d9fc6021-979c-4101-955d-661fd1a8bc2e",
   "metadata": {},
   "outputs": [],
   "source": [
    "print(list(output_gen))"
   ]
  },
  {
   "cell_type": "code",
   "execution_count": null,
   "id": "21fbdc74-3625-43be-96f2-be9ddb490951",
   "metadata": {},
   "outputs": [],
   "source": [
    "def every_number(n):\n",
    "    while True:\n",
    "        yield n"
   ]
  },
  {
   "cell_type": "code",
   "execution_count": null,
   "id": "26d408c3-60bc-4145-b26b-de0b8904fb0e",
   "metadata": {},
   "outputs": [],
   "source": [
    "every_number_genobj = every_number(5)\n",
    "\n",
    "print(every_number_genobj)\n",
    "next(every_number_genobj)\n",
    "next(every_number_genobj)\n",
    "\n",
    "#infinite output\n",
    "# for i in every_number_genobj:\n",
    "    # print(i)"
   ]
  },
  {
   "cell_type": "markdown",
   "id": "1c664ff2-f3f2-4825-8d6c-c31b1a5eb2ff",
   "metadata": {},
   "source": [
    "#### Generator functions versus gen comprehensions"
   ]
  },
  {
   "cell_type": "code",
   "execution_count": null,
   "id": "589c2451-194b-482b-a2b8-7f2323601ed7",
   "metadata": {},
   "outputs": [],
   "source": [
    "def foo_1000(num):\n",
    "    for i in range(0,num):\n",
    "        yield i + 111\n",
    "\n",
    "foo_1000_gen = foo_1000(1000)\n",
    "\n",
    "foo_1000_gen_list = []\n",
    "for i in foo_1000_gen:\n",
    "        foo_1000_gen_list.append(i)\n",
    "    \n",
    "print(foo_1000_gen_list[:10])"
   ]
  },
  {
   "cell_type": "code",
   "execution_count": null,
   "id": "78c410d5-a2f2-488e-90fb-eaf2479046dc",
   "metadata": {},
   "outputs": [],
   "source": [
    "foo_1000_gen_2 = (i + 111 for i in range(0,1000))\n",
    "\n",
    "foo_1000_gen_list_2 = []\n",
    "for i in foo_1000_gen_2:\n",
    "        foo_1000_gen_list_2.append(i)\n",
    "    \n",
    "print(foo_1000_gen_list_2[:10])"
   ]
  },
  {
   "cell_type": "code",
   "execution_count": null,
   "id": "82ca3ab4-1960-45fe-a129-7a2712b5f5a9",
   "metadata": {},
   "outputs": [],
   "source": [
    "foo_1000_gen_3 = (i + 0.11 for i in np.arange(0.1,10.1,0.1))\n",
    "\n",
    "foo_1000_gen_3_list=[]\n",
    "for i in foo_1000_gen_3:\n",
    "    foo_1000_gen_3_list.append(i)\n",
    "\n",
    "print(len(foo_1000_gen_3_list))\n",
    "print(foo_1000_gen_3_list[:10])"
   ]
  },
  {
   "cell_type": "markdown",
   "id": "17fba33f-ed66-4b9f-8e16-76fffd44af7a",
   "metadata": {},
   "source": [
    "#### Shifting elements of an obj using a genobj"
   ]
  },
  {
   "cell_type": "code",
   "execution_count": null,
   "id": "890e504a-f24a-472e-bc7b-2c8765927c50",
   "metadata": {},
   "outputs": [],
   "source": [
    "i = \"widgetfactory\"\n",
    "len_obj = len(i)\n",
    "output_widget = []\n",
    "for idx in range(0, len_obj):\n",
    "        j = i[(idx + 2) % len_obj]\n",
    "        output_widget.append(j)\n",
    "\n",
    "output_widget"
   ]
  },
  {
   "cell_type": "code",
   "execution_count": null,
   "id": "427f134e-85f5-4120-8ae8-cab1a5c53236",
   "metadata": {},
   "outputs": [],
   "source": [
    "output_widget_str = \"\"\n",
    "\n",
    "for i in output_widget:\n",
    "    output_widget_str += output_widget_str.join(str(i))\n",
    "\n",
    "print(output_widget_str)"
   ]
  },
  {
   "cell_type": "code",
   "execution_count": null,
   "id": "04504d0f-431a-4245-8430-a1a29a928678",
   "metadata": {},
   "outputs": [],
   "source": [
    "def shift_iterable(i, shift):\n",
    "    len_obj = len(i)\n",
    "    for idx in range(0, len_obj):\n",
    "        yield i[(idx + shift) % len_obj]"
   ]
  },
  {
   "cell_type": "code",
   "execution_count": null,
   "id": "037c531d-d318-4206-8fa0-d01027de31ad",
   "metadata": {},
   "outputs": [],
   "source": [
    "shift_iterable_listn = list(shift_iterable(np.arange(1,10,1), shift=2))\n",
    "\n",
    "print(np.arange(1,10,1))\n",
    "print(shift_iterable_listn)"
   ]
  },
  {
   "cell_type": "code",
   "execution_count": null,
   "id": "01a74ec8-47fa-4954-b5ae-e24687e68b50",
   "metadata": {},
   "outputs": [],
   "source": [
    "shift_iterable_string = list(shift_iterable(\"swimmingpool\", shift=2))\n",
    "\n",
    "print(\"swimmingpool\")\n",
    "print(shift_iterable_string)"
   ]
  },
  {
   "cell_type": "code",
   "execution_count": null,
   "id": "8d8596c3-31df-4b18-8e84-dd606950d9ec",
   "metadata": {},
   "outputs": [],
   "source": [
    "total, out = 0, dict([(i, [0, 0]) for i in range(1, 7)])\n",
    "print(total)\n",
    "print(out)\n",
    "print(out[2][0])\n",
    "print(out[5][0])\n",
    "print(out[5])"
   ]
  },
  {
   "cell_type": "code",
   "execution_count": null,
   "id": "f40ac4c3-105c-4623-987a-800f27f35b2a",
   "metadata": {},
   "outputs": [],
   "source": [
    "import random\n",
    "def simulate_dice_throws():\n",
    "    while True:\n",
    "        # Simulate a single toss to get a new number\n",
    "        num = random.randint(1, 6)\n",
    "        total += 1\n",
    "        # Update the number and the ratio of realizations\n",
    "        # print(num)\n",
    "        out[num][0] = num\n",
    "        # print(out[num][0])\n",
    "        yield out"
   ]
  },
  {
   "cell_type": "code",
   "execution_count": null,
   "id": "82b53b13-6456-4521-b9e9-cd0ce09afeda",
   "metadata": {},
   "outputs": [],
   "source": [
    "import random\n",
    "\n",
    "random.seed(42)\n",
    "\n",
    "num = random.randint(1, 2)\n",
    "print(num)\n",
    "\n",
    "num_2 = random.randint(1,6)\n",
    "print(num_2)\n",
    "\n",
    "print(np.arange(1,7,1))\n"
   ]
  },
  {
   "cell_type": "code",
   "execution_count": null,
   "id": "5074108a-4894-4537-8088-1e622090d32c",
   "metadata": {},
   "outputs": [],
   "source": []
  },
  {
   "cell_type": "markdown",
   "id": "c0043a7b-4493-4b53-ab38-7e8e0840a540",
   "metadata": {},
   "source": [
    "### Using a counter"
   ]
  },
  {
   "cell_type": "code",
   "execution_count": null,
   "id": "ffa0559b-01c3-47fc-b7e4-9a777bd0ec89",
   "metadata": {},
   "outputs": [],
   "source": [
    "print(list4_sorted)\n",
    "print(list5_sorted)"
   ]
  },
  {
   "cell_type": "code",
   "execution_count": null,
   "id": "954fdb5f-8bec-4cf1-93eb-c2eefdf8c382",
   "metadata": {},
   "outputs": [],
   "source": [
    "set_4 = set(list4_sorted)\n",
    "set_5 = set(list5_sorted)\n",
    "\n",
    "print(type(set_4))\n",
    "print(type(set_5))\n"
   ]
  },
  {
   "cell_type": "code",
   "execution_count": null,
   "id": "c9731cc0-0d53-44a1-b83e-e531293a41e3",
   "metadata": {},
   "outputs": [],
   "source": [
    "print(sorted(set_4))\n",
    "print(sorted(set_5))"
   ]
  },
  {
   "cell_type": "code",
   "execution_count": null,
   "id": "239be7e3-cfde-4ce9-98fb-ee7525c9ce2f",
   "metadata": {},
   "outputs": [],
   "source": [
    "zip_1 = zip(list4_sorted, list5_sorted)"
   ]
  },
  {
   "cell_type": "code",
   "execution_count": null,
   "id": "11d3deef-a3eb-4cb1-aa91-5feca47b63bc",
   "metadata": {},
   "outputs": [],
   "source": [
    "counter = 0\n",
    "\n",
    "for i, (a,b) in enumerate(zip_1):\n",
    "    if counter <= 4:\n",
    "        print(f'{i}: list 4: {a}')\n",
    "        print(f'{i}: list 5: {b}')\n",
    "        counter += 1\n",
    "    else:\n",
    "        break"
   ]
  },
  {
   "cell_type": "code",
   "execution_count": null,
   "id": "b5ef140b-5ad5-4d6c-96cb-38a2ce9cd4aa",
   "metadata": {},
   "outputs": [],
   "source": [
    "print(counter)"
   ]
  },
  {
   "cell_type": "markdown",
   "id": "3bb537ab-3bc1-4057-877b-4590f15ab942",
   "metadata": {},
   "source": [
    "#### Creating a timer for measuring runtime of functions"
   ]
  },
  {
   "cell_type": "markdown",
   "id": "8a3a4648-ca36-45ff-8bbb-39d9b674c3dd",
   "metadata": {},
   "source": [
    "#### Intersection with for loop using the in operator"
   ]
  },
  {
   "cell_type": "code",
   "execution_count": null,
   "id": "1265f2dd-c448-40c7-9072-ad8d09679da9",
   "metadata": {},
   "outputs": [],
   "source": [
    "start_1=time()\n",
    "intersection_list_1 = []\n",
    "for a in list4_sorted:\n",
    "    # print(a)\n",
    "    if a in list5_sorted:\n",
    "        intersection_list_1.append(a)\n",
    "\n",
    "end_1=time()\n",
    "run_1= (end_1-start_1)\n",
    "\n",
    "print(f'Runtime: {run_1} seconds.')"
   ]
  },
  {
   "cell_type": "code",
   "execution_count": null,
   "id": "c62517ba-e5dc-4333-bc1f-9f33275884fe",
   "metadata": {},
   "outputs": [],
   "source": [
    "intersection_list_1 == list(sorted(intersection_5)) "
   ]
  },
  {
   "cell_type": "code",
   "execution_count": null,
   "id": "798c9f82-b6c4-4ada-813c-34ba8809e005",
   "metadata": {},
   "outputs": [],
   "source": [
    "print(intersection_list_1)\n",
    "print(sorted(intersection_5))"
   ]
  },
  {
   "cell_type": "code",
   "execution_count": null,
   "id": "6e4931fe-0012-4641-b047-3a83dae117b7",
   "metadata": {},
   "outputs": [],
   "source": [
    "@timemeasure\n",
    "@profile\n",
    "def inter_in(l1, l2):\n",
    "    l1 = sorted(l1)\n",
    "    l2 = sorted(l2)\n",
    "    intersection_in = []\n",
    "    for a in l1:\n",
    "        if a in l2:\n",
    "            intersection_in.append(a)\n",
    "    return intersection_in"
   ]
  },
  {
   "cell_type": "code",
   "execution_count": null,
   "id": "98b58680-9d42-4503-ab65-761ded3d22ef",
   "metadata": {},
   "outputs": [],
   "source": [
    "inter_in_55 = inter_in(list4_sorted, list5_sorted)\n",
    "print(inter_in_55)"
   ]
  },
  {
   "cell_type": "markdown",
   "id": "5906cc02-04f1-431b-bb46-b7b661a5c959",
   "metadata": {},
   "source": [
    "#### Intersection with for loop using a counter"
   ]
  },
  {
   "cell_type": "code",
   "execution_count": null,
   "id": "d7f2103c-f912-49f9-9f78-e42617649334",
   "metadata": {},
   "outputs": [],
   "source": [
    "\n",
    "start_2=time()\n",
    "counter_2 = 0\n",
    "inter_3 = []\n",
    "\n",
    "\n",
    "for e in list4_sorted:\n",
    "    if e == list5_sorted[counter_2]:\n",
    "        inter_3.append(e)\n",
    "        counter_2 += 1\n",
    "    else:\n",
    "        continue\n",
    "\n",
    "sleep(0.000000001)\n",
    "end_2=time()\n",
    "run_2= (end_2-start_2)\n",
    "\n",
    "print(f'Runtime: {run_2: .20f} seconds.')\n"
   ]
  },
  {
   "cell_type": "code",
   "execution_count": null,
   "id": "81b4556d-39b2-44d4-b9f2-73ff55cd7385",
   "metadata": {},
   "outputs": [],
   "source": [
    "print(inter_3)\n",
    "print(inter_3 == sorted(intersection_5))"
   ]
  },
  {
   "cell_type": "markdown",
   "id": "f8f4a688-28c9-42b1-95a4-62eb03f65dbe",
   "metadata": {},
   "source": [
    "#### Intersection with parallel for loops on sorted lists"
   ]
  },
  {
   "cell_type": "code",
   "execution_count": null,
   "id": "4774d43b-fc76-4d54-8f11-aa5e78f62438",
   "metadata": {},
   "outputs": [],
   "source": [
    "start_3 = time()\n",
    "intersect_4 = []\n",
    "\n",
    "for x in list4_sorted:\n",
    "    for y in list5_sorted:\n",
    "        if x==y:\n",
    "            intersect_4.append(x)\n",
    "sleep(0.000000001)\n",
    "end_3 = time()\n",
    "run_3 = end_3 - start_3\n",
    "print(f'Runtime: {run_3} seconds.')            \n",
    "\n",
    "print(intersect_4)            "
   ]
  },
  {
   "cell_type": "markdown",
   "id": "8b42bdd7-9ff6-40cb-9978-fbc01ce3bf62",
   "metadata": {},
   "source": [
    "## Functions"
   ]
  },
  {
   "cell_type": "code",
   "execution_count": null,
   "id": "3bcaf13a-d124-454a-b3c8-f372bf4b82fc",
   "metadata": {},
   "outputs": [],
   "source": [
    "def put_together(*args):\n",
    "    str_obj=\"\"\n",
    "    for arg in args:\n",
    "        str_obj += \" \" + arg\n",
    "    return str_obj\n",
    "\n",
    "put_together_1 = put_together(\"Caesar\", \"passes\", \"the\", \"Rubicon.\")\n",
    "print(put_together_1)\n",
    "print(type(put_together_1))"
   ]
  },
  {
   "cell_type": "code",
   "execution_count": null,
   "id": "af518ffe-7aed-4fa8-80fd-bc89a559c249",
   "metadata": {},
   "outputs": [],
   "source": [
    "def foo_args_add(*args):\n",
    "            output = 0\n",
    "            for arg in args:\n",
    "                output += arg\n",
    "            return output\n",
    "\n",
    "\n",
    "foo_args_add(1,2,3,4,5,6)"
   ]
  },
  {
   "cell_type": "markdown",
   "id": "f9a97efb-9595-4973-9b7a-6f68cfa1b97f",
   "metadata": {},
   "source": [
    "#### Using *args with an iterator object"
   ]
  },
  {
   "cell_type": "code",
   "execution_count": null,
   "id": "e5e7bb21-9aa7-4853-a1c3-c705b4cf84f4",
   "metadata": {},
   "outputs": [],
   "source": [
    "numbers_6 = (1,2,3,4,5,6)\n",
    "print(type(numbers_6))\n",
    "\n",
    "numbers_6_iter = foo_args_add(*numbers_6)\n",
    "print(numbers_6_iter)"
   ]
  },
  {
   "cell_type": "markdown",
   "id": "bccf5d2b-35b6-4c3f-84ff-64662bdb3fc0",
   "metadata": {},
   "source": [
    "#### Check datatypes"
   ]
  },
  {
   "cell_type": "code",
   "execution_count": null,
   "id": "5bd4a868-251a-43a7-b18e-da6dad9c9804",
   "metadata": {},
   "outputs": [],
   "source": [
    "def check_dtypes(*args):\n",
    "    dtypes=dict()\n",
    "    \n",
    "    for value in args:\n",
    "        if isinstance(value, (int, float, complex)):\n",
    "                      dtypes['number']=value\n",
    "        elif isinstance(value, str):\n",
    "                      dtypes['string']=value\n",
    "        elif isinstance(value, bool):\n",
    "                      dtypes['bool']=value\n",
    "        elif isinstance(value, (list, tuple, range)):\n",
    "                      dtypes['sequence']=value\n",
    "        # And so on: dict, set\n",
    "        else:\n",
    "            dtypes['Unknown']=value\n",
    "    return dtypes"
   ]
  },
  {
   "cell_type": "code",
   "execution_count": null,
   "id": "a5ea7590-3f99-43fd-aa00-f90f1412eb84",
   "metadata": {},
   "outputs": [],
   "source": [
    "check_dtypes(\"sunshine\", 123, True, 1667.5, [1,2,3], bytearray(5))"
   ]
  },
  {
   "cell_type": "code",
   "execution_count": null,
   "id": "8424fd63-2061-41f3-9788-fb609e7d158a",
   "metadata": {},
   "outputs": [],
   "source": [
    "def is_capital(l):\n",
    "    capital_dict = {'Lower':list(), 'Upper':list()}\n",
    "    for arg in l:\n",
    "        # print(arg[0])\n",
    "        if arg[0].islower() == True:\n",
    "            capital_dict['Lower'].append(arg)\n",
    "        elif arg[0].isupper() == True:\n",
    "            capital_dict['Upper'].append(arg)\n",
    "    return capital_dict"
   ]
  },
  {
   "cell_type": "code",
   "execution_count": null,
   "id": "fd8da5a7-b441-443b-b1ba-68a656030f17",
   "metadata": {},
   "outputs": [],
   "source": [
    "saone_split=\\\n",
    "\"There is a river called the Saone , which Flows through the territories of \\\n",
    "the Aedui and Sequani into the Rhone with such Incredible slowness, that it can \\\n",
    "not be Determined by the eye in which Direction it flows.\".split(\" \")\n",
    "print(saone_split)"
   ]
  },
  {
   "cell_type": "code",
   "execution_count": null,
   "id": "b0b82e0c-389a-434c-949e-6edd0529c654",
   "metadata": {},
   "outputs": [],
   "source": [
    "is_capital_1=is_capital(saone_split)\n",
    "\n",
    "\n",
    "print(len(is_capital_1['Upper']))\n",
    "print(len(is_capital_1['Lower']))"
   ]
  },
  {
   "cell_type": "markdown",
   "id": "06f83433-507a-416e-a38c-bd713da7c4e6",
   "metadata": {},
   "source": [
    "#### Kwargs\n",
    "<p>\n",
    "with dicts as input arguments.\n",
    "</p>"
   ]
  },
  {
   "cell_type": "code",
   "execution_count": null,
   "id": "f85b2f53-e8ad-403d-acb3-f3f9b9579748",
   "metadata": {},
   "outputs": [],
   "source": [
    "def foo_kwargs(**kwargs):\n",
    "    print(kwargs)\n",
    "    \n",
    "foo_kwarg_1 = foo_kwargs(arg_1=10, arg_2=677, arg_3=8999)\n",
    "\n",
    "print(foo_kwarg_1)\n",
    "print(type(foo_kwarg_1))"
   ]
  },
  {
   "cell_type": "code",
   "execution_count": null,
   "id": "fc3720c7-a2ce-4e7d-b11f-1b1fdc895dc0",
   "metadata": {},
   "outputs": [],
   "source": [
    "def foo_kwargs_add(**kwargs):\n",
    "            output = 0\n",
    "            for key, value in kwargs.items():\n",
    "                output += value\n",
    "            return \"Result: \"+ str(output)\n",
    "        \n",
    "foo_kwargs_add_1=foo_kwargs_add(num_1=1,num_2=2,num_3=3,num_4=4,num_5=5,num_6=6)\n",
    "\n",
    "print(foo_kwargs_add_1)\n",
    "print(type(foo_kwargs_add_1))"
   ]
  },
  {
   "cell_type": "code",
   "execution_count": null,
   "id": "e8f4faa9-dbdd-43cd-8bbc-53e0e0063bdd",
   "metadata": {},
   "outputs": [],
   "source": [
    "def foo_kwargs_add_dict(**kwargs):\n",
    "                output=dict()\n",
    "                for key, value in kwargs.items():\n",
    "                    output[key]=value\n",
    "                return output\n",
    "            \n",
    "foo_kwargs_add_2=foo_kwargs_add_dict(num_1=1,num_2=2,num_3=3,num_4=4,num_5=5,num_6=6)\n",
    "print(foo_kwargs_add_2)\n",
    "print(type(foo_kwargs_add_2))"
   ]
  },
  {
   "cell_type": "markdown",
   "id": "5d8800ad-7a52-40d7-9414-dca7be513a72",
   "metadata": {},
   "source": [
    "#### Dicts and append to list"
   ]
  },
  {
   "cell_type": "code",
   "execution_count": null,
   "id": "2da6a5e3-daf2-4829-8f8f-094e283b0c49",
   "metadata": {},
   "outputs": [],
   "source": [
    "legions_leaders = {'Legion V':['Maximus'], 'Legion III':['Marc Anton']}\n",
    "print(legions_leaders)\n",
    "\n",
    "legions_leaders['Legion III'].append('Cleopetra')\n",
    "print(legions_leaders)"
   ]
  },
  {
   "cell_type": "code",
   "execution_count": null,
   "id": "084a80ab-ec23-4170-9b2e-9c57e0d1134c",
   "metadata": {},
   "outputs": [],
   "source": [
    "def assign_to_type(**kwargs):\n",
    "    dict_type = {}\n",
    "    for key, value in kwargs.items():\n",
    "        if type(value) in dict_type.keys():\n",
    "            # print(value)\n",
    "            dict_type[type(value)].append(value)\n",
    "        else:\n",
    "            dict_type[type(value)] = [value]\n",
    "    return dict_type"
   ]
  },
  {
   "cell_type": "code",
   "execution_count": null,
   "id": "56c7db6b-491a-4200-939a-23514f2ca3dc",
   "metadata": {},
   "outputs": [],
   "source": [
    "assign_to_type(k_1='pavement', k_2=True, k_3=1212.12, k_4=444, \n",
    "               k_5=5676, k_6='border', k_7=False)"
   ]
  },
  {
   "cell_type": "markdown",
   "id": "506970db-f873-46bd-bf44-f1939930339a",
   "metadata": {},
   "source": [
    "### Lambda functions\n",
    "<p>or short-one-in-line functions.<br>\n",
    "Those have no name and are therefore anonymous.<br>\n",
    "Used for small tasks or callbacks.</p>"
   ]
  },
  {
   "cell_type": "code",
   "execution_count": null,
   "id": "7bea8009-2675-4383-b41c-0384add50a3b",
   "metadata": {},
   "outputs": [],
   "source": [
    "x1=5\n",
    "x2=10\n",
    "\n",
    "lambda x1, x2: x1*x2+x1"
   ]
  },
  {
   "cell_type": "code",
   "execution_count": null,
   "id": "d698e8cd-cb80-4ead-a24d-3e34001dd383",
   "metadata": {},
   "outputs": [],
   "source": [
    "lambda_output_1 = lambda x1, x2: x1*x2+x1\n",
    "print(lambda_output_1)"
   ]
  },
  {
   "cell_type": "code",
   "execution_count": null,
   "id": "761c446c-3e70-48be-916c-562013ea86a1",
   "metadata": {},
   "outputs": [],
   "source": [
    "calc_lambda = lambda x1, x2: x1*x2+x1\n",
    "calc_lambda(x1, x2)"
   ]
  },
  {
   "cell_type": "code",
   "execution_count": null,
   "id": "42f55c3e-9f68-42c0-b472-a79c3b3eb9c9",
   "metadata": {},
   "outputs": [],
   "source": [
    "y1=5\n",
    "y2=10\n",
    "\n",
    "def calc_selfdefined_func(y1, y2):\n",
    "    return y1*y2+y1\n",
    "\n",
    "calc_selfdefined_func(y1, y2)"
   ]
  },
  {
   "cell_type": "markdown",
   "id": "ac90efac-ce35-4030-bcb4-a38317d9e7fe",
   "metadata": {},
   "source": [
    "#### Calling a lambda function directly"
   ]
  },
  {
   "cell_type": "code",
   "execution_count": null,
   "id": "126c6fab-a6a7-4972-ad66-7535d4eae711",
   "metadata": {},
   "outputs": [],
   "source": [
    "(lambda x: x1*10+x1)(5)"
   ]
  },
  {
   "cell_type": "code",
   "execution_count": null,
   "id": "756e42cf-4b0f-482a-bf7d-d9fbf6b0ed21",
   "metadata": {},
   "outputs": [],
   "source": [
    "def odd_or_even_n(n):\n",
    "    if n % 2 == 0:\n",
    "        return (\"The number is even.\")\n",
    "    else:\n",
    "        return (\"The number is odd.\")\n",
    "\n",
    "print(odd_or_even_n(177))\n",
    "print(odd_or_even_n(1344))"
   ]
  },
  {
   "cell_type": "markdown",
   "id": "5c9c9001-ec46-4e0a-adfd-1eafe2433617",
   "metadata": {},
   "source": [
    "#### Ternary operators\n",
    "<p> are if-else expressions within a function.</p>"
   ]
  },
  {
   "cell_type": "code",
   "execution_count": null,
   "id": "1569c903-4646-44ef-bbe2-4862b9c0d836",
   "metadata": {},
   "outputs": [],
   "source": [
    "def odd_or_even_2(n):\n",
    "    return \"N is even.\" if n % 2 == 0 else \"N is odd.\"\n",
    "\n",
    "print(odd_or_even_2(177))\n",
    "print(odd_or_even_2(1344))"
   ]
  },
  {
   "cell_type": "code",
   "execution_count": null,
   "id": "82ec9fcf-6110-4794-bac0-bf5f542518b0",
   "metadata": {},
   "outputs": [],
   "source": [
    "print((lambda n: \"even\" if n % 2 == 0 else \"odd\")(177))\n",
    "print((lambda n: \"even\" if n % 2 == 0 else \"odd\")(1344))"
   ]
  },
  {
   "cell_type": "code",
   "execution_count": null,
   "id": "4bf4d8c2-77e7-47d8-ae22-3421989c6649",
   "metadata": {},
   "outputs": [],
   "source": [
    "print(math.factorial(4))\n",
    "print(4*3*2)"
   ]
  },
  {
   "cell_type": "code",
   "execution_count": null,
   "id": "0b5b92c8-da3e-4b58-9e4d-d4d35b038991",
   "metadata": {},
   "outputs": [],
   "source": [
    "conditional_factorial = lambda x: math.factorial(x)  if x > 0 else 'Error'\n",
    "\n",
    "print(conditional_factorial(10))\n",
    "print(conditional_factorial(-0))"
   ]
  },
  {
   "cell_type": "markdown",
   "id": "359e0441-c7e7-4d36-97de-d4d3e55473e0",
   "metadata": {},
   "source": [
    "#### List comprehensions in lambda func"
   ]
  },
  {
   "cell_type": "code",
   "execution_count": null,
   "id": "a8200282-a46b-48b5-92e7-0bbcdede95fa",
   "metadata": {},
   "outputs": [],
   "source": [
    "# Take a list of integers nums and leave only odd numbers\n",
    "odd_n = lambda nums: [x for x in nums if x % 2 !=0]\n",
    "print(odd_n(np.arange(1,20,1)))"
   ]
  },
  {
   "cell_type": "markdown",
   "id": "bfdcfa78-0da2-46ba-8e08-e2444ad6174a",
   "metadata": {},
   "source": [
    "#### Finding shared letters in two strings"
   ]
  },
  {
   "cell_type": "code",
   "execution_count": null,
   "id": "eb90ebc6-94b0-49ba-ba24-ca00bd9ef251",
   "metadata": {},
   "outputs": [],
   "source": [
    "shared_letters = \\\n",
    "lambda s1, s2: [i for i,j in zip(s1, s2) if  i in s2 or j in s1]\n",
    "\n",
    "\n",
    "print(shared_letters('Rhine', 'Rhone'))\n",
    "print(shared_letters('Garonne', 'Pyrenaean'))"
   ]
  },
  {
   "cell_type": "code",
   "execution_count": null,
   "id": "214e5e4a-483e-411b-aa7f-948f1a65feb8",
   "metadata": {},
   "outputs": [],
   "source": [
    "shared_letters_2 = \\\n",
    "lambda s1, s2: [i for i,j in zip(set(s1), set(s2)) if  i in s2]\n",
    "\n",
    "\n",
    "print(shared_letters_2('Rhine', 'Rhone'))\n",
    "print(shared_letters_2('Garonne', 'Pyrenaean'))"
   ]
  },
  {
   "cell_type": "code",
   "execution_count": null,
   "id": "36a05125-4a54-4676-9166-17799d4e7755",
   "metadata": {},
   "outputs": [],
   "source": [
    "intersection_letters = lambda s1, s2: set(s1).intersection(set(s2))\n",
    "\n",
    "print(intersection_letters('Rhine', 'Rhone'))\n",
    "print(intersection_letters('Garonne', 'Pyrenaean'))"
   ]
  },
  {
   "cell_type": "code",
   "execution_count": null,
   "id": "aeff626b-51fc-4ad0-b50d-6fa9ce291917",
   "metadata": {},
   "outputs": [],
   "source": [
    "nums_110=np.random.randint(100,size=10)\n",
    "print(nums_110)\n",
    "\n",
    "lambda3 = lambda nums: math.sqrt(sum([x**2 for x in nums]))\n",
    "print(lambda3)\n",
    "\n",
    "nums_110_output = lambda3(nums_110)\n",
    "print(nums_110_output)\n",
    "\n"
   ]
  },
  {
   "cell_type": "code",
   "execution_count": null,
   "id": "bac5e992-d29b-4a6f-b875-b3475660075d",
   "metadata": {},
   "outputs": [],
   "source": [
    "nums_110=np.random.randint(100,size=10)\n",
    "print(nums_110)\n",
    "\n",
    "lambda4 = lambda *nums: math.sqrt(sum([x**2 for x in nums]))\n",
    "print(lambda4)\n",
    "\n",
    "nums_34_output = lambda4(3,4)\n",
    "print(nums_34_output)"
   ]
  },
  {
   "cell_type": "markdown",
   "id": "2581be2f-325d-4f98-8fcc-a0cb91300d51",
   "metadata": {},
   "source": [
    "#### Lambda and dicts"
   ]
  },
  {
   "cell_type": "code",
   "execution_count": null,
   "id": "605be949-33a5-4788-98e1-6756d83ee630",
   "metadata": {},
   "outputs": [],
   "source": [
    "def counting_letters(string):\n",
    "    d = dict()\n",
    "    for c in set(string):\n",
    "        d[c] = string.count(c)\n",
    "\n",
    "    return d"
   ]
  },
  {
   "cell_type": "code",
   "execution_count": null,
   "id": "c944e346-8228-4c4d-8118-a8a4eeebc161",
   "metadata": {},
   "outputs": [],
   "source": [
    "# First we make a tuple then convert it to a dict\n",
    "counting_letters_lambda = \\\n",
    "lambda string: dict([(c, string.count(c)) for c in set(string)])"
   ]
  },
  {
   "cell_type": "code",
   "execution_count": null,
   "id": "797d72e1-5931-4e11-8cc4-2dde0c7f802b",
   "metadata": {},
   "outputs": [],
   "source": [
    "Garonne_1=\\\n",
    "\"The river Garonne\"\n",
    "\n",
    "print(counting_letters(Garonne_1))\n",
    "print(counting_letters_lambda(Garonne_1))"
   ]
  },
  {
   "cell_type": "markdown",
   "id": "6aa415b5-889d-4929-8f0a-bdf7b5db2ef7",
   "metadata": {},
   "source": [
    "#### Using a lambda expression as an argument in a function\n",
    "<p>if the function allows function or lambda arguments<br>\n",
    "In this case sort allows this within the argument key.<br>\n",
    "No need to use apply here.</p>"
   ]
  },
  {
   "cell_type": "code",
   "execution_count": null,
   "id": "f5141dc5-6b0f-47da-a63f-6096032aea4e",
   "metadata": {},
   "outputs": [],
   "source": [
    "# From W3 tutorials\n",
    "cars = ['Ford', 'Mitsubishi', 'BMW', 'VW']\n",
    "\n",
    "cars.sort()\n",
    "print(cars)"
   ]
  },
  {
   "cell_type": "code",
   "execution_count": null,
   "id": "52196438-d5ae-4075-9007-d86b0efc7f88",
   "metadata": {},
   "outputs": [],
   "source": [
    "def myFunc(e):\n",
    "    return len(e)\n",
    "\n",
    "cars = ['Ford', 'Mitsubishi', 'BMW', 'VW']\n",
    "\n",
    "cars.sort(key=myFunc)\n",
    "print(cars)"
   ]
  },
  {
   "cell_type": "markdown",
   "id": "3514a4b5-8839-4686-9ddc-cfeef93809c4",
   "metadata": {},
   "source": [
    "#### This turn the user def func into a lambda"
   ]
  },
  {
   "cell_type": "code",
   "execution_count": null,
   "id": "b3fd1051-30c2-4c85-9844-63f7930ace9c",
   "metadata": {},
   "outputs": [],
   "source": [
    "cars_2 = ['Ford', 'Mitsubishi', 'BMW', 'VW']\n",
    "lambda_len=lambda e: len(e)\n",
    "cars_2.sort(key=lambda_len, reverse=True)\n",
    "cars_2"
   ]
  },
  {
   "cell_type": "markdown",
   "id": "daead458-060a-470a-a107-cf254a06814f",
   "metadata": {},
   "source": [
    "#### Sort by the last character \n",
    "<p>Seems not work.</p>"
   ]
  },
  {
   "cell_type": "code",
   "execution_count": null,
   "id": "9632f905-4a86-4b80-8e08-c37d4a1b7e6a",
   "metadata": {},
   "outputs": [],
   "source": [
    "cars_3 = ['Ford', 'Mitsubishi', 'BMW', 'VW', 'AA' , 'ZZ']\n",
    "cars_3.sort(key=lambda s: s[-1])\n",
    "print(cars_3)"
   ]
  },
  {
   "cell_type": "markdown",
   "id": "e1d3841f-876a-4c2d-9847-f11391024065",
   "metadata": {},
   "source": [
    "#### Sort words by the total amount of occurrences of certain characters"
   ]
  },
  {
   "cell_type": "code",
   "execution_count": null,
   "id": "d867d7d8-1cf3-42a8-9f32-4f53805e32af",
   "metadata": {},
   "outputs": [],
   "source": [
    "cars_4 = ['Ford', 'Mitsubishi', 'BMW', 'VW', 'iiiiiiibbbbbwwww', 'aaa']\n",
    "cars_4.sort(key=\\\n",
    "            lambda w: sum([w.count('i'), w.count('b'), w.count('w')]), reverse=True)\n",
    "print(cars_4)"
   ]
  },
  {
   "cell_type": "markdown",
   "id": "bf30fd64-04e5-48aa-a4d4-e153328681ce",
   "metadata": {
    "tags": []
   },
   "source": [
    "### Map, filter, reduce\n",
    "\n",
    "<p>are functions under the functional programming paradigm in Python.<br>\n",
    "Python follows the OOP paradigm.<br>\n",
    "Of the many implications it is interesting that control statments like\n",
    "for loops are substituted, when iterables, especially lists, are processed.<br>\n",
    "<a href=\"https://www.tutorialspoint.com/functional-programming-languages\" target=\"_blank\">tutorialspoint</a> \n",
    "</p>\n",
    "\n",
    "### Map\n",
    "<p>maps a function to iterables.<br>\n",
    "It replaces a foor loop.<br>\n",
    "The map output is an iterator, too.</p>"
   ]
  },
  {
   "cell_type": "code",
   "execution_count": null,
   "id": "39d8269f-a1c9-4d26-a2df-7025c3a72059",
   "metadata": {},
   "outputs": [],
   "source": [
    "map_lambda_1 = lambda n: round(math.sqrt(n),4)"
   ]
  },
  {
   "cell_type": "code",
   "execution_count": null,
   "id": "9e335d5f-a4ab-4262-8e16-ab041f805e04",
   "metadata": {},
   "outputs": [],
   "source": [
    "def map_sqrt(n):\n",
    "    return round(math.sqrt(n),4)"
   ]
  },
  {
   "cell_type": "code",
   "execution_count": null,
   "id": "998e067b-d208-4423-b7ca-01e644e25a6b",
   "metadata": {},
   "outputs": [],
   "source": [
    "map_numbers = list(np.arange(100,1000,50))\n",
    "map_output_1 = map(map_sqrt, map_numbers)\n",
    "\n",
    "print(map_output_1)\n",
    "print(next(map_output_1))\n",
    "print(next(map_output_1))\n",
    "print(list(map_output_1))"
   ]
  },
  {
   "cell_type": "code",
   "execution_count": null,
   "id": "f0056c8e-294c-4e3c-9d1a-05187d826518",
   "metadata": {},
   "outputs": [],
   "source": [
    "map_output_2 = map(map_lambda_1, map_numbers)\n",
    "\n",
    "print(map_output_2)\n",
    "print(list(map_output_2))"
   ]
  },
  {
   "cell_type": "code",
   "execution_count": null,
   "id": "07f6b5c6-1ef4-416a-9677-155d3e6de8c4",
   "metadata": {},
   "outputs": [],
   "source": [
    "n_map_12 = np.arange(20,30,1)\n",
    "n_map_15 = np.random.randint(1,50, 10)\n",
    "lambda_map_multiply_pairwise = (lambda x,y: x*y)\n",
    "\n",
    "map_output_2 = map(lambda_map_multiply_pairwise, n_map_12, n_map_15)\n",
    "\n",
    "print(list(map_output_2))\n",
    "print(n_map_12 * n_map_15)"
   ]
  },
  {
   "cell_type": "markdown",
   "id": "ec86b824-59b8-414e-8699-42e1a33c11a1",
   "metadata": {
    "tags": []
   },
   "source": [
    "### Filter\n",
    "\n",
    "<p>filters an iterable and returns only values matchting a condition.\n",
    "</p>"
   ]
  },
  {
   "cell_type": "code",
   "execution_count": null,
   "id": "e374ef46-e1b8-41f6-a096-a0297dc9cbeb",
   "metadata": {},
   "outputs": [],
   "source": [
    "filter_iterable = list(np.random.random(5))\n",
    "filter_output_1 = filter(lambda x: x <= 0.5, filter_iterable)\n",
    "list(filter_output_1)"
   ]
  },
  {
   "cell_type": "markdown",
   "id": "7b19ac12-9a26-48ed-8806-9e2e2fea835d",
   "metadata": {},
   "source": [
    "#### The above filter func is comparable to the func below:"
   ]
  },
  {
   "cell_type": "code",
   "execution_count": null,
   "id": "f419b966-919a-4904-a12c-e8a6d285e181",
   "metadata": {},
   "outputs": [],
   "source": [
    "f=[]\n",
    "for i in filter_iterable:\n",
    "    if i <= 0.5:\n",
    "        f.append(i)\n",
    "\n",
    "print(f)"
   ]
  },
  {
   "cell_type": "markdown",
   "id": "9e5b8967-5d2b-4144-aade-e9f68cac06c3",
   "metadata": {},
   "source": [
    "#### Exclude all the numbers from nums divisible by 6 or 10"
   ]
  },
  {
   "cell_type": "code",
   "execution_count": null,
   "id": "7827abd8-fdd3-4451-89ba-ac08f0ae8077",
   "metadata": {},
   "outputs": [],
   "source": [
    "np.random.seed=45\n",
    "nums=np.random.randint(1000,2000, 500)\n",
    "print(len(nums))"
   ]
  },
  {
   "cell_type": "code",
   "execution_count": null,
   "id": "be8ba1bc-703d-4351-9161-a8af03866c4d",
   "metadata": {},
   "outputs": [],
   "source": [
    "nums_output = filter(lambda x: x % 6 != 0 or x % 10 != 0, nums)\n",
    "print(list(nums_output)[450:455])"
   ]
  },
  {
   "cell_type": "code",
   "execution_count": null,
   "id": "139b0340-a34c-4a1b-adb9-84444e39da44",
   "metadata": {},
   "outputs": [],
   "source": [
    "nums_output_2 = filter(lambda x: x % 6 != 0 or x % 10 != 0, nums)\n",
    "print(len(list(nums_output_2)))"
   ]
  },
  {
   "cell_type": "code",
   "execution_count": null,
   "id": "510b506a-63a5-4c3f-a09b-1998c733423a",
   "metadata": {},
   "outputs": [],
   "source": [
    "print(1019 % 6)\n",
    "print(1905 % 10)"
   ]
  },
  {
   "cell_type": "markdown",
   "id": "97422b5a-bf39-46d7-8828-7c6d2634644f",
   "metadata": {},
   "source": [
    "#### Returning all consonants from a string"
   ]
  },
  {
   "cell_type": "code",
   "execution_count": null,
   "id": "fb8e81e9-9437-4918-91e1-66aa748275b8",
   "metadata": {},
   "outputs": [],
   "source": [
    "string_23432 = \\\n",
    "\"Divitiacus, embracing Caesar, begins to implore him, with many tears, that \\\n",
    "he would not pass any very severe sentence upon his brother.\"\n",
    "\n",
    "consonants = \"bcdfghjklmnpqrstvwxyz\"\n",
    "getting_consonants  = filter(lambda x: x in consonants, string_23432)\n",
    "\n",
    "\n",
    "print(' '.join(getting_consonants))"
   ]
  },
  {
   "cell_type": "markdown",
   "id": "730f978f-36f9-47dc-9d4c-dfb1eeb3863c",
   "metadata": {},
   "source": [
    "#### Returning words with more than one character e"
   ]
  },
  {
   "cell_type": "code",
   "execution_count": null,
   "id": "7c649afc-fd6b-4620-940b-2e7ae9dc026d",
   "metadata": {},
   "outputs": [],
   "source": [
    "reo = \\\n",
    "\"It's more than a feeling (more than a feeling) \\\n",
    "When I hear that old song they used to play (more than a feeling) \\\n",
    "I begin dreaming (more than a feeling)\".split()\n",
    "\n",
    "print(reo)"
   ]
  },
  {
   "cell_type": "code",
   "execution_count": null,
   "id": "e2cb083c-4cd3-4982-a83e-5e5ade5d36d1",
   "metadata": {},
   "outputs": [],
   "source": [
    "more_than_a_feeling = filter(lambda x: x.count('e') > 1, reo)\n",
    "print(list(more_than_a_feeling))"
   ]
  },
  {
   "cell_type": "markdown",
   "id": "871a6c89-955b-47a6-b272-2ac8fadaa291",
   "metadata": {},
   "source": [
    "### Reduce\n",
    "<p>applies a funct to pairs of values within an iterable.<br>\n",
    "It compares the value pairs and returns the value matching a condition stepwise.<br>\n",
    "A more complex definition is given here:</p>\n",
    "\n",
    "<p>\n",
    "\"Python’s reduce() is a function that implements a mathematical technique called folding or reduction. reduce() is useful when you need to apply a function to an iterable and reduce it to a single cumulative value. Python’s reduce() is popular among developers with a functional programming background, but Python has more to offer.\"<br>\n",
    "<a href=\"https://realpython.com/python-reduce-function/\" target=\"_blank\">realpython</a> \n",
    "</p>\n"
   ]
  },
  {
   "cell_type": "code",
   "execution_count": null,
   "id": "417fbd0c-3104-4b9b-bcdc-e6c2afa88bc9",
   "metadata": {},
   "outputs": [],
   "source": [
    "np.random.seed=45\n",
    "reduce_list_1 = np.random.randint(1, 50, 20)\n",
    "print(reduce_list_1)\n",
    "print(max(reduce_list_1))"
   ]
  },
  {
   "cell_type": "markdown",
   "id": "fe21384b-fdb3-4d52-a476-5eb31027dc55",
   "metadata": {},
   "source": [
    "#### Same with reduce"
   ]
  },
  {
   "cell_type": "code",
   "execution_count": null,
   "id": "c4124780-935a-47a8-9d73-4681b11a1594",
   "metadata": {},
   "outputs": [],
   "source": [
    "from functools import reduce\n",
    "reduce_max = lambda x,y: x if x > y else y\n",
    "reduce(reduce_max, reduce_list_1)"
   ]
  },
  {
   "cell_type": "code",
   "execution_count": null,
   "id": "6cc65f29-3a67-4450-9979-bc54404a5a9c",
   "metadata": {},
   "outputs": [],
   "source": [
    "print(10 % 5)\n",
    "print(8 % 3)"
   ]
  },
  {
   "cell_type": "markdown",
   "id": "11c97428-7c63-4023-912c-2dcf318cb03d",
   "metadata": {},
   "source": [
    "#### Determine the same numbers in all sets"
   ]
  },
  {
   "cell_type": "code",
   "execution_count": null,
   "id": "d4e06803-e083-436d-a0f7-67161cd0b2a4",
   "metadata": {},
   "outputs": [],
   "source": [
    "np.random.seed=467\n",
    "\n",
    "set_110 = list(np.random.randint(11,size=10))\n",
    "set_111 = set(np.random.randint(11,size=10))\n",
    "set_112 = set(np.random.randint(11,size=10))\n",
    "set_113 = set(np.random.randint(11,size=10))\n",
    "\n",
    "print(set_110)\n",
    "print(set_111)\n"
   ]
  },
  {
   "cell_type": "code",
   "execution_count": null,
   "id": "d48e4725-46ad-4fd5-96d3-7185ef5051c4",
   "metadata": {},
   "outputs": [],
   "source": [
    "sets = [set_111, set_112, set_113]\n",
    "intersection_444 = reduce(lambda x,y: x.intersection(y), sets)\n",
    "print('The same numbers in every set are: ' + str(intersection_444))"
   ]
  },
  {
   "cell_type": "markdown",
   "id": "fc85d366-f95d-451b-b9d9-77835e85ba09",
   "metadata": {},
   "source": [
    "#### Output the sum of a number sequence"
   ]
  },
  {
   "cell_type": "code",
   "execution_count": null,
   "id": "ba23867c-b158-462d-95fd-b2dc6b097fc0",
   "metadata": {},
   "outputs": [],
   "source": [
    "sequence = [100, 777, 888, 1111]\n",
    "sum_output = reduce(lambda x,y: x+y, sequence)\n",
    "print('The sum of: ' + str(sequence) + ' is: ' + str(sum_output) + '.')"
   ]
  },
  {
   "cell_type": "markdown",
   "id": "44717bf6-e972-4d44-b3b2-f3b0d4b04e05",
   "metadata": {},
   "source": [
    "#### Convert numbers to a single string"
   ]
  },
  {
   "cell_type": "code",
   "execution_count": null,
   "id": "e3b4f888-8371-496b-bda6-f7751ff93b16",
   "metadata": {},
   "outputs": [],
   "source": [
    "numbers = [100, 777, 888, 1111]\n",
    "num = reduce(lambda x,y: str(x)+str(y), numbers)\n",
    "print(str(numbers) + ' is combined to a string number ' + str(num) + '.')"
   ]
  },
  {
   "cell_type": "markdown",
   "id": "205deced-f2e8-4676-8ff8-7aede54f0af7",
   "metadata": {},
   "source": [
    "#### Spell a string backwards"
   ]
  },
  {
   "cell_type": "code",
   "execution_count": null,
   "id": "3f01a4c1-7b2c-4606-9f5f-efe21b7ba65a",
   "metadata": {},
   "outputs": [],
   "source": [
    "string_12 = \"De bello gallico\"\n",
    "inverted_string=reduce(lambda a,b: b+a, string_12)\n",
    "print(inverted_string)"
   ]
  },
  {
   "cell_type": "markdown",
   "id": "d58343e9-61cc-4ac8-bf78-dec8de638ec5",
   "metadata": {},
   "source": [
    "### Recursion\n",
    "<p>of a function, which calls itself.<br>\n",
    "A more deeper look is given here:</p> \n",
    "\n",
    "<p>\n",
    "\"A recursive definition is one in which the defined term appears in the definition itself.\"<br>\n",
    "<a href=\"https://realpython.com/python-recursion/\" target=\"_blank\">realpython</a> \n",
    "</p>"
   ]
  },
  {
   "cell_type": "code",
   "execution_count": null,
   "id": "880cf9e6-7af6-4d3a-aff6-a1d7f7475df8",
   "metadata": {},
   "outputs": [],
   "source": [
    "print(5*4*3*2)\n",
    "print(math.factorial(5))\n",
    "print(5*math.factorial(5-1))\n",
    "print(5*24)\n",
    "print(reduce(lambda x,y: x*y, [5,4,3,2]))\n"
   ]
  },
  {
   "cell_type": "code",
   "execution_count": null,
   "id": "8dcdeaa4-7cf2-4c59-bc21-bc7ba162f4a5",
   "metadata": {},
   "outputs": [],
   "source": [
    "for n in range(1,5):\n",
    "    print(n)"
   ]
  },
  {
   "cell_type": "markdown",
   "id": "f0a98618-9135-422f-a192-dac1a8ecb97a",
   "metadata": {},
   "source": [
    "#### Factorial with a user-defined func"
   ]
  },
  {
   "cell_type": "code",
   "execution_count": null,
   "id": "ccdcf72f-6496-45eb-a007-0078fae1e288",
   "metadata": {},
   "outputs": [],
   "source": [
    "def factorials_matter(n):\n",
    "    # 0 times n is always 0, therefore n = 1\n",
    "    output = 1\n",
    "    outputs = {}\n",
    "    # n+1, because range(1,n) drops the last element of the sequence\n",
    "    for n in range(1,n+1):\n",
    "        output *= n\n",
    "        outputs[n]=output\n",
    "    return output, outputs\n",
    "\n",
    "fact_45, fact_list_45 = factorials_matter(5)\n",
    "print(fact_45)\n",
    "print(fact_list_45)"
   ]
  },
  {
   "cell_type": "markdown",
   "id": "73161e0e-1405-4c2c-9542-9c473fcee629",
   "metadata": {},
   "source": [
    "<p>Recursion needs a base case or stopping criterion for avoiding infinite loops.</p>"
   ]
  },
  {
   "cell_type": "code",
   "execution_count": null,
   "id": "cebb21b3-66c3-480a-bae2-99dbd2ba6af7",
   "metadata": {},
   "outputs": [],
   "source": [
    "# Thanks to https://realpython.com/python-recursion/\n",
    "def countdown(n):\n",
    "    print(n)\n",
    "    # base case or stopping criterion\n",
    "    if n == 0:\n",
    "        return\n",
    "    else:\n",
    "        countdown(n-1)\n",
    "\n",
    "countdown(n-1)"
   ]
  },
  {
   "cell_type": "code",
   "execution_count": null,
   "id": "69f50d5c-7a1c-436f-9355-70f026b0e097",
   "metadata": {},
   "outputs": [],
   "source": [
    "def factorials_recursed(n):\n",
    "    # base case or stopping criterion\n",
    "    if n == 1:\n",
    "        return 1\n",
    "        \n",
    "    return n*factorials_recursed(n-1)\n",
    "        \n",
    "print(factorials_recursed(5))\n",
    "print(factorials_recursed(1))\n",
    "print(factorials_recursed(1))"
   ]
  },
  {
   "cell_type": "code",
   "execution_count": null,
   "id": "42f6b0f5-4163-46e7-ba2b-6f90d9755ed8",
   "metadata": {},
   "outputs": [],
   "source": [
    "def real_factorial(n):\n",
    "    return 1 if n <= 1 else n * real_factorial(n - 1)\n",
    "\n",
    "real_factorial(5)"
   ]
  },
  {
   "cell_type": "markdown",
   "id": "18d6cb09-c0ca-4c86-8688-11ae60e600a6",
   "metadata": {},
   "source": [
    "### Comparing the runtime performance of different functions\n",
    "<p>Min, max, diff</p>"
   ]
  },
  {
   "cell_type": "code",
   "execution_count": null,
   "id": "e21bd8e0-f6ed-437f-84cb-6c2a79043526",
   "metadata": {},
   "outputs": [],
   "source": [
    "print([run_1, run_2, run_3])\n",
    "print(max([run_1, run_2, run_3]))\n",
    "print(min([run_1, run_2, run_3]))\n",
    "\n",
    "diff_12 = max([run_1, run_2, run_3]) - min([run_1, run_2, run_3])\n",
    "print(f'Difference between min and max runtime is: {diff_12}.')"
   ]
  },
  {
   "cell_type": "markdown",
   "id": "65f90a37-cc58-4826-ba76-a798e30ccebb",
   "metadata": {},
   "source": [
    "### Missing number base problem\n",
    "\n",
    "<p>A number is missing from a sequence.</p>\n",
    "<p>\n",
    "In this base version of the missing number problem, whe have a sequence of 4 numbers.<br>\n",
    "We identify the missing number not by code like above, but by deductive thinking.<br>\n",
    "The solution here is not generalizable.<br>\n",
    "For example it would be time consuming to find the missing number this way in a sequence of 10.000.000.\n",
    "</p>"
   ]
  },
  {
   "cell_type": "code",
   "execution_count": null,
   "id": "5b659951-18e0-4946-bebf-51a6c381db8b",
   "metadata": {},
   "outputs": [],
   "source": [
    "sequence_1 = [2,3,1,5]\n",
    "print(sequence_1)"
   ]
  },
  {
   "cell_type": "code",
   "execution_count": null,
   "id": "f82d644c-0fa0-439b-87de-5a55191ae67b",
   "metadata": {},
   "outputs": [],
   "source": [
    "sequence_2 = sorted(sequence_1)\n",
    "print(sequence_2)"
   ]
  },
  {
   "cell_type": "markdown",
   "id": "f0763240-700f-4c64-a5eb-99f286e40a30",
   "metadata": {},
   "source": [
    "<p>We recognize this is a sequence of integers with change of 1.<br>\n",
    "Matching every number x aligned with this pattern with the number n in the sequence,<br>\n",
    "can indicate the missing number.\n",
    "The missing number is 4.</p>"
   ]
  },
  {
   "cell_type": "code",
   "execution_count": null,
   "id": "499a4c04-9deb-4d30-9237-e0efeaf18c00",
   "metadata": {},
   "outputs": [],
   "source": [
    "@timemeasure\n",
    "@profile\n",
    "def find_missing_1(x, sequence):\n",
    "    for x in range(1, 6):\n",
    "        if x in sequence:\n",
    "            print(f\"Found: {x}\")\n",
    "        else:\n",
    "            print(f\"Not found: {x}\")"
   ]
  },
  {
   "cell_type": "code",
   "execution_count": null,
   "id": "894a0d76-2050-451e-9c14-3766b5f931d8",
   "metadata": {},
   "outputs": [],
   "source": [
    "find_missing_1(4, sequence_2)"
   ]
  },
  {
   "cell_type": "code",
   "execution_count": null,
   "id": "cd891ade-6a38-4d42-a0d4-e43c755d61f0",
   "metadata": {},
   "outputs": [],
   "source": [
    "5 in np.array(sequence_1)"
   ]
  },
  {
   "cell_type": "code",
   "execution_count": null,
   "id": "dec2343b-fa54-4365-bec0-560c71a02ab0",
   "metadata": {},
   "outputs": [],
   "source": [
    "def find_missing_in(x, s):\n",
    "    if x in np.array(s):\n",
    "        print(True)\n",
    "    "
   ]
  },
  {
   "cell_type": "code",
   "execution_count": null,
   "id": "38f1114d-6b0f-4ad8-be2d-c08a3e27fd94",
   "metadata": {},
   "outputs": [],
   "source": [
    "find_missing_in(1, sequence_1)"
   ]
  },
  {
   "cell_type": "markdown",
   "id": "7681136c-76c2-4785-9901-d11433e2f4b3",
   "metadata": {},
   "source": [
    "#### The restaurant analogy.\n",
    "<p>There five people paying a certain amount per person.</p>"
   ]
  },
  {
   "cell_type": "code",
   "execution_count": null,
   "id": "05dfbc57-86eb-45bf-bf05-f29be36ad860",
   "metadata": {},
   "outputs": [],
   "source": [
    "amounts_actual_45 = sequence_2.copy()\n",
    "print(amounts_actual_45)"
   ]
  },
  {
   "cell_type": "code",
   "execution_count": null,
   "id": "8b288a64-b412-4ef0-ac5f-d37e608b0510",
   "metadata": {},
   "outputs": [],
   "source": [
    "sum_amounts_should = sorted(np.insert(amounts_actual_45, 4, 4))\n",
    "print(sum_amounts_should)\n",
    "\n",
    "sum_should = np.sum(sum_amounts_should)\n",
    "print(sum_should)"
   ]
  },
  {
   "cell_type": "code",
   "execution_count": null,
   "id": "5b5f0423-38ea-48ac-a6a1-9f07ae1bd19c",
   "metadata": {},
   "outputs": [],
   "source": [
    "amounts_actual_sum = np.sum(amounts_actual_45)\n",
    "print(amounts_actual_sum)"
   ]
  },
  {
   "cell_type": "code",
   "execution_count": null,
   "id": "efd90a1f-6e03-4d8d-b408-c468ce010368",
   "metadata": {},
   "outputs": [],
   "source": [
    "diff_123 = sum_should - amounts_actual_sum \n",
    "print(diff_123)"
   ]
  },
  {
   "cell_type": "code",
   "execution_count": null,
   "id": "4f4bc12d-1a39-4bcf-8538-c6a6d07a5149",
   "metadata": {},
   "outputs": [],
   "source": [
    "sum_123 = 0\n",
    "for i in range(1, len(amounts_actual_45) + 1):\n",
    "    sum_123 = sum_123 + 1\n",
    "    \n",
    "print(sum_123)"
   ]
  },
  {
   "cell_type": "code",
   "execution_count": null,
   "id": "1e3f35bb-ed0c-4ff8-9997-08f361fa877c",
   "metadata": {},
   "outputs": [],
   "source": [
    "@timemeasure\n",
    "@profile\n",
    "def solution_22(seq):\n",
    "    act_sum_88 = 0\n",
    "    for number in seq:\n",
    "        act_sum_88 += number\n",
    "    max_n = len(seq) + 1\n",
    "    # print(act_sum_88)\n",
    "    exp_sum_88 = ((max_n * (max_n + 1)) // 2)\n",
    "    # print(exp_sum_88)\n",
    "    return exp_sum_88 - act_sum_88"
   ]
  },
  {
   "cell_type": "code",
   "execution_count": null,
   "id": "402ab7ce-e654-44ce-b6f5-58a1a9068277",
   "metadata": {},
   "outputs": [],
   "source": [
    "sol66 = solution_22( [1, 3, 6, 4, 1, 2])\n",
    "print(sol66)"
   ]
  },
  {
   "cell_type": "code",
   "execution_count": null,
   "id": "764ecacb-a00e-42b2-acda-332560781592",
   "metadata": {},
   "outputs": [],
   "source": [
    "sol1 = solution_22([1,2,3,5])\n",
    "print(sol1)"
   ]
  },
  {
   "cell_type": "code",
   "execution_count": null,
   "id": "933b9429-acda-4ff1-88ac-caab6523da09",
   "metadata": {},
   "outputs": [],
   "source": [
    "print(np.sum([12,14,15,16]))\n",
    "sol2 = solution_22([12,13,15,16])\n",
    "print(sol2)"
   ]
  },
  {
   "cell_type": "markdown",
   "id": "a57b06fb-9865-4ece-96d9-76f3c29bab6b",
   "metadata": {},
   "source": [
    "<p>The above solution makes a lot of assumptions and seems viable only with a small squence.<br>\n",
    "Can the missing number be detected with coding?</p>"
   ]
  },
  {
   "cell_type": "markdown",
   "id": "0a7a9049-58b0-4f48-9b84-b825ce2ef535",
   "metadata": {},
   "source": [
    "### Missing number problem 1\n",
    "<p>Data preparation: creating a problem of the missing number 3.</p>"
   ]
  },
  {
   "cell_type": "code",
   "execution_count": null,
   "id": "045476fc-331e-4391-b89a-872a6239d037",
   "metadata": {},
   "outputs": [],
   "source": [
    "array_2 = np.arange(0,20,1)\n",
    "print(array_2)"
   ]
  },
  {
   "cell_type": "code",
   "execution_count": null,
   "id": "f03f4073-cf94-402b-98d4-ba1f27248cc5",
   "metadata": {},
   "outputs": [],
   "source": [
    "index_3 = np.where(array_2 == 3)\n",
    "print(index_3)"
   ]
  },
  {
   "cell_type": "code",
   "execution_count": null,
   "id": "476e6593-d23d-45ca-be06-9f54bdde8958",
   "metadata": {},
   "outputs": [],
   "source": [
    "array_3 = np.delete(array_2, index_3)\n",
    "array_3_list = array_3.tolist()\n",
    "\n",
    "print(array_3_list)\n",
    "print(len(array_3_list))"
   ]
  },
  {
   "cell_type": "markdown",
   "id": "b962b660-f287-4f19-93e3-2b8089e1d2d7",
   "metadata": {},
   "source": [
    "#### Solution\n",
    "<p>Step by step solution by doing.</p>\n",
    "\n",
    "#### First question:<br> What is the missing number?\n",
    "<p>If the sequence is based on a pattern, the missing number breaks the pattern.<br>\n",
    "The difference between numbers is such a pattern.<br>\n",
    "Numpy calculates differences:</p>"
   ]
  },
  {
   "cell_type": "code",
   "execution_count": null,
   "id": "6730554c-7054-4d53-a148-dcc3a6537b26",
   "metadata": {},
   "outputs": [],
   "source": [
    "diff_1 = np.diff(array_3_list)\n",
    "\n",
    "print(diff_1)\n",
    "print(len(diff_1))"
   ]
  },
  {
   "cell_type": "markdown",
   "id": "b92784ca-458e-4aac-91e1-588a96d6f2ae",
   "metadata": {},
   "source": [
    "<p>Core python solution.</p>"
   ]
  },
  {
   "cell_type": "code",
   "execution_count": null,
   "id": "6e88ac5a-88ae-4cb9-a365-1b95a089b318",
   "metadata": {},
   "outputs": [],
   "source": [
    "diff_12 = []\n",
    "for i in range(0, len(array_3_list) - 1):\n",
    "    # print(i)\n",
    "    # print(array_3_list[i + 1])\n",
    "    \n",
    "    # diff_12.append(i)\n",
    "    diff = array_3_list[i + 1] - array_3_list[i]\n",
    "    diff_12.append(diff)\n",
    "\n",
    "print(diff_12)\n",
    "print(len(diff_12))"
   ]
  },
  {
   "cell_type": "markdown",
   "id": "2a236f85-c10e-49ac-a399-604518cb2455",
   "metadata": {},
   "source": [
    "<p>Missing number is at index 2, because there the diff pattern is broken.<br>\n",
    "The difference is 2 instead 1.</p>"
   ]
  },
  {
   "cell_type": "code",
   "execution_count": null,
   "id": "2a84e8fc-f743-45a4-95f1-0f69e6875a73",
   "metadata": {},
   "outputs": [],
   "source": [
    "diff_12_array = np.array(diff_12)\n",
    "deviation_1 = np.where(diff_12_array > 1)\n",
    "\n",
    "print(deviation_1)\n",
    "print(type(deviation_1))\n",
    "\n",
    "print(deviation_1[0])\n",
    "print(type(deviation_1[0]))\n"
   ]
  },
  {
   "cell_type": "code",
   "execution_count": null,
   "id": "ccdd185d-d876-45e5-9011-15be3251fe57",
   "metadata": {},
   "outputs": [],
   "source": [
    "print(diff_12_array[deviation_1])"
   ]
  },
  {
   "cell_type": "code",
   "execution_count": null,
   "id": "0449609d-aaf7-4e6d-8867-4fb112b8c1c7",
   "metadata": {},
   "outputs": [],
   "source": [
    "deviation_int = deviation_1[0].item()\n",
    "\n",
    "print(type(deviation_int))\n",
    "print(deviation_int)"
   ]
  },
  {
   "cell_type": "code",
   "execution_count": null,
   "id": "d5c5b889-0ad9-494e-873c-7687045c9edb",
   "metadata": {},
   "outputs": [],
   "source": [
    "print(array_3)\n",
    "print(type(array_3))"
   ]
  },
  {
   "cell_type": "markdown",
   "id": "3a3d161a-e742-4376-b0c8-86ba46a284b1",
   "metadata": {},
   "source": [
    "#### Answer: the missing number is:"
   ]
  },
  {
   "cell_type": "code",
   "execution_count": null,
   "id": "73f03ab7-28d5-4b23-9887-e8be40825c79",
   "metadata": {},
   "outputs": [],
   "source": [
    "missing_value_3 = array_3[deviation_1] + 1\n",
    "print(missing_value_3)"
   ]
  },
  {
   "cell_type": "markdown",
   "id": "b4ba38c5-db2d-4c18-a9c1-0803282af388",
   "metadata": {},
   "source": [
    "#### Adding the missing number to the sequence."
   ]
  },
  {
   "cell_type": "code",
   "execution_count": null,
   "id": "867facc8-fe72-4c6c-8a01-7e1e92962f90",
   "metadata": {},
   "outputs": [],
   "source": [
    "array_4 = np.insert(array_3, deviation_int + 1, missing_value_3)\n",
    "\n",
    "print(len(array_4))\n",
    "array_4"
   ]
  },
  {
   "cell_type": "markdown",
   "id": "10f29a40-d1b7-46dc-a329-1b5d2fe3d5ae",
   "metadata": {},
   "source": [
    "<p>Just checking.</p>"
   ]
  },
  {
   "cell_type": "code",
   "execution_count": null,
   "id": "e92f07e1-dfe0-40f6-9fa0-c967176c274a",
   "metadata": {},
   "outputs": [],
   "source": [
    "np.diff(array_4)"
   ]
  },
  {
   "cell_type": "markdown",
   "id": "66c9c5be-19ce-47d4-9f14-096efe0ae3fa",
   "metadata": {},
   "source": [
    "### Missing number problem 2: <br>finding missing number in a sequence i*3\n",
    "#### First question:<br> What is the missing number?\n",
    "#### Preparing the array"
   ]
  },
  {
   "cell_type": "code",
   "execution_count": null,
   "id": "e45fc84c-c4ed-4e8e-afa1-89a3629f259e",
   "metadata": {},
   "outputs": [],
   "source": [
    "array_times_3 = [i*3  for i in np.arange(0,20,1)]\n",
    "array_times_3_array = np.array(array_times_3)\n",
    "\n",
    "print(type(array_times_3_array))\n",
    "print(type(array_times_3))\n",
    "print(len(array_times_3))\n",
    "print(array_times_3)"
   ]
  },
  {
   "cell_type": "code",
   "execution_count": null,
   "id": "19d4804d-5ddd-4597-9538-4a9fac43c58a",
   "metadata": {},
   "outputs": [],
   "source": [
    "np.where(array_times_3==42)"
   ]
  },
  {
   "cell_type": "code",
   "execution_count": null,
   "id": "6bb8ddc1-f4af-4559-8de1-44f05f196777",
   "metadata": {},
   "outputs": [],
   "source": [
    "index_4_breaking = np.where(array_times_3_array==42)\n",
    "array_times_3_broken = np.delete(array_times_3, index_4_breaking)\n",
    "array_45 = array_times_3_broken.copy()\n",
    "\n",
    "print(index_4_breaking)\n",
    "print(len(array_times_3_broken))\n",
    "print(type(array_times_3_broken))\n",
    "print(array_times_3_broken)"
   ]
  },
  {
   "cell_type": "markdown",
   "id": "c4b30a7b-6ec7-440a-8851-7735d95fde11",
   "metadata": {},
   "source": [
    "<p>Just checking.</p>"
   ]
  },
  {
   "cell_type": "code",
   "execution_count": null,
   "id": "48d1120f-4a3f-4ba0-ad0b-6dadc1ae9e03",
   "metadata": {},
   "outputs": [],
   "source": [
    "array_times_3_broken[array_times_3_broken == 42]"
   ]
  },
  {
   "cell_type": "markdown",
   "id": "d48e7631-a84a-41e6-bf2d-53e957624220",
   "metadata": {},
   "source": [
    "### Solution\n",
    "<p>Finding differences in pattern.</p>"
   ]
  },
  {
   "cell_type": "code",
   "execution_count": null,
   "id": "ad3e74e2-48d9-4951-a47d-e26c19dc55fa",
   "metadata": {},
   "outputs": [],
   "source": [
    "diff_intact = np.diff(array_times_3)\n",
    "diff_broken = np.diff(array_times_3_broken)\n",
    "\n",
    "print(diff_intact)\n",
    "print(diff_broken)"
   ]
  },
  {
   "cell_type": "markdown",
   "id": "02771f77-3fe0-4bbb-add0-ca62fd49e53e",
   "metadata": {},
   "source": [
    "#### Finding the most frequent number and index."
   ]
  },
  {
   "cell_type": "code",
   "execution_count": null,
   "id": "7505c2e2-1c61-44a6-8bc2-0959988d7a79",
   "metadata": {},
   "outputs": [],
   "source": [
    "diff_intact_unique = np.unique(diff_intact, return_counts=True)\n",
    "diff_broken_unique = np.unique(diff_broken, return_counts=True)\n",
    "\n",
    "print(diff_intact_unique)\n",
    "print(diff_broken_unique)\n",
    "max(diff_broken_unique[1])"
   ]
  },
  {
   "cell_type": "markdown",
   "id": "336a1a9a-8bd6-429b-839b-f107187eb128",
   "metadata": {},
   "source": [
    "<p>The goal here is to get the index of max of [17,  1] and the get with the index 3 of [3, 6].</p>"
   ]
  },
  {
   "cell_type": "code",
   "execution_count": null,
   "id": "f3a17ddb-c41b-4efb-bda9-639cc4d828e4",
   "metadata": {},
   "outputs": [],
   "source": [
    "index_max_count_2 = np.where(diff_broken_unique[1]==max(diff_broken_unique[1]))\n",
    "print(index_max_count_2)"
   ]
  },
  {
   "cell_type": "code",
   "execution_count": null,
   "id": "474a9a94-1d7a-4c11-aed0-8e5331eb5f88",
   "metadata": {},
   "outputs": [],
   "source": [
    "index_max_count_number_2 = diff_broken_unique[0][index_max_count_2]\n",
    "index_max_count_int_2 = index_max_count_number_2.item()\n",
    "\n",
    "print(index_max_count_number_2)\n",
    "print(index_max_count_int_2)\n",
    "\n",
    "print(type(index_max_count_number_2))\n",
    "print(type(index_max_count_int_2))"
   ]
  },
  {
   "cell_type": "markdown",
   "id": "dfec0a9d-934c-46d6-8e86-80993f4b547c",
   "metadata": {},
   "source": [
    "<p>Index, where diff broken is greater 3.</p>"
   ]
  },
  {
   "cell_type": "code",
   "execution_count": null,
   "id": "26ac35a6-7838-4565-bed0-f88f468d3624",
   "metadata": {},
   "outputs": [],
   "source": [
    "deviation_2 = np.where(diff_broken > index_max_count_int_2)\n",
    "deviation_2_int = deviation_2[0].item()\n",
    "\n",
    "print(deviation_2)\n",
    "print(deviation_2_int)"
   ]
  },
  {
   "cell_type": "code",
   "execution_count": null,
   "id": "445702f7-8285-48e4-b917-773c77cc70d2",
   "metadata": {},
   "outputs": [],
   "source": [
    "print(array_times_3_broken)\n",
    "value_before_missing_number = array_times_3_broken[deviation_2].item()\n",
    "print(value_before_missing_number)"
   ]
  },
  {
   "cell_type": "markdown",
   "id": "4d4a70ab-762a-4aa2-8aff-2e706e195176",
   "metadata": {},
   "source": [
    "#### Answer: the missing number is:"
   ]
  },
  {
   "cell_type": "code",
   "execution_count": null,
   "id": "c2b747cb-f531-4fb4-b14e-80937b252db8",
   "metadata": {},
   "outputs": [],
   "source": [
    "missing_value_2 = value_before_missing_number + index_max_count_int_2 \n",
    "print(missing_value_2)"
   ]
  },
  {
   "cell_type": "markdown",
   "id": "075c4085-5f69-4172-9b5b-0efda6aa962e",
   "metadata": {},
   "source": [
    "#### Adding the missing number to the sequence"
   ]
  },
  {
   "cell_type": "code",
   "execution_count": null,
   "id": "d95d99e5-703c-40b4-96aa-4772c22a63d6",
   "metadata": {},
   "outputs": [],
   "source": [
    "array_times_3_repaired = np.insert(array_times_3_broken, deviation_2_int + 1, missing_value_2)\n",
    "\n",
    "print(array_times_3_repaired)\n",
    "print(len(array_times_3_repaired))\n",
    "print(type(array_times_3_repaired))"
   ]
  },
  {
   "cell_type": "code",
   "execution_count": null,
   "id": "67dafd32-f4da-4a3b-995d-8a3f15d4dd5c",
   "metadata": {},
   "outputs": [],
   "source": [
    "print(array_times_3)\n",
    "print(len(array_times_3))"
   ]
  },
  {
   "cell_type": "markdown",
   "id": "293108c3-84dd-43a8-8f69-d21223b44451",
   "metadata": {},
   "source": [
    "<p>Is this generalizable into a class?<br>\n",
    "Should be.</p>"
   ]
  },
  {
   "cell_type": "markdown",
   "id": "09d364c0-17cb-422d-9307-520fe714bd72",
   "metadata": {},
   "source": [
    "<p>Missing number function</p>"
   ]
  },
  {
   "cell_type": "code",
   "execution_count": null,
   "id": "625eece9-b705-4b13-b1f2-b1712fef2184",
   "metadata": {},
   "outputs": [],
   "source": [
    "@timemeasure\n",
    "@profile\n",
    "def missing_number_1(array):\n",
    "    diff = np.diff(array)\n",
    "    print(diff)\n",
    "    diff_unique = np.unique(diff, return_counts=True)\n",
    "    print(diff_unique)\n",
    "    \n",
    "    index_max_count = np.where(diff_unique[1]==max(diff_unique[1]))\n",
    "    # print(index_max_count)\n",
    "    \n",
    "    index_max_count_number = diff_unique[0][index_max_count]\n",
    "    index_max_count_int = index_max_count_number.item()\n",
    "\n",
    "    # print(index_max_count_number)\n",
    "    # print(index_max_count_int)\n",
    "    \n",
    "    deviation = np.where(diff > index_max_count_int)\n",
    "    deviation_int = deviation[0].item()\n",
    "    \n",
    "    value_before_missing_number = array[deviation].item()\n",
    "    missing_value = value_before_missing_number + index_max_count_int \n",
    "    # print(missing_value)\n",
    "    \n",
    "    array_repaired = np.insert(array, deviation_int + 1, missing_value)\n",
    "    return missing_value, array_repaired\n",
    "    "
   ]
  },
  {
   "cell_type": "code",
   "execution_count": null,
   "id": "811e0d76-f5a8-4539-a950-d2edd7742668",
   "metadata": {},
   "outputs": [],
   "source": [
    "missing_value_34, array_repaired_34 = missing_number_1(array_45)\n",
    "\n",
    "print(missing_value_34)\n",
    "print(array_repaired_34)"
   ]
  },
  {
   "cell_type": "markdown",
   "id": "49c19fbe-8de6-4eaa-ae49-fc717fe9d1a4",
   "metadata": {},
   "source": [
    "## Median problem\n",
    "#### Data"
   ]
  },
  {
   "cell_type": "code",
   "execution_count": null,
   "id": "61884c07-6d57-4124-b980-8b955fec1601",
   "metadata": {},
   "outputs": [],
   "source": [
    "a_10 = np.random.randint(1, 10, 10)\n",
    "a_5 = np.array([3,1,2,4,3])"
   ]
  },
  {
   "cell_type": "code",
   "execution_count": null,
   "id": "d5a456de-bd19-461b-a945-a6189d37fe8e",
   "metadata": {},
   "outputs": [],
   "source": [
    "print(a_10)\n",
    "print(a_5)"
   ]
  },
  {
   "cell_type": "markdown",
   "id": "072c3dc1-00a0-431f-9244-42d3ad80cc4b",
   "metadata": {},
   "source": [
    "### Solution\n",
    "<p>considering the concept of the median.</p>"
   ]
  },
  {
   "cell_type": "code",
   "execution_count": null,
   "id": "adc7ab3f-86b6-432d-9cc9-b2a7ca37052c",
   "metadata": {},
   "outputs": [],
   "source": [
    "med_10 = np.median(a_10)\n",
    "med_5 = np.median(a_5)"
   ]
  },
  {
   "cell_type": "code",
   "execution_count": null,
   "id": "25ad42f5-2a03-4751-bace-d60dc9630ada",
   "metadata": {},
   "outputs": [],
   "source": [
    "print(med_10)\n",
    "print(med_5)"
   ]
  },
  {
   "cell_type": "code",
   "execution_count": null,
   "id": "75a91cc2-7a87-4a16-9c6a-75b32cf129dd",
   "metadata": {},
   "outputs": [],
   "source": [
    "a_10_sorted = sorted(a_10)\n",
    "a_5_sorted = sorted(a_5)"
   ]
  },
  {
   "cell_type": "code",
   "execution_count": null,
   "id": "e5403020-acb5-4554-bf60-e82b6d2ffe86",
   "metadata": {},
   "outputs": [],
   "source": [
    "print(a_10_sorted )\n",
    "print(a_5_sorted)"
   ]
  },
  {
   "cell_type": "code",
   "execution_count": null,
   "id": "44228c58-4d79-4f79-a492-7f069ca971d5",
   "metadata": {},
   "outputs": [],
   "source": [
    "a_10_sorted_index = [i for i in range(len(a_10_sorted))]\n",
    "a_5_sorted_index = [i for i in range(len(a_5_sorted))]"
   ]
  },
  {
   "cell_type": "code",
   "execution_count": null,
   "id": "d5960f74-b95e-47a2-80ac-d9772a96ff04",
   "metadata": {},
   "outputs": [],
   "source": [
    "print(a_10_sorted_index)\n",
    "print(a_5_sorted_index)"
   ]
  },
  {
   "cell_type": "code",
   "execution_count": null,
   "id": "04c4db7b-c7e3-4b71-8e7d-7428b7fc4e78",
   "metadata": {},
   "outputs": [],
   "source": [
    "a10_index_2 =len(a_10_sorted) // 2\n",
    "a10_med_2 = a_10_sorted[a10_index_2]"
   ]
  },
  {
   "cell_type": "code",
   "execution_count": null,
   "id": "582ad124-ef32-4d84-b121-4fb75a9eb776",
   "metadata": {},
   "outputs": [],
   "source": [
    "a5_index_2 =len(a_5_sorted) // 2\n",
    "a5_med_2 = a_5_sorted[a5_index_2]"
   ]
  },
  {
   "cell_type": "code",
   "execution_count": null,
   "id": "5daf8cca-c7ff-4aa4-bec2-c6e37adf39dd",
   "metadata": {},
   "outputs": [],
   "source": [
    "print(a10_med_2)\n",
    "print(a5_med_2)"
   ]
  },
  {
   "cell_type": "markdown",
   "id": "4ea286f5-abd6-4eaf-b5e7-5f1941749b57",
   "metadata": {},
   "source": [
    "## Equilibrium problem\n",
    "<p>\n",
    "returning the absolute difference between the right and the left half of an array,<br>\n",
    "where the absolute difference is at a minimum.<br>\n",
    "The array could be of size 2 to 100.000.<br>\n",
    "The elements of the array are between -1000 and 1000.\n",
    "</p>\n",
    "\n",
    "#### Data"
   ]
  },
  {
   "cell_type": "code",
   "execution_count": null,
   "id": "998d15bf-f7fb-4a90-ba48-0b1db2a038f5",
   "metadata": {},
   "outputs": [],
   "source": [
    "print(-5)\n",
    "print(abs(-5))"
   ]
  },
  {
   "cell_type": "code",
   "execution_count": null,
   "id": "1c419ef8-e3bd-4259-a986-1e89e5f99c00",
   "metadata": {},
   "outputs": [],
   "source": [
    "equi_5 = np.array([3,1,2,4,3])\n",
    "equi_100 = np.random.randint(-1000, 1000, 100)\n",
    "equi_10  = np.random.randint(1, 10, 10)\n",
    "equi_40 = np.random.randint(-20, 20, 40)"
   ]
  },
  {
   "cell_type": "code",
   "execution_count": null,
   "id": "a3f733f7-6519-457d-9852-8392714a94e1",
   "metadata": {},
   "outputs": [],
   "source": [
    "print(equi_5)\n",
    "print(equi_100[:10])\n",
    "print(equi_10)\n",
    "print(equi_40[:10])"
   ]
  },
  {
   "cell_type": "code",
   "execution_count": null,
   "id": "29d34250-6b64-4e90-bb1c-9425a691f91e",
   "metadata": {},
   "outputs": [],
   "source": [
    "print(equi_5.shape)\n",
    "print(equi_100.shape)\n",
    "print(equi_10.shape)\n",
    "print(equi_40.shape)"
   ]
  },
  {
   "cell_type": "markdown",
   "id": "2b0c7bff-5ea2-40d7-ac8a-623481b11bc9",
   "metadata": {},
   "source": [
    "<p>Creating the index.</p>"
   ]
  },
  {
   "cell_type": "code",
   "execution_count": null,
   "id": "82314bcc-88b7-4c0d-bec2-c4765cfdac66",
   "metadata": {},
   "outputs": [],
   "source": [
    "equi_5_index = [i for i in range(len(equi_5))]\n",
    "\n",
    "print(equi_5)\n",
    "print(equi_5_index)"
   ]
  },
  {
   "cell_type": "markdown",
   "id": "cc6fcc09-8b20-45ce-97e4-38071a79102b",
   "metadata": {},
   "source": [
    "<p>First split at index 0.</p>"
   ]
  },
  {
   "cell_type": "code",
   "execution_count": null,
   "id": "5fd4e209-d590-4d6e-aa71-b65ce49507c9",
   "metadata": {},
   "outputs": [],
   "source": [
    "left_0 = equi_5[0]\n",
    "sum_left_0 = np.sum(left_0)\n",
    "\n",
    "print(left_0)\n",
    "print(sum_left_0)"
   ]
  },
  {
   "cell_type": "code",
   "execution_count": null,
   "id": "79caf15d-2719-43af-823f-d9cb34e713c3",
   "metadata": {},
   "outputs": [],
   "source": [
    "right_0 = equi_5[1:]\n",
    "sum_right_0 = np.sum(right_0)\n",
    "\n",
    "print(right_0)\n",
    "print(sum_right_0)"
   ]
  },
  {
   "cell_type": "code",
   "execution_count": null,
   "id": "4db72220-6d4f-4066-9c54-c1e4890b006e",
   "metadata": {},
   "outputs": [],
   "source": [
    "equi_diff_0 = abs(sum_left_0 - sum_right_0)\n",
    "print(equi_diff_0)"
   ]
  },
  {
   "cell_type": "markdown",
   "id": "b88796da-6ee1-408c-b6ea-8d82aa0c76b0",
   "metadata": {},
   "source": [
    "<p>Second split at index 1.</p>"
   ]
  },
  {
   "cell_type": "code",
   "execution_count": null,
   "id": "45700974-f8b6-428d-bf6c-11804f331c46",
   "metadata": {},
   "outputs": [],
   "source": [
    "left_1 = equi_5[:1]\n",
    "sum_left_1 = np.sum(left_1)\n",
    "\n",
    "print(left_1)\n",
    "print(sum_left_1)"
   ]
  },
  {
   "cell_type": "code",
   "execution_count": null,
   "id": "4a05920e-c0c9-4ece-bf38-be868622fa29",
   "metadata": {},
   "outputs": [],
   "source": [
    "right_1 = equi_5[2:]\n",
    "sum_right_1 = np.sum(right_1)\n",
    "\n",
    "print(right_1)\n",
    "print(sum_right_1)"
   ]
  },
  {
   "cell_type": "code",
   "execution_count": null,
   "id": "f393e973-6777-47d9-ad1c-35cc40616ea3",
   "metadata": {},
   "outputs": [],
   "source": [
    "equi_diff_1 = abs(sum_left_1 - sum_right_1)\n",
    "print(equi_diff_1)"
   ]
  },
  {
   "cell_type": "code",
   "execution_count": null,
   "id": "b3a9e43c-df21-4afd-bb3c-9c6f58300b8c",
   "metadata": {},
   "outputs": [],
   "source": [
    "print(equi_5)\n",
    "print(equi_5_index)"
   ]
  },
  {
   "cell_type": "code",
   "execution_count": null,
   "id": "69bf9cec-e94e-446e-bfd4-90e45dcf6ff1",
   "metadata": {},
   "outputs": [],
   "source": [
    "step = 0\n",
    "\n",
    "left_dict = dict()\n",
    "right_dict = dict()\n",
    "diff_dict = dict()\n",
    "\n",
    "for i in range(len(equi_5_index)):\n",
    "    # print(i)\n",
    "    left_12 = equi_5[:step + 1]\n",
    "    # print(left_12)\n",
    "    sum_left_12 = np.sum(left_12)\n",
    "    # print(sum_left_12)\n",
    "    left_dict[i] = sum_left_12\n",
    "    \n",
    "    right_12 = equi_5[step + 1:]\n",
    "    sum_right_12  = np.sum(right_12)\n",
    "    right_dict[i] = sum_right_12 \n",
    "    \n",
    "    diff_dict[i] = abs(sum_left_12 - sum_right_12)\n",
    "    \n",
    "    step += 1\n"
   ]
  },
  {
   "cell_type": "code",
   "execution_count": null,
   "id": "7fc8a6ab-991b-4451-9599-36df77522c97",
   "metadata": {},
   "outputs": [],
   "source": [
    "print(step)\n",
    "print(left_dict)\n",
    "print(right_dict)\n",
    "print(diff_dict)"
   ]
  },
  {
   "cell_type": "code",
   "execution_count": null,
   "id": "b691e3b7-10cd-448d-84b5-ee79f9461ffa",
   "metadata": {},
   "outputs": [],
   "source": [
    "min_key = min(diff_dict, key = diff_dict.get)\n",
    "diff_dict[min_key]"
   ]
  },
  {
   "cell_type": "markdown",
   "id": "f5b6df8f-3cdb-4cdc-90a0-1729164ae4ac",
   "metadata": {},
   "source": [
    "<p>Pandas overview df</p>"
   ]
  },
  {
   "cell_type": "code",
   "execution_count": null,
   "id": "071fed59-d7dc-4d88-a56b-c0afe9f6b00b",
   "metadata": {},
   "outputs": [],
   "source": [
    "df_diff = pd.DataFrame(pd.Series(diff_dict), columns=['diff'])\n",
    "df_diff.reset_index(inplace=True, drop=False)\n",
    "df_diff"
   ]
  },
  {
   "cell_type": "code",
   "execution_count": null,
   "id": "4e9602b7-5e88-4cfd-98cd-bdfd3ea71b96",
   "metadata": {},
   "outputs": [],
   "source": [
    "df_diff[df_diff['diff']==df_diff['diff'].min()]"
   ]
  },
  {
   "cell_type": "markdown",
   "id": "5fda594a-62c8-47c1-8bf1-5d4ef3e4a486",
   "metadata": {},
   "source": [
    "### Creating the equlibrium function"
   ]
  },
  {
   "cell_type": "code",
   "execution_count": null,
   "id": "06dedc5b-b104-49f4-8b89-18a3d6df8326",
   "metadata": {},
   "outputs": [],
   "source": [
    "@timemeasure\n",
    "@profile\n",
    "def equi(s):\n",
    "    \n",
    "        s_index = [i for i in range(len(s))]\n",
    "        \n",
    "        step = 0\n",
    "\n",
    "        diff_dict_444 = dict()\n",
    "\n",
    "        for i in range(len(s_index)):\n",
    "            left_12 = s[:step + 1]\n",
    "            sum_left_12 = np.sum(left_12)\n",
    "\n",
    "            right_12 = s[step + 1:]\n",
    "            sum_right_12  = np.sum(right_12)\n",
    "\n",
    "            diff_dict_444[i] = abs(sum_left_12 - sum_right_12)\n",
    "\n",
    "            step += 1\n",
    "            \n",
    "        min_key_444 = min(diff_dict_444, key = diff_dict_444.get)\n",
    "        min_diff_444 = diff_dict_444[min_key_444]\n",
    "        value_44 = s[min_key_444]\n",
    "            \n",
    "        return diff_dict_444, min_key_444, min_diff_444, value_44\n"
   ]
  },
  {
   "cell_type": "markdown",
   "id": "50e336eb-1aca-4570-9318-6d3768f96264",
   "metadata": {},
   "source": [
    "### Applying the equlibrium function"
   ]
  },
  {
   "cell_type": "code",
   "execution_count": null,
   "id": "d28b0bdf-6e52-49fc-a0e6-6baa47045575",
   "metadata": {},
   "outputs": [],
   "source": [
    "diff_dict_5, min_key_5, min_diff_5, value_5 = equi(equi_5)\n",
    "\n",
    "print(diff_dict_5)\n",
    "print(f'Key: {min_key_5} / Diff: {min_diff_5} / Value: {value_5}')\n",
    "print(equi_5)"
   ]
  },
  {
   "cell_type": "code",
   "execution_count": null,
   "id": "3679da69-eed2-44f9-8807-edf5ed12471b",
   "metadata": {},
   "outputs": [],
   "source": [
    "diff_dict_10, min_key_10, min_diff_10, value_10 = equi(equi_10)\n",
    "\n",
    "print(diff_dict_10)\n",
    "print(min_diff_10)\n",
    "print(f'Key: {min_key_10} / Diff: {min_diff_10} / Value: {value_10}')\n",
    "print(equi_10)"
   ]
  },
  {
   "cell_type": "code",
   "execution_count": null,
   "id": "9aa85c90-3dd0-42a0-a150-798ec34fd691",
   "metadata": {},
   "outputs": [],
   "source": [
    "equi_100\n",
    "diff_dict_100, min_key_100, min_diff_100, value_100 = equi(equi_100)\n",
    "\n",
    "print(diff_dict_100)\n",
    "print(f'Key: {min_key_100} / Diff: {min_diff_100 }')"
   ]
  },
  {
   "cell_type": "code",
   "execution_count": null,
   "id": "84d122f8-e0fb-4783-9ff2-55ef7d41c4f1",
   "metadata": {},
   "outputs": [],
   "source": [
    "diff_dict_40, min_key_40, min_diff_40, value_40 = equi(equi_40)\n",
    "\n",
    "print(diff_dict_40)\n",
    "print(f'Key: {min_key_40} / Diff: {min_diff_40} / Value: {value_40}')\n",
    "print(equi_40)"
   ]
  },
  {
   "cell_type": "markdown",
   "id": "cc52a56f-e387-419d-837a-62597aeae06c",
   "metadata": {},
   "source": [
    "#### Alternative version of the equilibrium function"
   ]
  },
  {
   "cell_type": "code",
   "execution_count": null,
   "id": "4a3a9de1-5e07-4ca0-808b-3767fedf191e",
   "metadata": {},
   "outputs": [],
   "source": [
    "@timemeasure\n",
    "@profile\n",
    "def equi_calc_2(array_777):\n",
    "    \n",
    "    sum_left = array_777[0]\n",
    "    sum_right = sum(array_777) - array_777[0]\n",
    "    diff = abs(sum_right - sum_left)\n",
    "    \n",
    "    for i in range(1, len(equi_5) - 1):\n",
    "        sum_left += array_777[i]\n",
    "        sum_right -= array_777[i]\n",
    "        \n",
    "        diff_current = abs(sum_right - sum_left)\n",
    "        \n",
    "        if diff > diff_current:\n",
    "            diff = diff_current\n",
    "    \n",
    "    return diff\n",
    " "
   ]
  },
  {
   "cell_type": "code",
   "execution_count": null,
   "id": "e31f253a-7ab6-49ea-a815-8edf763dce6b",
   "metadata": {},
   "outputs": [],
   "source": [
    "print(equi_5)\n",
    "equi_calc_2(equi_5)"
   ]
  },
  {
   "cell_type": "code",
   "execution_count": null,
   "id": "7a4aed3d-ad49-4aee-85ee-9c993872958d",
   "metadata": {},
   "outputs": [],
   "source": [
    "print(equi_10)\n",
    "equi_calc_2(equi_10)"
   ]
  },
  {
   "cell_type": "code",
   "execution_count": null,
   "id": "d115c1ac-b1f4-4fd7-a65f-cac6d8d3820e",
   "metadata": {},
   "outputs": [],
   "source": [
    "print(equi_100[:5])\n",
    "equi_calc_2(equi_100)"
   ]
  },
  {
   "cell_type": "code",
   "execution_count": null,
   "id": "f8a5f78e-48a5-44e1-93e3-4e89fadc3182",
   "metadata": {},
   "outputs": [],
   "source": [
    "print(equi_40[:5])"
   ]
  },
  {
   "cell_type": "code",
   "execution_count": null,
   "id": "b4c3fd9a-762e-4da2-b76d-c58c43883b8e",
   "metadata": {},
   "outputs": [],
   "source": [
    "equi_calc_2(equi_40)"
   ]
  },
  {
   "cell_type": "markdown",
   "id": "249e2ab8-dc7a-4c79-875e-d6aa80d7f28b",
   "metadata": {},
   "source": [
    "<p>The runtime of the second func increases with the array size, while the memory footprint is lower.<br>\n",
    "The first one delivers more information and stores a dict. This could explain this.</p>"
   ]
  },
  {
   "cell_type": "markdown",
   "id": "ac919cbf-5686-43e5-8325-b043ff2c8b7e",
   "metadata": {},
   "source": [
    "### Reverse order of a sequence of numbers"
   ]
  },
  {
   "cell_type": "code",
   "execution_count": null,
   "id": "d6b8ba91-45b7-43ec-9ab2-87614c246888",
   "metadata": {},
   "outputs": [],
   "source": [
    "a_444 = np.array([5,7,2,8,3])\n",
    "\n",
    "print(a_444)\n",
    "print(a_444[-1])\n",
    "print(a_444[-3])\n",
    "print(a_444[-4])\n",
    "print(a_444[-5])\n",
    "print(a_444[-0])"
   ]
  },
  {
   "cell_type": "markdown",
   "id": "122155b4-bb5f-44a5-9d6c-54add344e40c",
   "metadata": {},
   "source": [
    "<p>Numpy offers a flip function allready.</p>"
   ]
  },
  {
   "cell_type": "code",
   "execution_count": null,
   "id": "8708db9b-cca1-435f-9252-b8117ef926b0",
   "metadata": {},
   "outputs": [],
   "source": [
    "a_444_flip = np.flip(a_444)\n",
    "print(a_444_flip)\n",
    "print(len(a_444))"
   ]
  },
  {
   "cell_type": "markdown",
   "id": "ab6e605b-007f-4c55-8f16-826a1004cd5c",
   "metadata": {},
   "source": [
    "<p>The minus sign slices the values from the rear of the seq.<br>\n",
    "The problem this slicing starts with -1 instead and -0 is equal to 0.<br>\n",
    "</p>"
   ]
  },
  {
   "cell_type": "code",
   "execution_count": null,
   "id": "b1aab1fd-d15d-4a01-8ae2-f710abebe99a",
   "metadata": {},
   "outputs": [],
   "source": [
    "@timemeasure\n",
    "@profile\n",
    "def reverse_1(a_t5):\n",
    "    l23= []\n",
    "    for i in range(0, len(a_t5)+1):\n",
    "        # print(a_t5[-i])\n",
    "        l23.append(a_t5[-i])\n",
    "    \n",
    "    #l23.insert(6, a_t5[0]) \n",
    "    l23.pop(0)\n",
    "    \n",
    "    return l23\n",
    " "
   ]
  },
  {
   "cell_type": "code",
   "execution_count": null,
   "id": "6fea669c-716e-435a-9b98-f0f3c01f3e3b",
   "metadata": {},
   "outputs": [],
   "source": [
    "print(a_444)\n",
    "print(reverse_1(a_444))"
   ]
  },
  {
   "cell_type": "code",
   "execution_count": null,
   "id": "8c8f6c53-249b-4954-a8a9-de0e0e21407c",
   "metadata": {},
   "outputs": [],
   "source": [
    "array_123 =np.array([1,2,3])\n",
    "print(array_123)\n",
    "print(reverse_1(array_123))"
   ]
  },
  {
   "cell_type": "code",
   "execution_count": null,
   "id": "292c54d3-fa60-4c60-82b9-2befb43e850b",
   "metadata": {},
   "outputs": [],
   "source": [
    "array_999 = np.random.randint(20,30, 10)\n",
    "print(array_999)\n",
    "print(reverse_1(array_999))"
   ]
  },
  {
   "cell_type": "code",
   "execution_count": null,
   "id": "05306fd6-7a6b-4b2d-af27-44550637ea43",
   "metadata": {},
   "outputs": [],
   "source": [
    "def cycle_2(l, k):\n",
    "    result = [None] *  len(l)\n",
    "    for i in range(len(l)):\n",
    "        result[(i+k) % len(l)] = l[i]\n",
    "    return result\n"
   ]
  },
  {
   "cell_type": "code",
   "execution_count": null,
   "id": "fef78171-c99b-469c-aa9c-c9d62265f63b",
   "metadata": {},
   "outputs": [],
   "source": [
    "print(a_444)\n",
    "print(len(a_444))\n",
    "print(type(a_444))"
   ]
  },
  {
   "cell_type": "code",
   "execution_count": null,
   "id": "96f01a44-a4d1-4635-b4f8-9fcadb80977c",
   "metadata": {},
   "outputs": [],
   "source": [
    "print(cycle_2(list(a_444), 2))"
   ]
  },
  {
   "cell_type": "code",
   "execution_count": null,
   "id": "5085691e-911e-4736-a2e6-8e945716a585",
   "metadata": {},
   "outputs": [],
   "source": [
    "print(a_444)\n",
    "print(cycle_2(a_444, 1))"
   ]
  },
  {
   "cell_type": "code",
   "execution_count": null,
   "id": "a14d7963-77e2-4f3b-af94-aed7937893d4",
   "metadata": {},
   "outputs": [],
   "source": [
    "print(a_444)\n",
    "print(cycle_2(a_444, 4))"
   ]
  },
  {
   "cell_type": "code",
   "execution_count": null,
   "id": "035f5bc8-6cc1-4a9d-8919-811570485537",
   "metadata": {},
   "outputs": [],
   "source": [
    "print(a_444)\n",
    "print(cycle_2(a_444, 5))"
   ]
  },
  {
   "cell_type": "code",
   "execution_count": null,
   "id": "b469937c-e0b1-42e4-8caf-4f5fcb2cdfad",
   "metadata": {},
   "outputs": [],
   "source": [
    "print(a_444)\n",
    "print(cycle_2(a_444, 6))"
   ]
  },
  {
   "cell_type": "code",
   "execution_count": null,
   "id": "2e13fc53-8f97-4002-a163-9a9aa06bbffc",
   "metadata": {},
   "outputs": [],
   "source": [
    "print(a_444)\n",
    "print(cycle_2(a_444, 9))"
   ]
  },
  {
   "cell_type": "markdown",
   "id": "a5488faa-83ba-4e9f-b9c3-bce80d472d99",
   "metadata": {},
   "source": [
    "## String manipulaton\n",
    "<p>\n",
    "with the str-constructor.\n",
    "</p>"
   ]
  },
  {
   "cell_type": "code",
   "execution_count": null,
   "id": "6ad230bc-3993-42f2-ba30-84e3e1103c6b",
   "metadata": {},
   "outputs": [],
   "source": [
    "print(str('hello'))\n",
    "print(type(str('hello')))"
   ]
  },
  {
   "cell_type": "code",
   "execution_count": null,
   "id": "b0275e23-19f6-43b7-b1eb-1e2080715c81",
   "metadata": {},
   "outputs": [],
   "source": [
    "print(str(25.6768))\n",
    "print(type(str(25.6768)))\n",
    "print(type(25.6768))"
   ]
  },
  {
   "cell_type": "code",
   "execution_count": null,
   "id": "c623917d-1027-41ea-b1fa-e746cf31ddbf",
   "metadata": {},
   "outputs": [],
   "source": [
    "print(str(25))\n",
    "print(type(str(25)))\n",
    "print(type(25))"
   ]
  },
  {
   "cell_type": "code",
   "execution_count": null,
   "id": "1e3db6ae-f72b-40c3-8a02-5b52b7777d3c",
   "metadata": {},
   "outputs": [],
   "source": [
    "class MakingString:\n",
    "    \n",
    "    \n",
    "    def __init__(self, str_object):\n",
    "        self.object = str_object\n",
    "        \n",
    "    def makestr(self):\n",
    "        # Updating the string object\n",
    "        # This way the string methods are applied to the newly created object,\n",
    "        # and not the input string.\n",
    "        self.object=str(self.object)\n",
    "        return str(self.object)\n",
    "\n",
    "    def strtype(self):\n",
    "        return(type(self.object))\n",
    "    \n",
    "    def printstr(self):\n",
    "        return(print(self.object))\n",
    "    \n",
    "    def concat_str(self):\n",
    "        text=\"\"\n",
    "        for arg in list(self.object):\n",
    "            text += \" \" +  str(arg) + \" \"\n",
    "        return text\n"
   ]
  },
  {
   "cell_type": "code",
   "execution_count": null,
   "id": "6d9e97c2-02d8-476a-a2f4-f01b0d6e6054",
   "metadata": {},
   "outputs": [],
   "source": [
    "make_str_1 = MakingString(17689)\n",
    "print(make_str_1)\n",
    "print(type(make_str_1))\n",
    "print(type(str(make_str_1)))"
   ]
  },
  {
   "cell_type": "markdown",
   "id": "955bebac-d095-43c7-a20e-e983491624b6",
   "metadata": {},
   "source": [
    "#### Creating a class instance and applying methods"
   ]
  },
  {
   "cell_type": "code",
   "execution_count": null,
   "id": "0c8ead31-74ff-4c86-9e75-51768e835825",
   "metadata": {},
   "outputs": [],
   "source": [
    "make_str_1.makestr()"
   ]
  },
  {
   "cell_type": "code",
   "execution_count": null,
   "id": "b76f47fa-6de7-468e-a0e1-d1d8b65a00c6",
   "metadata": {},
   "outputs": [],
   "source": [
    "make_str_1.strtype()"
   ]
  },
  {
   "cell_type": "code",
   "execution_count": null,
   "id": "88a1874f-fa46-4cf4-98ef-f5b8bf718c8d",
   "metadata": {},
   "outputs": [],
   "source": [
    "make_str_1.printstr()"
   ]
  },
  {
   "cell_type": "markdown",
   "id": "78740f18-bbd3-454a-ba29-2ab94756f1d8",
   "metadata": {},
   "source": [
    "<p>\n",
    "First use type-method, then makestr.\n",
    "</p>"
   ]
  },
  {
   "cell_type": "code",
   "execution_count": null,
   "id": "87c5b2e0-bf3c-42b8-b029-6bd18b950efd",
   "metadata": {},
   "outputs": [],
   "source": [
    "make_str_2 = MakingString(2000)\n",
    "print(make_str_2.strtype())"
   ]
  },
  {
   "cell_type": "code",
   "execution_count": null,
   "id": "2a9e8cd5-f8ee-4a8e-8b3b-0b90f85ec86f",
   "metadata": {},
   "outputs": [],
   "source": [
    "print(make_str_2.makestr())\n",
    "print(type(make_str_2.makestr()))"
   ]
  },
  {
   "cell_type": "code",
   "execution_count": null,
   "id": "1723d9a4-bf6b-4ad8-a611-0e5172772c1f",
   "metadata": {},
   "outputs": [],
   "source": [
    "print(make_str_2.strtype())"
   ]
  },
  {
   "cell_type": "markdown",
   "id": "52c2be8a-692b-444b-986d-cf3a83b79170",
   "metadata": {},
   "source": [
    "#### Does concat work?"
   ]
  },
  {
   "cell_type": "code",
   "execution_count": null,
   "id": "7530d4b3-ef60-477b-9e12-7e5e4e006fe4",
   "metadata": {},
   "outputs": [],
   "source": [
    "make_str_3 = MakingString([17689, 2423423])"
   ]
  },
  {
   "cell_type": "code",
   "execution_count": null,
   "id": "e934578b-bc85-4015-a78f-81b22bee0210",
   "metadata": {},
   "outputs": [],
   "source": [
    "make_str_3.printstr()"
   ]
  },
  {
   "cell_type": "code",
   "execution_count": null,
   "id": "cf02ac30-daf6-4db1-bff8-bd4613e833f0",
   "metadata": {},
   "outputs": [],
   "source": [
    "make_str_3.concat_str()"
   ]
  },
  {
   "cell_type": "markdown",
   "id": "77966549-ac44-400b-812f-8394f6193bd3",
   "metadata": {},
   "source": [
    "#### Slicing strings"
   ]
  },
  {
   "cell_type": "code",
   "execution_count": null,
   "id": "5b71bf2b-7d94-4ad7-a21b-be3d89b38ea4",
   "metadata": {},
   "outputs": [],
   "source": [
    "tv_string = \"The sun always shines on tv.\"\n",
    "print(tv_string)\n",
    "print(type(tv_string))"
   ]
  },
  {
   "cell_type": "code",
   "execution_count": null,
   "id": "868fb95f-79f2-4734-9baa-1d04701ec84d",
   "metadata": {},
   "outputs": [],
   "source": [
    "print(tv_string[:3])\n",
    "print(tv_string[5])\n",
    "print(tv_string[-1])\n",
    "print(tv_string[3:])"
   ]
  },
  {
   "cell_type": "code",
   "execution_count": null,
   "id": "c5a624c6-9f31-4732-813e-77e6174aabf3",
   "metadata": {},
   "outputs": [],
   "source": [
    "print(tv_string.index('i'))"
   ]
  },
  {
   "cell_type": "code",
   "execution_count": null,
   "id": "86081ab5-6d1f-43ef-b3d8-8fd63b5537b3",
   "metadata": {},
   "outputs": [],
   "source": [
    "tv_dict = dict()\n",
    "\n",
    "for i in tv_string:\n",
    "    key_string = tv_string.index(i)\n",
    "    tv_dict[key_string] = i\n",
    "\n",
    "tv_dict "
   ]
  },
  {
   "cell_type": "code",
   "execution_count": null,
   "id": "f0d62fb2-12a6-4a79-8637-de3d7b2c7c04",
   "metadata": {},
   "outputs": [],
   "source": [
    "tv_sun = tv_string.replace('tv', 'the sun')\n",
    "print(tv_sun)"
   ]
  },
  {
   "cell_type": "code",
   "execution_count": null,
   "id": "68128dcb-3961-4a39-90c4-98bd01bcf261",
   "metadata": {},
   "outputs": [],
   "source": [
    "tv_sun_upper = tv_sun.upper()\n",
    "tv_sun_upper "
   ]
  },
  {
   "cell_type": "code",
   "execution_count": null,
   "id": "4e895b7f-1bfe-4076-87eb-a4f3ba9064ae",
   "metadata": {},
   "outputs": [],
   "source": [
    "tv_sun_lower = tv_sun_upper.lower()\n",
    "tv_sun_lower"
   ]
  },
  {
   "cell_type": "code",
   "execution_count": null,
   "id": "72e489c2-93d3-4a79-b8fa-7eb1ebefda7b",
   "metadata": {},
   "outputs": [],
   "source": [
    "tunnel_list = \\\n",
    "[\"And\", \"the\", \"big\", \"wheel\", \"keep\", \"on\", \"turning\", \"neon burning\", \"up\", \n",
    "\"above\"]\n",
    "\n",
    "print(tunnel_list)"
   ]
  },
  {
   "cell_type": "code",
   "execution_count": null,
   "id": "dbaacaea-7287-4721-910a-5ffec48dcf94",
   "metadata": {},
   "outputs": [],
   "source": [
    "tunnel_text =  ' '.join(tunnel_list)\n",
    "print(tunnel_text)"
   ]
  },
  {
   "cell_type": "code",
   "execution_count": null,
   "id": "dd13b4bf-1624-4a2a-b239-a8d386ae98ff",
   "metadata": {},
   "outputs": [],
   "source": [
    "tunnel_text_2 =  '_'.join(tunnel_list)\n",
    "print(tunnel_text_2)"
   ]
  },
  {
   "cell_type": "markdown",
   "id": "290614d8-7f9d-4054-a5d1-ce95b2a7f34e",
   "metadata": {},
   "source": [
    "#### Splitting a string into a list."
   ]
  },
  {
   "cell_type": "code",
   "execution_count": null,
   "id": "af659af3-a6ab-4737-bb64-6960841e6249",
   "metadata": {},
   "outputs": [],
   "source": [
    "ghost_train = \"And I've been riding on a ghost train where the cars they scream and slam\"\n",
    "print(ghost_train)"
   ]
  },
  {
   "cell_type": "code",
   "execution_count": null,
   "id": "4c51037d-3518-4cf7-ae19-e7e6e2d1f9ba",
   "metadata": {},
   "outputs": [],
   "source": [
    "ghost_train_list = ghost_train.split(\" \")\n",
    "print(ghost_train_list)"
   ]
  },
  {
   "cell_type": "code",
   "execution_count": null,
   "id": "cf4b917d-407a-4241-8722-52f192589332",
   "metadata": {},
   "outputs": [],
   "source": [
    "tunnel_text_3 = tunnel_text_2.split(\"_\")\n",
    "print(tunnel_text_3)"
   ]
  },
  {
   "cell_type": "markdown",
   "id": "9af29f14-ed8f-4935-821f-29caaa43d5f8",
   "metadata": {},
   "source": [
    "#### Applying str methods to data frames"
   ]
  },
  {
   "cell_type": "code",
   "execution_count": null,
   "id": "b56bf951-8a8c-4dba-bdcd-8b0735493671",
   "metadata": {},
   "outputs": [],
   "source": [
    "models_23= \\\n",
    "pd.DataFrame(zip(['ford', 'mazda', 'chrysler'], \n",
    "                 ['sonic', 'silver', 'tanker'],\n",
    "                 [10,11,12],\n",
    "                 ['Famiely', 'Sport', 'Famiely']),\n",
    "                 columns=['brand', 'model', 'usage', 'Lifestyle'])\n",
    "\n",
    "models_23"
   ]
  },
  {
   "cell_type": "code",
   "execution_count": null,
   "id": "63b6a6b5-c003-4351-987e-5de3a98a69a8",
   "metadata": {},
   "outputs": [],
   "source": [
    "models_23.info()"
   ]
  },
  {
   "cell_type": "code",
   "execution_count": null,
   "id": "5f3eaa9a-00ca-4e08-971d-48fb11c3c157",
   "metadata": {},
   "outputs": [],
   "source": [
    "models_23['brand'] = models_23['brand'].str.capitalize()\n",
    "models_23"
   ]
  },
  {
   "cell_type": "code",
   "execution_count": null,
   "id": "8f34c1d0-3a4b-4664-98fb-2237a61456b2",
   "metadata": {},
   "outputs": [],
   "source": [
    "models_23.columns = models_23.columns.str.capitalize()"
   ]
  },
  {
   "cell_type": "code",
   "execution_count": null,
   "id": "089adbdb-7dc0-4cce-9ae8-5a76fe5a0db0",
   "metadata": {},
   "outputs": [],
   "source": [
    "models_23"
   ]
  },
  {
   "cell_type": "code",
   "execution_count": null,
   "id": "6644c428-6c04-45aa-884c-cf3dd187b2f4",
   "metadata": {},
   "outputs": [],
   "source": [
    "models_23['Model'] = models_23['Model'].str.upper()"
   ]
  },
  {
   "cell_type": "markdown",
   "id": "fac76ff2-1983-4d65-9f2e-103ba6166649",
   "metadata": {},
   "source": [
    "<p>Replacing misspelling.</p>"
   ]
  },
  {
   "cell_type": "code",
   "execution_count": null,
   "id": "2e523e02-be76-495d-a1bb-91d7212386f8",
   "metadata": {},
   "outputs": [],
   "source": [
    "models_23['Lifestyle'] = models_23['Lifestyle'].str.replace('Famiely', 'Family')\n",
    "models_23"
   ]
  },
  {
   "cell_type": "markdown",
   "id": "fbc5868a-2453-4a4e-90c7-17e4b6a03fc7",
   "metadata": {},
   "source": [
    "#### String encrpytion\n",
    "\n",
    "<p>\n",
    "by simply shifting the character n-times (Caesar encryption).\n",
    "</p>"
   ]
  },
  {
   "cell_type": "code",
   "execution_count": null,
   "id": "2ca41f30-df4d-4bc9-87d8-480d4028ff1d",
   "metadata": {},
   "outputs": [],
   "source": [
    "def encryption(text, key):\n",
    "    \n",
    "    alphabet='a bcdefghijklmnopqrstuvwxyz.,:!?'\n",
    "    \n",
    "    encrypted_text = ''\n",
    "\n",
    "    # Shifting the chars\n",
    "    for char in text.lower():\n",
    "        idx = (alphabet.index(char) + key) % len(alphabet)\n",
    "        encrypted_text = encrypted_text + alphabet[idx]\n",
    "\n",
    "    return encrypted_text"
   ]
  },
  {
   "cell_type": "code",
   "execution_count": null,
   "id": "b705b0f0-6ed0-4ec3-b0dc-61a741e60a92",
   "metadata": {},
   "outputs": [],
   "source": [
    "print(encryption('Aquitani', 1))"
   ]
  },
  {
   "cell_type": "code",
   "execution_count": null,
   "id": "6b8c2ced-67a4-4f73-823f-3d6aa5481716",
   "metadata": {},
   "outputs": [],
   "source": [
    "print(encryption('Belga are the bravest', 6))"
   ]
  },
  {
   "cell_type": "code",
   "execution_count": null,
   "id": "26da80e5-0d87-44a2-b196-43a9b9947445",
   "metadata": {},
   "outputs": [],
   "source": [
    "caesar_from_gaul = \\\n",
    "\"All Gaul is divided into three parts, one of which the Belgae inhabit, the Aquitani another, those who in their own language are called Celts, in our Gauls, the third.\"\n",
    "print(caesar_from_gaul)"
   ]
  },
  {
   "cell_type": "code",
   "execution_count": null,
   "id": "43bc9d82-b271-413f-86a7-ee52c79f70d3",
   "metadata": {},
   "outputs": [],
   "source": [
    "encrypto_caesar = encryption(caesar_from_gaul, 10)\n",
    "print(encrypto_caesar)"
   ]
  },
  {
   "cell_type": "code",
   "execution_count": null,
   "id": "1401a6e8-35a3-4c2f-83e3-0f81259093bd",
   "metadata": {},
   "outputs": [],
   "source": [
    "def decryption(text, key):\n",
    "    \n",
    "    alphabet='a bcdefghijklmnopqrstuvwxyz.,:!?'\n",
    "    \n",
    "    encrypted_text = ''\n",
    "\n",
    "    # Shifting the chars\n",
    "    for char in text.lower():\n",
    "        idx = alphabet.index(char) - key\n",
    "        encrypted_text = encrypted_text + alphabet[idx]\n",
    "\n",
    "    return encrypted_text"
   ]
  },
  {
   "cell_type": "code",
   "execution_count": null,
   "id": "514527ca-667f-43af-8cfe-33d51d896255",
   "metadata": {},
   "outputs": [],
   "source": [
    "print(decryption('j.?s!jxs', 10))"
   ]
  },
  {
   "cell_type": "code",
   "execution_count": null,
   "id": "8ff7cadc-889c-4c12-9335-f6686162693d",
   "metadata": {},
   "outputs": [],
   "source": [
    "print(decryption(encrypto_caesar, 10))"
   ]
  },
  {
   "cell_type": "markdown",
   "id": "4345a743-802e-42ed-90a0-357f58047b95",
   "metadata": {},
   "source": [
    "### Upper or lower\n",
    "<p>\n",
    "depending on conditions.\n",
    "</p> \n",
    "<p>\n",
    "Depending on startswith t.\n",
    "</p>"
   ]
  },
  {
   "cell_type": "code",
   "execution_count": null,
   "id": "91caf75a-39a3-40f5-b99e-f44bfe48b98a",
   "metadata": {},
   "outputs": [],
   "source": [
    "text_444 = \\\n",
    "\" One part of these, which it has been said that the Gauls occupy, \\\n",
    "takes its beginning at the river Rhone ; it is bounded by the river Garonne, \\\n",
    "the ocean, and the territories of the Belgae; it borders, too, on the side of the \\\n",
    "Sequani and the Helvetii, upon the river Rhine , and stretches toward the north.\"\n",
    "\n",
    "print(text_444[:40])"
   ]
  },
  {
   "cell_type": "code",
   "execution_count": null,
   "id": "75a93ae3-3315-48ea-b320-064fe9f43c61",
   "metadata": {},
   "outputs": [],
   "source": [
    "text_444_split = text_444.split()\n",
    "print(text_444_split[:5])"
   ]
  },
  {
   "cell_type": "code",
   "execution_count": null,
   "id": "08f364bf-df0b-49c0-8cdb-558070910f17",
   "metadata": {},
   "outputs": [],
   "source": [
    "for i in range(len(text_444_split)):\n",
    "    # print(text_444_split[i])\n",
    "    \n",
    "    if text_444_split[i].startswith('t'):\n",
    "        text_444_split[i] =  text_444_split[i].upper()\n",
    "    else:\n",
    "        text_444_split[i] =  text_444_split[i].lower()\n",
    "        \n",
    "print(text_444_split[:20])"
   ]
  },
  {
   "cell_type": "code",
   "execution_count": null,
   "id": "b8bbedf4-9855-49e0-8d07-68b658682d95",
   "metadata": {},
   "outputs": [],
   "source": [
    "text_444_join = \" \".join(text_444_split)\n",
    "text_444_join"
   ]
  },
  {
   "cell_type": "markdown",
   "id": "67cb07fd-ceb2-418c-bf9a-eb91af482ca2",
   "metadata": {},
   "source": [
    "<p>\n",
    "Depending even or whole index number.\n",
    "</p>"
   ]
  },
  {
   "cell_type": "code",
   "execution_count": null,
   "id": "4e063aca-8ef0-4709-a95b-67fc3fce2ab3",
   "metadata": {},
   "outputs": [],
   "source": [
    "text_343 = \\\n",
    "\" Aquitania extends from the river Garonne to the Pyrenaean \\\n",
    "mountains and to that part of the ocean which is near Spain\""
   ]
  },
  {
   "cell_type": "code",
   "execution_count": null,
   "id": "97829bdc-e424-484b-b0d5-c70efb54e445",
   "metadata": {},
   "outputs": [],
   "source": [
    "word_list = text_343.split()\n",
    "\n",
    "for i in range(len(word_list)):\n",
    "    if i%2 == 0:\n",
    "        word_list[i] = word_list[i].lower()\n",
    "    else:\n",
    "        word_list[i] = word_list[i].upper()"
   ]
  },
  {
   "cell_type": "code",
   "execution_count": null,
   "id": "559c7ed2-1aef-4138-8312-2577cd380c2a",
   "metadata": {},
   "outputs": [],
   "source": [
    "word_text = \" \".join(word_list)\n",
    "word_text"
   ]
  },
  {
   "cell_type": "code",
   "execution_count": null,
   "id": "9c7f27cb-fd83-49f1-8480-81adcb4972dd",
   "metadata": {},
   "outputs": [],
   "source": [
    "word_list_2 = text_343.split()\n",
    "\n",
    "for i in range(len(word_list_2)):\n",
    "    if i%2 == 0:\n",
    "        word_list_2[i] = word_list_2[i].replace(word_list_2[i], \"§§§\")\n",
    "    else:\n",
    "        word_list_2[i] = word_list_2[i].replace(word_list_2[i], \"@@@\")\n",
    "        \n",
    "word_list_2[:10]"
   ]
  },
  {
   "cell_type": "markdown",
   "id": "9bf6b8c5-5a00-4f91-b28b-22b4b404834f",
   "metadata": {},
   "source": [
    "### Regex with re"
   ]
  },
  {
   "cell_type": "code",
   "execution_count": null,
   "id": "929a0141-8b0b-4ff3-9000-f5815a4242de",
   "metadata": {},
   "outputs": [],
   "source": [
    "# import re\n",
    "text_6777 = \\\n",
    "\"Induced by these considerations, and influenced by the authority of Orgetorix, \\\n",
    "they determined to provide such things as were necessary for their expedition-to \\\n",
    "buy up as great a number as possible of beasts of burden and wagons-to make their \\\n",
    "sowings as large as possible, so that on their march plenty of corn might be in \\\n",
    "store-and to establish peace and friendship with the neighboring states.\""
   ]
  },
  {
   "cell_type": "code",
   "execution_count": null,
   "id": "500fccb6-763e-41cb-ba8f-c62475bf67d7",
   "metadata": {},
   "outputs": [],
   "source": [
    "find_and = re.findall('and', text_6777)\n",
    "print(find_and)\n",
    "print(len(find_and))"
   ]
  },
  {
   "cell_type": "code",
   "execution_count": null,
   "id": "f166707f-276e-433c-80a3-6687f896e41f",
   "metadata": {},
   "outputs": [],
   "source": [
    "search_bth = re.search(r\"\\bth\",text_6777)\n",
    "\n",
    "print(search_bth.string[:10])\n",
    "print(search_bth.span())\n",
    "print(search_bth.group())\n"
   ]
  },
  {
   "cell_type": "code",
   "execution_count": null,
   "id": "40b62ffa-c1e2-4ea4-9b3b-8fc947781be0",
   "metadata": {},
   "outputs": [],
   "source": [
    "text_6777_split = re.split(\" \", text_6777)\n",
    "print(text_6777_split[:20])"
   ]
  },
  {
   "cell_type": "code",
   "execution_count": null,
   "id": "f0c26d64-32ec-4432-9f45-b199c86fb99a",
   "metadata": {},
   "outputs": [],
   "source": [
    "text_6777_a = re.sub(\"by\", \"@@@@\", text_6777)\n",
    "text_6777_a[:60]"
   ]
  },
  {
   "cell_type": "markdown",
   "id": "652627ec-752d-47d9-8fd2-09924a22ce46",
   "metadata": {},
   "source": [
    "#### Extracting temperatures"
   ]
  },
  {
   "cell_type": "code",
   "execution_count": null,
   "id": "8f1b3b60-ed35-486b-a643-e256ccd12e4d",
   "metadata": {},
   "outputs": [],
   "source": [
    "text_999=\\\n",
    "\"Let's consider the following temperatures using the Celsius scale: +23 C, 0 C, -20.0 C, \\\n",
    "-2.2 C, -5.65 C, 0.0001 C. To convert them to the Fahrenheit scale you have \\\n",
    "to multiply the number by 9/5 and add 32 to the result. Therefore, the \\\n",
    "corresponding temperatures in the Fahrenheit scale will be: \\\n",
    "+73.4 F, 32 F, -4.0 F, +28.04 F, 21.83 F, +32.00018 F.\""
   ]
  },
  {
   "cell_type": "code",
   "execution_count": null,
   "id": "bd016126-39e1-4952-935e-25afdca56560",
   "metadata": {},
   "outputs": [],
   "source": [
    "text_999"
   ]
  },
  {
   "cell_type": "code",
   "execution_count": null,
   "id": "934bb5de-ce22-4470-8cdb-cd5d9c1afc85",
   "metadata": {},
   "outputs": [],
   "source": [
    "# Define a pattern to search for valid temperatures in text\n",
    "pattern = re.compile(r\"[+-]?\\d+.?[\\d]*? [CF]\")\n",
    "pattern_2 = re.compile(r'[+-]?\\d+\\.?\\d* [CF]')\n",
    "# [\\s\\s][C F]\n",
    "# [+-]?[ \\d]?[\\s\\S]?\n",
    "# Print the temperatures out\n",
    "print(re.findall(pattern, text_999))\n",
    "print(re.findall(pattern_2, text_999))"
   ]
  },
  {
   "cell_type": "code",
   "execution_count": null,
   "id": "2ef91b6a-a3e2-4bb1-8e41-2e9a76eb2e03",
   "metadata": {},
   "outputs": [],
   "source": [
    "matches_storage = re.finditer(pattern, text_999)\n",
    "\n",
    "# Loop over matches_storage and print out item properties\n",
    "for match in matches_storage:\n",
    "    print('Matching sequence = ' + match.group())\n",
    "    print('Start index = ' + str(match.start()))\n",
    "    print('End index = ' + str(match.end()))"
   ]
  },
  {
   "cell_type": "markdown",
   "id": "32bdc2ec-2363-445a-87b9-f3d5242566d4",
   "metadata": {},
   "source": [
    "#### Extracting email-adresses"
   ]
  },
  {
   "cell_type": "code",
   "execution_count": null,
   "id": "c11ae230-a483-44ca-97ad-d25e2f6f608c",
   "metadata": {},
   "outputs": [],
   "source": [
    "text_emails = \\\n",
    "\"This battle ended, that he fabius.metellus@gmail.com might be able to come up with the remaining forces \\\n",
    "of the Helvetii, he procures a bridge to be made across the Saone , and thus leads \\\n",
    "his army over. The Helvetii like julius.caesar@outlook.com confused by his sudden arrival, when they found that he \\\n",
    "had effected in one day, what they, themselves had with the utmost difficulty \\\n",
    "accomplished in twenty namely, hannibal.barka@wechat.ch, the crossing of the river, send embassadors to him; \\\n",
    "at the head of which embassy was Divico, who had been commander peril.scott@gmx.de of the Helvetii, \\\n",
    "in the war against Cassius cassius.scipio@online.network.\""
   ]
  },
  {
   "cell_type": "code",
   "execution_count": null,
   "id": "1bd187f1-05dc-4eb9-8900-fab350671363",
   "metadata": {},
   "outputs": [],
   "source": [
    "email_pattern = re.compile(r\"[\\w.]*@\\w*.\\w*\")\n",
    "# [\\w\\.]+ @ [a-z]+\\.[a-z]+\n",
    "print(re.findall(email_pattern, text_emails ))"
   ]
  },
  {
   "cell_type": "code",
   "execution_count": null,
   "id": "add552c8-87b3-4cb5-8b5b-b0b438e0e6c8",
   "metadata": {},
   "outputs": [],
   "source": [
    "matches_emails = re.finditer(email_pattern, text_emails)\n",
    "\n",
    "for match in matches_emails:\n",
    "    print('Matching sequence = ' + match.group())\n",
    "    print('Start index = ' + str(match.start()))\n",
    "    print('End index = ' + str(match.end()))"
   ]
  },
  {
   "cell_type": "markdown",
   "id": "66b4d3c8-c6c2-4a2c-91db-3d64659dc08c",
   "metadata": {},
   "source": [
    "#### Password check\n",
    "<p>\n",
    "for password condtions.\n",
    "</p>"
   ]
  },
  {
   "cell_type": "code",
   "execution_count": null,
   "id": "f9a2b268-2582-400c-93e4-35a91e3c8c56",
   "metadata": {},
   "outputs": [],
   "source": [
    "password_1 = \"80wwdfgdfEre%_-\"\n",
    "re.findall(r\"^[a-zA-Z0-9_\\-\\$\\%\\ß\\?]{3,16}$\", password_1)"
   ]
  },
  {
   "cell_type": "code",
   "execution_count": null,
   "id": "c5b2a6a1-3de5-4b9b-a5d6-7080f97e8be9",
   "metadata": {},
   "outputs": [],
   "source": [
    "def password_check(password):\n",
    "    if re.findall(r\"^[a-zA-Z0-9_\\-\\$\\%\\?]{3,16}$\", password):\n",
    "        print('Password allowed.')\n",
    "    else:\n",
    "        print(\"Bad password.\")\n",
    "        \n",
    "password_check(password_1)"
   ]
  },
  {
   "cell_type": "code",
   "execution_count": null,
   "id": "9602e36c-30a4-484f-9ac4-b176269ec874",
   "metadata": {},
   "outputs": [],
   "source": [
    "# § not included in pattern\n",
    "password_2 = \"80wwdfgdfEre%_-§§§\"\n",
    "password_check(password_2)"
   ]
  },
  {
   "cell_type": "markdown",
   "id": "115dbb3f-a07f-4d4c-92b4-2685ef88efa2",
   "metadata": {},
   "source": [
    "#### Extract only the strings \n",
    "<p>from the battles list without the year numbers.</p>"
   ]
  },
  {
   "cell_type": "code",
   "execution_count": null,
   "id": "d4e78ef2-3f92-4f7d-bbbd-88a9de3b5888",
   "metadata": {},
   "outputs": [],
   "source": [
    "battles = [\"Battle of Bannockburn, 1314, Scots, English, Scots\",\n",
    "           \"Battle of Freiburg, 1644, French, Imperium, indecisive\"]"
   ]
  },
  {
   "cell_type": "code",
   "execution_count": null,
   "id": "df5f61ee-ad86-47f0-82b6-00c3e5f9a1ff",
   "metadata": {},
   "outputs": [],
   "source": [
    "pattern = re.compile(r', \\d+,')\n",
    "print(pattern)"
   ]
  },
  {
   "cell_type": "code",
   "execution_count": null,
   "id": "6b247705-3434-41e8-83a7-42a7ee0091c0",
   "metadata": {},
   "outputs": [],
   "source": [
    "battles[0]"
   ]
  },
  {
   "cell_type": "code",
   "execution_count": null,
   "id": "e78d3147-25c3-4e17-8f0c-223e0bdfa8ac",
   "metadata": {},
   "outputs": [],
   "source": [
    "split_result = re.split(pattern, battles[0])\n",
    "print(split_result)"
   ]
  },
  {
   "cell_type": "code",
   "execution_count": null,
   "id": "a0b1ed98-9729-4b34-b771-83b389db1214",
   "metadata": {},
   "outputs": [],
   "source": [
    "movie_and_director = ', '.join(split_result )\n",
    "print(movie_and_director)"
   ]
  },
  {
   "cell_type": "markdown",
   "id": "634bcfe7-babb-433b-906a-e21672f7bf64",
   "metadata": {},
   "source": [
    "#### Function"
   ]
  },
  {
   "cell_type": "code",
   "execution_count": null,
   "id": "29aa0e91-3ec0-4842-aa59-e2786c051584",
   "metadata": {},
   "outputs": [],
   "source": [
    "battle_strings=[]\n",
    "\n",
    "for battle in battles:\n",
    "    split_result = re.split(pattern, battle)\n",
    "    battle_string = \",\".join(split_result)\n",
    "    battle_strings.append(battle_string)\n",
    "    \n",
    "print(battle_strings)"
   ]
  },
  {
   "cell_type": "markdown",
   "id": "fcf5389d-15bf-4e26-9d62-9cc659fd769a",
   "metadata": {},
   "source": [
    "### The Pandas apply function"
   ]
  },
  {
   "cell_type": "code",
   "execution_count": null,
   "id": "e0e0a262-b46e-4bb3-beee-d7c226929de9",
   "metadata": {},
   "outputs": [],
   "source": [
    "# print(os.getcwd())\n",
    "student = pd.read_csv(\"csv/student/student-mat.csv\", sep=\";\")"
   ]
  },
  {
   "cell_type": "code",
   "execution_count": null,
   "id": "ff4b4f74-5456-4686-b9a7-b09e3df3b5be",
   "metadata": {},
   "outputs": [],
   "source": [
    "student.columns"
   ]
  },
  {
   "cell_type": "code",
   "execution_count": null,
   "id": "732d665b-d1fb-4d7a-bed2-d3dee892d69a",
   "metadata": {},
   "outputs": [],
   "source": [
    "student.head(2)"
   ]
  },
  {
   "cell_type": "code",
   "execution_count": null,
   "id": "dfd80038-0248-4cd2-9d6e-281d16760b18",
   "metadata": {},
   "outputs": [],
   "source": [
    "student.info()"
   ]
  },
  {
   "cell_type": "code",
   "execution_count": null,
   "id": "87dcab7d-e9d8-43ac-8201-c14b010bc121",
   "metadata": {},
   "outputs": [],
   "source": [
    "math_scores = ['G1', 'G2', 'G3']\n",
    "student[math_scores].head()"
   ]
  },
  {
   "cell_type": "code",
   "execution_count": null,
   "id": "0a6fd085-57a1-4db7-94cd-5707a17b83b9",
   "metadata": {},
   "outputs": [],
   "source": [
    "student[math_scores].describe()"
   ]
  },
  {
   "cell_type": "markdown",
   "id": "4e34939c-98a4-4368-837e-f83da1d9c16b",
   "metadata": {},
   "source": [
    "#### Finding the most frequent unique value\n",
    "<p>in columns of a df.</p>"
   ]
  },
  {
   "cell_type": "code",
   "execution_count": null,
   "id": "200015ea-a3a6-4b21-8842-b17e6cb48e0c",
   "metadata": {},
   "outputs": [],
   "source": [
    "student.mode()"
   ]
  },
  {
   "cell_type": "markdown",
   "id": "f86f47f8-0f9d-4f64-ba78-f7940a32170a",
   "metadata": {},
   "source": [
    "#### Self defined mode function"
   ]
  },
  {
   "cell_type": "code",
   "execution_count": null,
   "id": "147c2f2e-a9d3-495a-8473-6e4371ee2eff",
   "metadata": {},
   "outputs": [],
   "source": [
    "def mode_function(series):\n",
    "    col = list(series)\n",
    "    items_output = []\n",
    "    # print(col)\n",
    "    # Set allows only unique values\n",
    "    items = [(x, col.count(x)) for x in set(series)]\n",
    "    # reduce() operates pairwise\n",
    "    output = reduce(lambda x, y: x if x[1] > y[1] else y, items)\n",
    "    # Return the item with the highest counts\n",
    "    return output[0]\n"
   ]
  },
  {
   "cell_type": "markdown",
   "id": "31ef1474-532c-4ab9-8364-707a101f05fa",
   "metadata": {},
   "source": [
    "#### Applying the mode func on the student data frame"
   ]
  },
  {
   "cell_type": "code",
   "execution_count": null,
   "id": "9367eefe-bdbd-4f7f-9c82-f782cae168e9",
   "metadata": {},
   "outputs": [],
   "source": [
    "student_mode = student.apply(mode_function)\n",
    "print(student_mode)"
   ]
  },
  {
   "cell_type": "code",
   "execution_count": null,
   "id": "10291b64-ae11-4bc7-b60e-3fc05b62149d",
   "metadata": {},
   "outputs": [],
   "source": [
    "def mathscores_classification(input_col):\n",
    "    average = np.mean(input_col)\n",
    "    if average < 5:\n",
    "        return [average, 'low_score']\n",
    "    if average >= 5 and average < 15:\n",
    "        return [average, 'moderate score']\n",
    "    if average >= 15:\n",
    "        return [average, 'high score']\n"
   ]
  },
  {
   "cell_type": "markdown",
   "id": "93bec551-b649-4ff3-9e17-947f5c20681e",
   "metadata": {},
   "source": [
    "#### Arguments of result_type"
   ]
  },
  {
   "cell_type": "code",
   "execution_count": null,
   "id": "fccba484-70c9-4205-83f7-b64541aa6255",
   "metadata": {},
   "outputs": [],
   "source": [
    "# col sums\n",
    "mathscores_per_cohort_reduce = \\\n",
    "student[math_scores].apply(mathscores_classification, result_type='reduce')\n",
    "mathscores_per_cohort_reduce  "
   ]
  },
  {
   "cell_type": "code",
   "execution_count": null,
   "id": "2b1d0e4e-fc76-48a3-924a-b3fe85e29348",
   "metadata": {},
   "outputs": [],
   "source": [
    "# col sums\n",
    "mathscores_per_cohort_expand = \\\n",
    "student[math_scores].apply(mathscores_classification, result_type='expand')\n",
    "mathscores_per_cohort_expand"
   ]
  },
  {
   "cell_type": "markdown",
   "id": "e3d8a151-1e51-4793-98b6-c44bd452af11",
   "metadata": {},
   "source": [
    "<p>The average is moderate. This makes sense.</p>"
   ]
  },
  {
   "cell_type": "code",
   "execution_count": null,
   "id": "140465aa-34b9-4e76-91dd-655e3fe15777",
   "metadata": {},
   "outputs": [],
   "source": [
    "# row sums\n",
    "student[['Mean_score_per_student', 'Score classification']] = \\\n",
    "student[math_scores].apply(mathscores_classification, axis=1, result_type='expand')\n",
    "\n",
    "students_classified = \\\n",
    "student[['G1', 'G2', 'G3','Mean_score_per_student', 'Score classification']]"
   ]
  },
  {
   "cell_type": "code",
   "execution_count": null,
   "id": "555087b7-0c82-4ed7-8da7-73d21b6b2cb6",
   "metadata": {},
   "outputs": [],
   "source": [
    "students_classified.head()"
   ]
  },
  {
   "cell_type": "code",
   "execution_count": null,
   "id": "97343203-c4c2-4d95-a41e-227134cd4d60",
   "metadata": {},
   "outputs": [],
   "source": [
    "students_classified['Score classification'].value_counts()"
   ]
  },
  {
   "cell_type": "markdown",
   "id": "591a5472-a593-49ff-87ac-ba010e2f9e10",
   "metadata": {},
   "source": [
    "<p>Most scores are moderate. This makes sense.</p>"
   ]
  },
  {
   "cell_type": "markdown",
   "id": "0f69b832-0ecc-4764-99fd-20ecd2895b70",
   "metadata": {},
   "source": [
    "#### Using the args argument\n",
    "<p>, which allows to input multiple args arguments, if necessary.</p>\n",
    "\n",
    "#### Normalizing the score cols\n",
    "<p>In this case args arguments are not necessary.</p>"
   ]
  },
  {
   "cell_type": "code",
   "execution_count": null,
   "id": "b533f3f3-4f97-404d-b7d0-11214e8ea95c",
   "metadata": {},
   "outputs": [],
   "source": [
    "def normalizing_variables(series):\n",
    "   # Define the expression to rescale input series\n",
    "   return series * ((max(series)-min(series))/100) + min(series)"
   ]
  },
  {
   "cell_type": "code",
   "execution_count": null,
   "id": "0d6d4bc7-5f3a-4123-8bbe-1924f8c28be8",
   "metadata": {},
   "outputs": [],
   "source": [
    "student_normalized = student[math_scores].apply(normalizing_variables)\n",
    "student_normalized.head()"
   ]
  },
  {
   "cell_type": "markdown",
   "id": "f0d72710-ce18-4387-9adf-985665bda016",
   "metadata": {},
   "source": [
    "#### Rescaling variables with input arguments"
   ]
  },
  {
   "cell_type": "code",
   "execution_count": null,
   "id": "655fc196-a17b-421a-b147-43f06bd84c94",
   "metadata": {},
   "outputs": [],
   "source": [
    "def rescaling_variables(series, low, high):\n",
    "   # Define the expression to rescale input series\n",
    "   return series * ((high-low)/100) + low"
   ]
  },
  {
   "cell_type": "code",
   "execution_count": null,
   "id": "dd30ad78-5bef-4e37-b63c-ad6e6cd1ae0d",
   "metadata": {},
   "outputs": [],
   "source": [
    "student_rescaled = student[math_scores].apply(rescaling_variables, args=[1,10])\n",
    "student_rescaled.head()"
   ]
  },
  {
   "cell_type": "code",
   "execution_count": null,
   "id": "6991724b-4645-4cf4-9c85-0e2fb42162a0",
   "metadata": {},
   "outputs": [],
   "source": [
    "def normalizing_variables(series):\n",
    "   # Define the expression to rescale input series\n",
    "   return series * ((max(series)-min(series))/100) + min(series)\n",
    "\n",
    "student[math_scores].apply(normalizing_variables)"
   ]
  },
  {
   "cell_type": "code",
   "execution_count": null,
   "id": "5b07aaaa-6cc8-432a-a312-9a2acf176018",
   "metadata": {},
   "outputs": [],
   "source": [
    "student[math_scores].apply(normalizing_variables)"
   ]
  },
  {
   "cell_type": "markdown",
   "id": "a43caa43-9c34-48bb-b805-4f6ddcd62c4a",
   "metadata": {},
   "source": [
    "#### Groupby"
   ]
  },
  {
   "cell_type": "code",
   "execution_count": null,
   "id": "0c51d707-54da-4abf-b109-ff83bbcdba27",
   "metadata": {},
   "outputs": [],
   "source": [
    "student['school'].value_counts()"
   ]
  },
  {
   "cell_type": "code",
   "execution_count": null,
   "id": "b0d8cde1-ef04-4f70-b89f-54a30b06f363",
   "metadata": {},
   "outputs": [],
   "source": [
    "grouby_school=student.groupby('school')\n",
    "\n",
    "print(grouby_school)\n",
    "print(type(grouby_school))"
   ]
  },
  {
   "cell_type": "markdown",
   "id": "d67f30b0-cb89-4450-90f8-ed94ff73a038",
   "metadata": {},
   "source": [
    "<p>Groupby stores the grouped results as df in a tuple.<br>\n",
    "In this case there are stored 2 df in the tuple.</p>"
   ]
  },
  {
   "cell_type": "code",
   "execution_count": null,
   "id": "0fc753b8-d13e-4fd9-9a1e-cf7f63a3d5a2",
   "metadata": {},
   "outputs": [],
   "source": [
    "print(len(grouby_school))"
   ]
  },
  {
   "cell_type": "code",
   "execution_count": null,
   "id": "da3d0979-62fc-4885-8152-a19826064b59",
   "metadata": {},
   "outputs": [],
   "source": [
    "for i in grouby_school:\n",
    "    df=i[1]\n",
    "    print(df.iloc[:2, 0:4])"
   ]
  },
  {
   "cell_type": "markdown",
   "id": "e5dc1d58-7bc5-43a6-a345-45f9d65979dc",
   "metadata": {},
   "source": [
    "<p>This is an iterable.</p>"
   ]
  },
  {
   "cell_type": "code",
   "execution_count": null,
   "id": "082544da-7d1a-45d7-90e7-79cde283229a",
   "metadata": {},
   "outputs": [],
   "source": [
    "grouby_school['school'].count()"
   ]
  },
  {
   "cell_type": "code",
   "execution_count": null,
   "id": "067826b7-dc3a-41a2-bdca-172703bdc7ab",
   "metadata": {},
   "outputs": [],
   "source": [
    "student.groupby('school')[math_scores].mean()"
   ]
  },
  {
   "cell_type": "code",
   "execution_count": null,
   "id": "f1271c76-5aa4-4762-a795-156f4cd181c4",
   "metadata": {},
   "outputs": [],
   "source": [
    "student.groupby('school')[math_scores].aggregate([sum, np.mean]).transpose()"
   ]
  },
  {
   "cell_type": "markdown",
   "id": "caf38670-9ca0-4208-8e04-c3f1f2cdf2cb",
   "metadata": {},
   "source": [
    "#### Transform on groupby similiar to apply "
   ]
  },
  {
   "cell_type": "code",
   "execution_count": null,
   "id": "8d3c3a68-c381-4b27-8edc-062269c63b3e",
   "metadata": {},
   "outputs": [],
   "source": [
    "student_transformed = \\\n",
    "student.groupby('school')[math_scores].transform(lambda x: round(x+100.345435,2))\n",
    "\n",
    "student_transformed.head()"
   ]
  },
  {
   "cell_type": "markdown",
   "id": "f7544702-f29e-4044-a362-a8bd74d2bac3",
   "metadata": {},
   "source": [
    "#### Filter with groupby"
   ]
  },
  {
   "cell_type": "code",
   "execution_count": null,
   "id": "5a4dd483-cd9f-42d7-98c6-76140a24118b",
   "metadata": {},
   "outputs": [],
   "source": [
    "groupb_ft = student.groupby(['school', 'sex'])['freetime'].mean()\n",
    "groupb_ft"
   ]
  },
  {
   "cell_type": "code",
   "execution_count": null,
   "id": "9c9d1dbe-ed58-43cd-8406-f7038aa99611",
   "metadata": {},
   "outputs": [],
   "source": [
    "groupby_school_sex = student.groupby(['school', 'sex'])\n",
    "print(len(groupby_school_sex))"
   ]
  },
  {
   "cell_type": "code",
   "execution_count": null,
   "id": "5a99f14b-41db-44c8-a604-7c8516c273df",
   "metadata": {},
   "outputs": [],
   "source": [
    "groupby_school_sex['freetime'].count()\n"
   ]
  },
  {
   "cell_type": "code",
   "execution_count": null,
   "id": "1439ecc6-44f9-4b92-8d69-0bf6d17872af",
   "metadata": {},
   "outputs": [],
   "source": [
    "freetime_filter = \\\n",
    "groupby_school_sex.filter(lambda x: x['freetime'].count() > 2)\n",
    "\n",
    "freetime_filter[['school', 'sex', 'freetime']].value_counts()"
   ]
  },
  {
   "cell_type": "markdown",
   "id": "b0a2b3a5-92fb-44d6-bc90-128e7a19434a",
   "metadata": {},
   "source": [
    "#### The overweight heroes"
   ]
  },
  {
   "cell_type": "code",
   "execution_count": null,
   "id": "30c48836-4124-4eed-94ca-4f91ae1e600c",
   "metadata": {},
   "outputs": [],
   "source": [
    "heroes_2 = pd.read_csv('csv/heroes_information.csv')"
   ]
  },
  {
   "cell_type": "markdown",
   "id": "2969d9de-77f5-4407-a6c2-fc45e48ce138",
   "metadata": {},
   "source": [
    "#### Adding a BMI col"
   ]
  },
  {
   "cell_type": "code",
   "execution_count": null,
   "id": "8789a7d2-94f3-4551-9256-2eb78de3da46",
   "metadata": {},
   "outputs": [],
   "source": [
    "heroes_2['BMI'] = heroes_2.Weight / ((heroes_2.Height / 100) ** 2)"
   ]
  },
  {
   "cell_type": "code",
   "execution_count": null,
   "id": "dd21fc77-be39-43e0-9cc6-ba6bb2c8adb8",
   "metadata": {},
   "outputs": [],
   "source": [
    "heroes_2.info()"
   ]
  },
  {
   "cell_type": "code",
   "execution_count": null,
   "id": "bcd57d46-9903-4e5f-878c-81ef57b87fdc",
   "metadata": {},
   "outputs": [],
   "source": [
    "plt.scatter(heroes_2['Weight'], heroes_2['Height'], edgecolor='black', color='orange', s=50)\n",
    "plt.title('Relation of weight and height')\n",
    "plt.xlabel('Weight')\n",
    "plt.ylabel('Height')\n",
    "plt.show()"
   ]
  },
  {
   "cell_type": "code",
   "execution_count": null,
   "id": "771df884-d719-44f2-85f4-78f909216e8a",
   "metadata": {},
   "outputs": [],
   "source": [
    "plt.hist(heroes_2['BMI'], color='red', edgecolor='black', linewidth=5)\n",
    "plt.xlabel('BMI')\n",
    "plt.ylabel('Frequency')\n",
    "plt.title('Distribution of the BMI variable')\n",
    "plt.show()"
   ]
  },
  {
   "cell_type": "code",
   "execution_count": null,
   "id": "217ce53e-9906-4b0d-a018-a7f98b7a3abe",
   "metadata": {},
   "outputs": [],
   "source": [
    "sns.set_style('darkgrid')\n",
    "plt.subplots(1,1,figsize=(10,5))\n",
    "sns.boxplot(y='BMI', x='Alignment', data=heroes_2)\n",
    "plt.show()"
   ]
  },
  {
   "cell_type": "markdown",
   "id": "bd4dd28a-9f5c-4b49-a2e7-29691ee997ab",
   "metadata": {},
   "source": [
    "heroes_2.info()"
   ]
  },
  {
   "cell_type": "markdown",
   "id": "655d0b2b-0321-424b-b51b-808a1eddff76",
   "metadata": {},
   "source": [
    "#### Good or bad"
   ]
  },
  {
   "cell_type": "code",
   "execution_count": null,
   "id": "bf602fc5-3187-43b7-8212-49018fdbf250",
   "metadata": {},
   "outputs": [],
   "source": [
    "print(heroes_2['Alignment'].value_counts())"
   ]
  },
  {
   "cell_type": "code",
   "execution_count": null,
   "id": "6f6c0c08-9b4a-4a4a-9f2c-ce8752ed6ff2",
   "metadata": {},
   "outputs": [],
   "source": [
    "print(heroes_2['Race'].unique()[:10])"
   ]
  },
  {
   "cell_type": "code",
   "execution_count": null,
   "id": "f5629ed5-f44d-423c-aa07-b01fc4810700",
   "metadata": {},
   "outputs": [],
   "source": [
    "heroes_overweight = heroes_2[heroes_2['BMI'] > 30]\n",
    "\n",
    "print(heroes_2.shape)\n",
    "print(heroes_overweight.shape)\n",
    "print(heroes_overweight[['name', 'Alignment', 'Gender', 'BMI']].head(4))"
   ]
  },
  {
   "cell_type": "markdown",
   "id": "c7d56e5d-6140-4d38-a0ae-642177fb66e4",
   "metadata": {},
   "source": [
    "#### Mean BMI by race and gender"
   ]
  },
  {
   "cell_type": "code",
   "execution_count": null,
   "id": "47e782b7-31e0-4268-86d1-25cef2a92518",
   "metadata": {},
   "outputs": [],
   "source": [
    "heroes_aligned = heroes_2.groupby(['Alignment', 'Race'])\n",
    "print(len(heroes_aligned))"
   ]
  },
  {
   "cell_type": "code",
   "execution_count": null,
   "id": "839aec14-e14b-4f68-837e-be94e47e5da5",
   "metadata": {},
   "outputs": [],
   "source": [
    "heroes_size = heroes_aligned.size()\n",
    "\n",
    "print(type(heroes_size))\n",
    "print(heroes_size.shape)\n",
    "print(heroes_size.head())"
   ]
  },
  {
   "cell_type": "code",
   "execution_count": null,
   "id": "54b3cbec-99f0-45ff-b0bf-98ce0b86ad80",
   "metadata": {},
   "outputs": [],
   "source": [
    "# Keep only groups with more than 20 valid bmi observations\n",
    "heroes_aligned_filtered = heroes_aligned.filter(lambda x: x['BMI'].count() > 20)\n",
    "heroes_aligned_regrouped = heroes_aligned_filtered.groupby(['Race', 'Gender'])\n",
    "heroes_aligned_mean = heroes_aligned_regrouped ['BMI'].agg([np.mean, np.std])\n",
    "\n",
    "heroes_aligned_mean"
   ]
  },
  {
   "cell_type": "code",
   "execution_count": null,
   "id": "2242b513-b924-444b-9dd4-911eac7fd0cc",
   "metadata": {},
   "outputs": [],
   "source": [
    "heroes_2.isna().sum()"
   ]
  },
  {
   "cell_type": "code",
   "execution_count": null,
   "id": "746c2d18-8190-4ac1-8e66-92da01807d5d",
   "metadata": {},
   "outputs": [],
   "source": []
  }
 ],
 "metadata": {
  "kernelspec": {
   "display_name": "Python 3 (ipykernel)",
   "language": "python",
   "name": "python3"
  },
  "language_info": {
   "codemirror_mode": {
    "name": "ipython",
    "version": 3
   },
   "file_extension": ".py",
   "mimetype": "text/x-python",
   "name": "python",
   "nbconvert_exporter": "python",
   "pygments_lexer": "ipython3",
   "version": "3.7.10"
  }
 },
 "nbformat": 4,
 "nbformat_minor": 5
}
